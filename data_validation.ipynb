{
 "cells": [
  {
   "cell_type": "code",
   "execution_count": 1,
   "metadata": {},
   "outputs": [],
   "source": [
    "import pandas as pd\n",
    "import pickle"
   ]
  },
  {
   "cell_type": "code",
   "execution_count": 3,
   "metadata": {},
   "outputs": [
    {
     "name": "stderr",
     "output_type": "stream",
     "text": [
      "<ipython-input-3-bd529e87ba1a>:1: DtypeWarning: Columns (41,42,43,44,45,46,47,48,49,50,51,52) have mixed types. Specify dtype option on import or set low_memory=False.\n",
      "  ch_data = pd.read_csv('./comp_house.csv')\n"
     ]
    }
   ],
   "source": [
    "ch_data = pd.read_csv('./comp_house.csv')"
   ]
  },
  {
   "cell_type": "code",
   "execution_count": 4,
   "metadata": {},
   "outputs": [],
   "source": [
    "ch_data = ch_data[['CompanyName', ' CompanyNumber', \n",
    "       'RegAddress.POBox', 'RegAddress.AddressLine1',\n",
    "       ' RegAddress.AddressLine2', 'RegAddress.PostTown', 'RegAddress.County',\n",
    "       'RegAddress.Country', 'RegAddress.PostCode', \n",
    "       'CompanyStatus', 'CountryOfOrigin', \n",
    "       'IncorporationDate', \n",
    "       'SICCode.SicText_1', 'SICCode.SicText_2', 'SICCode.SicText_3',\n",
    "       'SICCode.SicText_4']]"
   ]
  },
  {
   "cell_type": "code",
   "execution_count": 6,
   "metadata": {},
   "outputs": [],
   "source": [
    " ch_data = ch_data[ch_data['SICCode.SicText_1'].str.contains(\n",
    "    \"^85|^92|^96|^59|^60|^61|^62|^63|^64|^66|^69|^70|^71|^72|^73|^74|^79|^82|^77|^78\")]"
   ]
  },
  {
   "cell_type": "code",
   "execution_count": 9,
   "metadata": {},
   "outputs": [
    {
     "data": {
      "text/html": "<div>\n<style scoped>\n    .dataframe tbody tr th:only-of-type {\n        vertical-align: middle;\n    }\n\n    .dataframe tbody tr th {\n        vertical-align: top;\n    }\n\n    .dataframe thead th {\n        text-align: right;\n    }\n</style>\n<table border=\"1\" class=\"dataframe\">\n  <thead>\n    <tr style=\"text-align: right;\">\n      <th></th>\n      <th>CompanyName</th>\n      <th>CompanyNumber</th>\n      <th>RegAddress.POBox</th>\n      <th>RegAddress.AddressLine1</th>\n      <th>RegAddress.AddressLine2</th>\n      <th>RegAddress.PostTown</th>\n      <th>RegAddress.County</th>\n      <th>RegAddress.Country</th>\n      <th>RegAddress.PostCode</th>\n      <th>CompanyStatus</th>\n      <th>CountryOfOrigin</th>\n      <th>IncorporationDate</th>\n      <th>SICCode.SicText_1</th>\n      <th>SICCode.SicText_2</th>\n      <th>SICCode.SicText_3</th>\n      <th>SICCode.SicText_4</th>\n    </tr>\n  </thead>\n  <tbody>\n    <tr>\n      <th>4</th>\n      <td>!GOBERUB LTD</td>\n      <td>13404790</td>\n      <td>NaN</td>\n      <td>13 SOUTHMILL ROAD</td>\n      <td>NaN</td>\n      <td>BISHOP'S STORTFORD</td>\n      <td>HERTFORDSHIRE</td>\n      <td>ENGLAND</td>\n      <td>CM23 3FR</td>\n      <td>Active</td>\n      <td>United Kingdom</td>\n      <td>17/05/2021</td>\n      <td>62020 - Information technology consultancy act...</td>\n      <td>70229 - Management consultancy activities othe...</td>\n      <td>79110 - Travel agency activities</td>\n      <td>NaN</td>\n    </tr>\n    <tr>\n      <th>6</th>\n      <td>!NNOV8 LIMITED</td>\n      <td>11006939</td>\n      <td>NaN</td>\n      <td>OLD BARN FARM</td>\n      <td>HARTFIELD ROAD</td>\n      <td>EDENBRIDGE</td>\n      <td>NaN</td>\n      <td>ENGLAND</td>\n      <td>TN8 5NF</td>\n      <td>Active</td>\n      <td>United Kingdom</td>\n      <td>11/10/2017</td>\n      <td>62090 - Other information technology service a...</td>\n      <td>70229 - Management consultancy activities othe...</td>\n      <td>NaN</td>\n      <td>NaN</td>\n    </tr>\n    <tr>\n      <th>8</th>\n      <td>!NSPIRED LTD</td>\n      <td>SC421617</td>\n      <td>NaN</td>\n      <td>26 POLMUIR ROAD</td>\n      <td>NaN</td>\n      <td>ABERDEEN</td>\n      <td>NaN</td>\n      <td>UNITED KINGDOM</td>\n      <td>AB11 7SY</td>\n      <td>Liquidation</td>\n      <td>United Kingdom</td>\n      <td>11/04/2012</td>\n      <td>70229 - Management consultancy activities othe...</td>\n      <td>NaN</td>\n      <td>NaN</td>\n      <td>NaN</td>\n    </tr>\n    <tr>\n      <th>11</th>\n      <td>!OBAC UK LIMITED</td>\n      <td>07687209</td>\n      <td>NaN</td>\n      <td>UNIT 9   BERRY COURT FARM BRAMLEY ROAD</td>\n      <td>LITTLE LONDON</td>\n      <td>TADLEY</td>\n      <td>HAMPSHIRE</td>\n      <td>NaN</td>\n      <td>RG26 5AT</td>\n      <td>Active</td>\n      <td>United Kingdom</td>\n      <td>29/06/2011</td>\n      <td>70229 - Management consultancy activities othe...</td>\n      <td>NaN</td>\n      <td>NaN</td>\n      <td>NaN</td>\n    </tr>\n    <tr>\n      <th>12</th>\n      <td>!T DROP LIMITED</td>\n      <td>13563692</td>\n      <td>NaN</td>\n      <td>INTERNATIONAL HOUSE</td>\n      <td>PARK STREET SOUTH</td>\n      <td>WOLVERHAMPTON</td>\n      <td>NaN</td>\n      <td>ENGLAND</td>\n      <td>WV2 3JH</td>\n      <td>Active - Proposal to Strike off</td>\n      <td>United Kingdom</td>\n      <td>12/08/2021</td>\n      <td>59200 - Sound recording and music publishing a...</td>\n      <td>85600 - Educational support services</td>\n      <td>90020 - Support activities to performing arts</td>\n      <td>90040 - Operation of arts facilities</td>\n    </tr>\n    <tr>\n      <th>...</th>\n      <td>...</td>\n      <td>...</td>\n      <td>...</td>\n      <td>...</td>\n      <td>...</td>\n      <td>...</td>\n      <td>...</td>\n      <td>...</td>\n      <td>...</td>\n      <td>...</td>\n      <td>...</td>\n      <td>...</td>\n      <td>...</td>\n      <td>...</td>\n      <td>...</td>\n      <td>...</td>\n    </tr>\n    <tr>\n      <th>5257961</th>\n      <td>‘LIVE THE BUZZ’ C.I.C.</td>\n      <td>13733947</td>\n      <td>NaN</td>\n      <td>1A ROUNDWAY</td>\n      <td>HEADINGTON</td>\n      <td>OXFORD</td>\n      <td>NaN</td>\n      <td>ENGLAND</td>\n      <td>OX3 8DH</td>\n      <td>Active</td>\n      <td>United Kingdom</td>\n      <td>10/11/2021</td>\n      <td>59112 - Video production activities</td>\n      <td>85600 - Educational support services</td>\n      <td>NaN</td>\n      <td>NaN</td>\n    </tr>\n    <tr>\n      <th>5257964</th>\n      <td>‘YOUR VALUES’ RECRUITMENT LTD</td>\n      <td>12151587</td>\n      <td>NaN</td>\n      <td>2 GREENHILL AVENUE</td>\n      <td>GREENHILL AVENUE</td>\n      <td>CATERHAM</td>\n      <td>NaN</td>\n      <td>ENGLAND</td>\n      <td>CR3 6PQ</td>\n      <td>Active - Proposal to Strike off</td>\n      <td>United Kingdom</td>\n      <td>12/08/2019</td>\n      <td>78300 - Human resources provision and manageme...</td>\n      <td>NaN</td>\n      <td>NaN</td>\n      <td>NaN</td>\n    </tr>\n    <tr>\n      <th>5257967</th>\n      <td>“IN THE WINGS” EVENT SERVICES LTD</td>\n      <td>SC730133</td>\n      <td>NaN</td>\n      <td>1/2 31 CLOAN AVENUE</td>\n      <td>NaN</td>\n      <td>GLASGOW</td>\n      <td>NaN</td>\n      <td>SCOTLAND</td>\n      <td>G15 6DB</td>\n      <td>Active</td>\n      <td>United Kingdom</td>\n      <td>20/04/2022</td>\n      <td>70229 - Management consultancy activities othe...</td>\n      <td>NaN</td>\n      <td>NaN</td>\n      <td>NaN</td>\n    </tr>\n    <tr>\n      <th>5257969</th>\n      <td>“Q-STAR TELENERGY HOLDINGS LIMITED</td>\n      <td>SC655320</td>\n      <td>NaN</td>\n      <td>FLAT 1/2 21 REDSHANK AVENUE</td>\n      <td>RENFREW</td>\n      <td>RENFREWSHIRE</td>\n      <td>NaN</td>\n      <td>SCOTLAND</td>\n      <td>PA4 8SG</td>\n      <td>Active</td>\n      <td>United Kingdom</td>\n      <td>21/02/2020</td>\n      <td>61200 - Wireless telecommunications activities</td>\n      <td>61300 - Satellite telecommunications activities</td>\n      <td>61900 - Other telecommunications activities</td>\n      <td>62090 - Other information technology service a...</td>\n    </tr>\n    <tr>\n      <th>5257970</th>\n      <td>“SAIL IN GREECE ADVENTURES” LTD</td>\n      <td>09511422</td>\n      <td>NaN</td>\n      <td>INTERNATIONAL HOUSE</td>\n      <td>24 HOLBORN VIADUCT</td>\n      <td>LONDON</td>\n      <td>NaN</td>\n      <td>ENGLAND</td>\n      <td>EC1A 2BN</td>\n      <td>Active</td>\n      <td>United Kingdom</td>\n      <td>26/03/2015</td>\n      <td>79120 - Tour operator activities</td>\n      <td>NaN</td>\n      <td>NaN</td>\n      <td>NaN</td>\n    </tr>\n  </tbody>\n</table>\n<p>1876848 rows × 16 columns</p>\n</div>",
      "text/plain": "                                CompanyName  CompanyNumber RegAddress.POBox  \\\n4                              !GOBERUB LTD       13404790              NaN   \n6                            !NNOV8 LIMITED       11006939              NaN   \n8                              !NSPIRED LTD       SC421617              NaN   \n11                         !OBAC UK LIMITED       07687209              NaN   \n12                          !T DROP LIMITED       13563692              NaN   \n...                                     ...            ...              ...   \n5257961              ‘LIVE THE BUZZ’ C.I.C.       13733947              NaN   \n5257964       ‘YOUR VALUES’ RECRUITMENT LTD       12151587              NaN   \n5257967   “IN THE WINGS” EVENT SERVICES LTD       SC730133              NaN   \n5257969  “Q-STAR TELENERGY HOLDINGS LIMITED       SC655320              NaN   \n5257970     “SAIL IN GREECE ADVENTURES” LTD       09511422              NaN   \n\n                        RegAddress.AddressLine1  RegAddress.AddressLine2  \\\n4                             13 SOUTHMILL ROAD                      NaN   \n6                                 OLD BARN FARM           HARTFIELD ROAD   \n8                               26 POLMUIR ROAD                      NaN   \n11       UNIT 9   BERRY COURT FARM BRAMLEY ROAD            LITTLE LONDON   \n12                          INTERNATIONAL HOUSE        PARK STREET SOUTH   \n...                                         ...                      ...   \n5257961                             1A ROUNDWAY               HEADINGTON   \n5257964                      2 GREENHILL AVENUE         GREENHILL AVENUE   \n5257967                     1/2 31 CLOAN AVENUE                      NaN   \n5257969             FLAT 1/2 21 REDSHANK AVENUE                  RENFREW   \n5257970                     INTERNATIONAL HOUSE       24 HOLBORN VIADUCT   \n\n        RegAddress.PostTown RegAddress.County RegAddress.Country  \\\n4        BISHOP'S STORTFORD     HERTFORDSHIRE            ENGLAND   \n6                EDENBRIDGE               NaN            ENGLAND   \n8                  ABERDEEN               NaN     UNITED KINGDOM   \n11                   TADLEY         HAMPSHIRE                NaN   \n12            WOLVERHAMPTON               NaN            ENGLAND   \n...                     ...               ...                ...   \n5257961              OXFORD               NaN            ENGLAND   \n5257964            CATERHAM               NaN            ENGLAND   \n5257967             GLASGOW               NaN           SCOTLAND   \n5257969        RENFREWSHIRE               NaN           SCOTLAND   \n5257970              LONDON               NaN            ENGLAND   \n\n        RegAddress.PostCode                    CompanyStatus CountryOfOrigin  \\\n4                  CM23 3FR                           Active  United Kingdom   \n6                   TN8 5NF                           Active  United Kingdom   \n8                  AB11 7SY                      Liquidation  United Kingdom   \n11                 RG26 5AT                           Active  United Kingdom   \n12                  WV2 3JH  Active - Proposal to Strike off  United Kingdom   \n...                     ...                              ...             ...   \n5257961             OX3 8DH                           Active  United Kingdom   \n5257964             CR3 6PQ  Active - Proposal to Strike off  United Kingdom   \n5257967             G15 6DB                           Active  United Kingdom   \n5257969             PA4 8SG                           Active  United Kingdom   \n5257970            EC1A 2BN                           Active  United Kingdom   \n\n        IncorporationDate                                  SICCode.SicText_1  \\\n4              17/05/2021  62020 - Information technology consultancy act...   \n6              11/10/2017  62090 - Other information technology service a...   \n8              11/04/2012  70229 - Management consultancy activities othe...   \n11             29/06/2011  70229 - Management consultancy activities othe...   \n12             12/08/2021  59200 - Sound recording and music publishing a...   \n...                   ...                                                ...   \n5257961        10/11/2021                59112 - Video production activities   \n5257964        12/08/2019  78300 - Human resources provision and manageme...   \n5257967        20/04/2022  70229 - Management consultancy activities othe...   \n5257969        21/02/2020     61200 - Wireless telecommunications activities   \n5257970        26/03/2015                   79120 - Tour operator activities   \n\n                                         SICCode.SicText_2  \\\n4        70229 - Management consultancy activities othe...   \n6        70229 - Management consultancy activities othe...   \n8                                                      NaN   \n11                                                     NaN   \n12                    85600 - Educational support services   \n...                                                    ...   \n5257961               85600 - Educational support services   \n5257964                                                NaN   \n5257967                                                NaN   \n5257969    61300 - Satellite telecommunications activities   \n5257970                                                NaN   \n\n                                     SICCode.SicText_3  \\\n4                     79110 - Travel agency activities   \n6                                                  NaN   \n8                                                  NaN   \n11                                                 NaN   \n12       90020 - Support activities to performing arts   \n...                                                ...   \n5257961                                            NaN   \n5257964                                            NaN   \n5257967                                            NaN   \n5257969    61900 - Other telecommunications activities   \n5257970                                            NaN   \n\n                                         SICCode.SicText_4  \n4                                                      NaN  \n6                                                      NaN  \n8                                                      NaN  \n11                                                     NaN  \n12                    90040 - Operation of arts facilities  \n...                                                    ...  \n5257961                                                NaN  \n5257964                                                NaN  \n5257967                                                NaN  \n5257969  62090 - Other information technology service a...  \n5257970                                                NaN  \n\n[1876848 rows x 16 columns]"
     },
     "execution_count": 9,
     "metadata": {},
     "output_type": "execute_result"
    }
   ],
   "source": [
    "ch_data"
   ]
  },
  {
   "cell_type": "code",
   "execution_count": 2,
   "metadata": {},
   "outputs": [],
   "source": [
    "london_intangibles = pd.read_pickle('./london_intangibles.pkl')"
   ]
  },
  {
   "cell_type": "code",
   "execution_count": 8,
   "metadata": {},
   "outputs": [],
   "source": [
    "london_postcodes = pd.read_csv('./london_postcodes-ons-postcodes-directory-feb22.csv')"
   ]
  },
  {
   "cell_type": "code",
   "execution_count": 11,
   "metadata": {},
   "outputs": [],
   "source": [
    "london_postcodes = london_postcodes['pcd'].tolist()\n",
    "london_ch = ch_data[ch_data['RegAddress.PostCode'].isin(london_postcodes)]"
   ]
  },
  {
   "cell_type": "code",
   "execution_count": 16,
   "metadata": {},
   "outputs": [
    {
     "data": {
      "text/plain": "W1W 7LT    6349\nW1W 5PF    3055\nCR2 6EQ    2593\nW1B 3HH    2226\nE14 9XQ    1773\n           ... \nBR6 7UP       1\nW11 3RA       1\nRM3 0NT       1\nNW1 1NT       1\nCR7 8BL       1\nName: RegAddress.PostCode, Length: 57496, dtype: int64"
     },
     "execution_count": 16,
     "metadata": {},
     "output_type": "execute_result"
    }
   ],
   "source": [
    "london_ch['RegAddress.PostCode'].value_counts()"
   ]
  },
  {
   "cell_type": "code",
   "execution_count": 18,
   "metadata": {},
   "outputs": [
    {
     "data": {
      "text/plain": "W1W 7LT    567\nW1B 3HH    320\nW1W 5PF    218\nW1T 6AD    152\nW1F 9JG    145\n          ... \nUB1 3DY      1\nN10 1AL      1\nTW1 4ES      1\nUB8 3AD      1\nCR2 0NP      1\nName: R/O Full Postcode.1, Length: 22072, dtype: int64"
     },
     "execution_count": 18,
     "metadata": {},
     "output_type": "execute_result"
    }
   ],
   "source": [
    "london_intangibles['R/O Full Postcode.1'].value_counts()"
   ]
  },
  {
   "cell_type": "code",
   "execution_count": 20,
   "metadata": {},
   "outputs": [
    {
     "data": {
      "text/plain": "W1W 7LT    576\nW1B 3HH    327\nW1W 5PF    220\nW1T 6AD    152\nW1F 9JG    146\n          ... \nE14 3EG      1\nIG3 8JQ      1\nRM3 8DA      1\nSE1 8EE      1\nCR2 0NP      1\nName: postcode, Length: 24508, dtype: int64"
     },
     "execution_count": 20,
     "metadata": {},
     "output_type": "execute_result"
    }
   ],
   "source": [
    "london_intangibles['postcode'].value_counts()"
   ]
  },
  {
   "cell_type": "code",
   "execution_count": null,
   "metadata": {},
   "outputs": [],
   "source": []
  }
 ],
 "metadata": {
  "kernelspec": {
   "display_name": "Python 3.8.5 64-bit ('paper_2': conda)",
   "name": "python385jvsc74a57bd0729747d0122db2a952d19eb48a1d90c923cd363d098eb45399cbf83686d65c20"
  },
  "language_info": {
   "codemirror_mode": {
    "name": "ipython",
    "version": 3
   },
   "file_extension": ".py",
   "mimetype": "text/x-python",
   "name": "python",
   "nbconvert_exporter": "python",
   "pygments_lexer": "ipython3",
   "version": "3.8.5"
  },
  "orig_nbformat": 2
 },
 "nbformat": 4,
 "nbformat_minor": 2
}