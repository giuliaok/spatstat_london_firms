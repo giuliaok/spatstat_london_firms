{
 "cells": [
  {
   "cell_type": "code",
   "execution_count": 1,
   "metadata": {},
   "outputs": [],
   "source": [
    "import pandas as pd"
   ]
  },
  {
   "cell_type": "code",
   "execution_count": 2,
   "metadata": {},
   "outputs": [
    {
     "name": "stderr",
     "output_type": "stream",
     "text": [
      "/Users/gocchini/opt/anaconda3/envs/bertopic/lib/python3.9/site-packages/IPython/core/interactiveshell.py:3444: DtypeWarning: Columns (41,42,43,44,45,46,47,48,49,50,51,52) have mixed types.Specify dtype option on import or set low_memory=False.\n",
      "  exec(code_obj, self.user_global_ns, self.user_ns)\n"
     ]
    }
   ],
   "source": [
    "ch_data = pd.read_csv('./comp_house.csv')"
   ]
  },
  {
   "cell_type": "code",
   "execution_count": 10,
   "metadata": {},
   "outputs": [],
   "source": [
    "ch_data = ch_data[['CompanyName', ' CompanyNumber', \n",
    "       'RegAddress.POBox', 'RegAddress.AddressLine1',\n",
    "       ' RegAddress.AddressLine2', 'RegAddress.PostTown', 'RegAddress.County',\n",
    "       'RegAddress.Country', 'RegAddress.PostCode', \n",
    "       'CompanyStatus', 'CountryOfOrigin', \n",
    "       'IncorporationDate', \n",
    "       'SICCode.SicText_1', 'SICCode.SicText_2', 'SICCode.SicText_3',\n",
    "       'SICCode.SicText_4']]"
   ]
  },
  {
   "cell_type": "code",
   "execution_count": 11,
   "metadata": {},
   "outputs": [
    {
     "data": {
      "text/html": "<div>\n<style scoped>\n    .dataframe tbody tr th:only-of-type {\n        vertical-align: middle;\n    }\n\n    .dataframe tbody tr th {\n        vertical-align: top;\n    }\n\n    .dataframe thead th {\n        text-align: right;\n    }\n</style>\n<table border=\"1\" class=\"dataframe\">\n  <thead>\n    <tr style=\"text-align: right;\">\n      <th></th>\n      <th>CompanyName</th>\n      <th>CompanyNumber</th>\n      <th>RegAddress.POBox</th>\n      <th>RegAddress.AddressLine1</th>\n      <th>RegAddress.AddressLine2</th>\n      <th>RegAddress.PostTown</th>\n      <th>RegAddress.County</th>\n      <th>RegAddress.Country</th>\n      <th>RegAddress.PostCode</th>\n      <th>CompanyStatus</th>\n      <th>CountryOfOrigin</th>\n      <th>IncorporationDate</th>\n      <th>SICCode.SicText_1</th>\n      <th>SICCode.SicText_2</th>\n      <th>SICCode.SicText_3</th>\n      <th>SICCode.SicText_4</th>\n    </tr>\n  </thead>\n  <tbody>\n    <tr>\n      <th>0</th>\n      <td>! HEAL UR TECH LTD</td>\n      <td>14413082</td>\n      <td>NaN</td>\n      <td>5 BRIDGE STREET</td>\n      <td>NaN</td>\n      <td>GUILDFORD</td>\n      <td>NaN</td>\n      <td>ENGLAND</td>\n      <td>GU1 4RY</td>\n      <td>Active</td>\n      <td>United Kingdom</td>\n      <td>12/10/2022</td>\n      <td>33140 - Repair of electrical equipment</td>\n      <td>47421 - Retail sale of mobile telephones</td>\n      <td>NaN</td>\n      <td>NaN</td>\n    </tr>\n    <tr>\n      <th>1</th>\n      <td>! LTD</td>\n      <td>08209948</td>\n      <td>NaN</td>\n      <td>METROHOUSE 57 PEPPER ROAD</td>\n      <td>HUNSLET</td>\n      <td>LEEDS</td>\n      <td>YORKSHIRE</td>\n      <td>NaN</td>\n      <td>LS10 2RU</td>\n      <td>Active</td>\n      <td>United Kingdom</td>\n      <td>11/09/2012</td>\n      <td>99999 - Dormant Company</td>\n      <td>NaN</td>\n      <td>NaN</td>\n      <td>NaN</td>\n    </tr>\n    <tr>\n      <th>2</th>\n      <td>!? LTD</td>\n      <td>11399177</td>\n      <td>NaN</td>\n      <td>THE STUDIO HATHERLOW HOUSE</td>\n      <td>HATHERLOW</td>\n      <td>ROMILEY</td>\n      <td>NaN</td>\n      <td>UNITED KINGDOM</td>\n      <td>SK6 3DY</td>\n      <td>Active</td>\n      <td>United Kingdom</td>\n      <td>05/06/2018</td>\n      <td>47710 - Retail sale of clothing in specialised...</td>\n      <td>NaN</td>\n      <td>NaN</td>\n      <td>NaN</td>\n    </tr>\n    <tr>\n      <th>3</th>\n      <td>!BIG IMPACT GRAPHICS LIMITED</td>\n      <td>11743365</td>\n      <td>NaN</td>\n      <td>372 OLD STREET</td>\n      <td>335 ROSDEN HOUSE</td>\n      <td>LONDON</td>\n      <td>NaN</td>\n      <td>UNITED KINGDOM</td>\n      <td>EC1V 9LT</td>\n      <td>Active</td>\n      <td>United Kingdom</td>\n      <td>28/12/2018</td>\n      <td>18129 - Printing n.e.c.</td>\n      <td>59112 - Video production activities</td>\n      <td>63120 - Web portals</td>\n      <td>74201 - Portrait photographic activities</td>\n    </tr>\n    <tr>\n      <th>4</th>\n      <td>!GOBERUB LTD</td>\n      <td>13404790</td>\n      <td>NaN</td>\n      <td>13 SOUTHMILL ROAD</td>\n      <td>NaN</td>\n      <td>BISHOP'S STORTFORD</td>\n      <td>HERTFORDSHIRE</td>\n      <td>ENGLAND</td>\n      <td>CM23 3FR</td>\n      <td>Active</td>\n      <td>United Kingdom</td>\n      <td>17/05/2021</td>\n      <td>62020 - Information technology consultancy act...</td>\n      <td>70229 - Management consultancy activities othe...</td>\n      <td>79110 - Travel agency activities</td>\n      <td>NaN</td>\n    </tr>\n    <tr>\n      <th>...</th>\n      <td>...</td>\n      <td>...</td>\n      <td>...</td>\n      <td>...</td>\n      <td>...</td>\n      <td>...</td>\n      <td>...</td>\n      <td>...</td>\n      <td>...</td>\n      <td>...</td>\n      <td>...</td>\n      <td>...</td>\n      <td>...</td>\n      <td>...</td>\n      <td>...</td>\n      <td>...</td>\n    </tr>\n    <tr>\n      <th>5257972</th>\n      <td>“THE GREENHOUSE” COMPANY LTD</td>\n      <td>11457383</td>\n      <td>NaN</td>\n      <td>IRONMASTER HOUSE</td>\n      <td>WYLE COP</td>\n      <td>SHREWSBURY</td>\n      <td>SHROPSHIRE</td>\n      <td>ENGLAND</td>\n      <td>SY1 1XF</td>\n      <td>Active</td>\n      <td>United Kingdom</td>\n      <td>10/07/2018</td>\n      <td>56101 - Licensed restaurants</td>\n      <td>NaN</td>\n      <td>NaN</td>\n      <td>NaN</td>\n    </tr>\n    <tr>\n      <th>5257973</th>\n      <td>“THE SKULL” SAUCE COMPANY LTD</td>\n      <td>SC660098</td>\n      <td>NaN</td>\n      <td>21/5 BURNBRAE PLACE</td>\n      <td>NaN</td>\n      <td>EDINBURGH</td>\n      <td>MIDLOTHIAN</td>\n      <td>NaN</td>\n      <td>EH12 8AR</td>\n      <td>Active</td>\n      <td>United Kingdom</td>\n      <td>28/04/2020</td>\n      <td>10840 - Manufacture of condiments and seasonings</td>\n      <td>NaN</td>\n      <td>NaN</td>\n      <td>NaN</td>\n    </tr>\n    <tr>\n      <th>5257974</th>\n      <td>“UGUR-97” FIRMASI LTD</td>\n      <td>13707057</td>\n      <td>NaN</td>\n      <td>60 BROMPTON ROAD</td>\n      <td>NaN</td>\n      <td>LONDON</td>\n      <td>NaN</td>\n      <td>UNITED KINGDOM</td>\n      <td>SW3 1BW</td>\n      <td>Active - Proposal to Strike off</td>\n      <td>United Kingdom</td>\n      <td>27/10/2021</td>\n      <td>68100 - Buying and selling of own real estate</td>\n      <td>NaN</td>\n      <td>NaN</td>\n      <td>NaN</td>\n    </tr>\n    <tr>\n      <th>5257975</th>\n      <td>€ RECYCLING LIMITED</td>\n      <td>04528854</td>\n      <td>NaN</td>\n      <td>CARDINGTON POINT</td>\n      <td>TELFORD WAY</td>\n      <td>BEDFORD</td>\n      <td>NaN</td>\n      <td>ENGLAND</td>\n      <td>MK42 0PQ</td>\n      <td>Active</td>\n      <td>United Kingdom</td>\n      <td>06/09/2002</td>\n      <td>99999 - Dormant Company</td>\n      <td>NaN</td>\n      <td>NaN</td>\n      <td>NaN</td>\n    </tr>\n    <tr>\n      <th>5257976</th>\n      <td>€URO IMPORTS LIMITED</td>\n      <td>08182582</td>\n      <td>NaN</td>\n      <td>414-416 BLACKPOOL ROAD</td>\n      <td>ASHTON-ON-RIBBLE</td>\n      <td>PRESTON</td>\n      <td>NaN</td>\n      <td>NaN</td>\n      <td>PR2 2DX</td>\n      <td>Active</td>\n      <td>United Kingdom</td>\n      <td>16/08/2012</td>\n      <td>46160 - Agents involved in the sale of textile...</td>\n      <td>NaN</td>\n      <td>NaN</td>\n      <td>NaN</td>\n    </tr>\n  </tbody>\n</table>\n<p>5257977 rows × 16 columns</p>\n</div>",
      "text/plain": "                           CompanyName  CompanyNumber RegAddress.POBox  \\\n0                   ! HEAL UR TECH LTD       14413082              NaN   \n1                                ! LTD       08209948              NaN   \n2                               !? LTD       11399177              NaN   \n3         !BIG IMPACT GRAPHICS LIMITED       11743365              NaN   \n4                         !GOBERUB LTD       13404790              NaN   \n...                                ...            ...              ...   \n5257972   “THE GREENHOUSE” COMPANY LTD       11457383              NaN   \n5257973  “THE SKULL” SAUCE COMPANY LTD       SC660098              NaN   \n5257974          “UGUR-97” FIRMASI LTD       13707057              NaN   \n5257975            € RECYCLING LIMITED       04528854              NaN   \n5257976           €URO IMPORTS LIMITED       08182582              NaN   \n\n            RegAddress.AddressLine1  RegAddress.AddressLine2  \\\n0                   5 BRIDGE STREET                      NaN   \n1         METROHOUSE 57 PEPPER ROAD                  HUNSLET   \n2        THE STUDIO HATHERLOW HOUSE                HATHERLOW   \n3                    372 OLD STREET         335 ROSDEN HOUSE   \n4                 13 SOUTHMILL ROAD                      NaN   \n...                             ...                      ...   \n5257972            IRONMASTER HOUSE                 WYLE COP   \n5257973         21/5 BURNBRAE PLACE                      NaN   \n5257974            60 BROMPTON ROAD                      NaN   \n5257975            CARDINGTON POINT              TELFORD WAY   \n5257976      414-416 BLACKPOOL ROAD         ASHTON-ON-RIBBLE   \n\n        RegAddress.PostTown RegAddress.County RegAddress.Country  \\\n0                 GUILDFORD               NaN            ENGLAND   \n1                     LEEDS         YORKSHIRE                NaN   \n2                   ROMILEY               NaN     UNITED KINGDOM   \n3                    LONDON               NaN     UNITED KINGDOM   \n4        BISHOP'S STORTFORD     HERTFORDSHIRE            ENGLAND   \n...                     ...               ...                ...   \n5257972          SHREWSBURY        SHROPSHIRE            ENGLAND   \n5257973           EDINBURGH        MIDLOTHIAN                NaN   \n5257974              LONDON               NaN     UNITED KINGDOM   \n5257975             BEDFORD               NaN            ENGLAND   \n5257976             PRESTON               NaN                NaN   \n\n        RegAddress.PostCode                    CompanyStatus CountryOfOrigin  \\\n0                   GU1 4RY                           Active  United Kingdom   \n1                  LS10 2RU                           Active  United Kingdom   \n2                   SK6 3DY                           Active  United Kingdom   \n3                  EC1V 9LT                           Active  United Kingdom   \n4                  CM23 3FR                           Active  United Kingdom   \n...                     ...                              ...             ...   \n5257972             SY1 1XF                           Active  United Kingdom   \n5257973            EH12 8AR                           Active  United Kingdom   \n5257974             SW3 1BW  Active - Proposal to Strike off  United Kingdom   \n5257975            MK42 0PQ                           Active  United Kingdom   \n5257976             PR2 2DX                           Active  United Kingdom   \n\n        IncorporationDate                                  SICCode.SicText_1  \\\n0              12/10/2022             33140 - Repair of electrical equipment   \n1              11/09/2012                            99999 - Dormant Company   \n2              05/06/2018  47710 - Retail sale of clothing in specialised...   \n3              28/12/2018                            18129 - Printing n.e.c.   \n4              17/05/2021  62020 - Information technology consultancy act...   \n...                   ...                                                ...   \n5257972        10/07/2018                       56101 - Licensed restaurants   \n5257973        28/04/2020   10840 - Manufacture of condiments and seasonings   \n5257974        27/10/2021      68100 - Buying and selling of own real estate   \n5257975        06/09/2002                            99999 - Dormant Company   \n5257976        16/08/2012  46160 - Agents involved in the sale of textile...   \n\n                                         SICCode.SicText_2  \\\n0                 47421 - Retail sale of mobile telephones   \n1                                                      NaN   \n2                                                      NaN   \n3                      59112 - Video production activities   \n4        70229 - Management consultancy activities othe...   \n...                                                    ...   \n5257972                                                NaN   \n5257973                                                NaN   \n5257974                                                NaN   \n5257975                                                NaN   \n5257976                                                NaN   \n\n                        SICCode.SicText_3  \\\n0                                     NaN   \n1                                     NaN   \n2                                     NaN   \n3                     63120 - Web portals   \n4        79110 - Travel agency activities   \n...                                   ...   \n5257972                               NaN   \n5257973                               NaN   \n5257974                               NaN   \n5257975                               NaN   \n5257976                               NaN   \n\n                                SICCode.SicText_4  \n0                                             NaN  \n1                                             NaN  \n2                                             NaN  \n3        74201 - Portrait photographic activities  \n4                                             NaN  \n...                                           ...  \n5257972                                       NaN  \n5257973                                       NaN  \n5257974                                       NaN  \n5257975                                       NaN  \n5257976                                       NaN  \n\n[5257977 rows x 16 columns]"
     },
     "execution_count": 11,
     "metadata": {},
     "output_type": "execute_result"
    }
   ],
   "source": [
    " ch_data"
   ]
  },
  {
   "cell_type": "code",
   "execution_count": null,
   "metadata": {},
   "outputs": [],
   "source": []
  }
 ],
 "metadata": {
  "kernelspec": {
   "display_name": "Python 3.9.7 64-bit ('bertopic': conda)",
   "name": "python397jvsc74a57bd0b389cf007b8b489ba6eb27a7aad9da3094fbdd390da7550691e2b43641ff27f0"
  },
  "language_info": {
   "codemirror_mode": {
    "name": "ipython",
    "version": 3
   },
   "file_extension": ".py",
   "mimetype": "text/x-python",
   "name": "python",
   "nbconvert_exporter": "python",
   "pygments_lexer": "ipython3",
   "version": "3.9.7"
  },
  "orig_nbformat": 2
 },
 "nbformat": 4,
 "nbformat_minor": 2
}