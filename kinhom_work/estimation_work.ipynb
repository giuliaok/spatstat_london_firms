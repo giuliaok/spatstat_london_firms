{
 "cells": [
  {
   "cell_type": "code",
   "execution_count": 87,
   "metadata": {},
   "outputs": [],
   "source": [
    "import pandas as pd\n",
    "import math\n",
    "from scipy import spatial\n",
    "import libpysal as ps\n",
    "import numpy as np\n",
    "from pointpats import PointPattern\n",
    "from pointpats import PoissonPointProcess, PoissonClusterPointProcess, Window, poly_from_bbox, PointPattern\n",
    "import libpysal as ps\n",
    "from libpysal.cg import shapely_ext\n",
    "%matplotlib inline\n",
    "import matplotlib.pyplot as plt\n",
    "import pointpats.quadrat_statistics as qs\n",
    "from pointpats import PointPattern, as_window\n",
    "from pointpats import PoissonPointProcess as csr\n",
    "from pointpats.geometry import *\n",
    "from pointpats.geometry import (prepare_hull as _prepare_hull,     area as _area,\n",
    "    k_neighbors as _k_neighbors,\n",
    "    build_best_tree as _build_best_tree,\n",
    "    prepare_hull as _prepare_hull,\n",
    "    TREE_TYPES,\n",
    ")\n",
    "from pointpats.ripley import _prepare # very important to prepare data :)"
   ]
  },
  {
   "cell_type": "code",
   "execution_count": 65,
   "metadata": {},
   "outputs": [],
   "source": [
    "def kinhom(coords_array):\n",
    "    coordinates, support, distances, metric, hull, edge_correction = _prepare(\n",
    "            coords_array, support=None,\n",
    "        distances=None,\n",
    "        metric=\"euclidean\",\n",
    "        hull=None,\n",
    "        edge_correction=None,\n",
    "        )\n",
    "\n",
    "    hull = _prepare_hull(coords_array, hull = None)\n",
    "\n",
    "    n = coordinates.shape[0]\n",
    "    upper_tri_distances = spatial.distance.pdist(coordinates, metric='euclidean') # OK  DISTANCES \n",
    "    n_pairs_less_than_d = (upper_tri_distances < support.reshape(-1, 1)).sum(axis=1) # N PAIRS LESS THAN DISTANCES \n",
    "    lambda_1 = n / _area(hull) #INTENSITY \n",
    "    k_estimate = ((n_pairs_less_than_d * 2) / n) / lambda_1 # OK  ((N PAIRS LESS THAN DISTANCE * 2) / N POINTS )/ INTENSITY    #BRING UP THE POINT FROM BADDELEY THAT ITS SHOULD BE N-1\\HULL AREAS (PP 204)\n",
    "    uno_fratto_a = 1/ _area(hull)\n",
    "    lambda_2 = (n * (n - 1)) / (_area(hull))**2\n",
    "    k_inhom_estimate = ((n_pairs_less_than_d *2) / (lambda_2)) * uno_fratto_a\n",
    "    return support, k_inhom_estimate"
   ]
  },
  {
   "cell_type": "markdown",
   "metadata": {},
   "source": [
    "# Calculate Kinhom on simulated points "
   ]
  },
  {
   "cell_type": "code",
   "execution_count": 226,
   "metadata": {},
   "outputs": [],
   "source": [
    "simulated_companies = pd.read_pickle('./simulated_companies.pkl')\n",
    "simulated_companies.columns = [['lat', 'long']]\n",
    "def coords_to_array(df): \n",
    "    df['array'] = df.apply(lambda x: np.array(list(zip(x['lat'], x['long']))), axis = 1) \n",
    "    return df\n",
    "array_df = coords_to_array(simulated_companies)\n",
    "list_of_arrays = array_df['array'].values.tolist()\n",
    "kinhom_values = []\n",
    "for x in list_of_arrays:\n",
    "    for array in x: \n",
    "        kinhom_lista = kinhom(array)\n",
    "        kinhom_values.append(kinhom_lista)\n",
    "kinhom_estimates = pd.DataFrame(kinhom_values, columns = ['support', 'kinhom_estimate'])"
   ]
  },
  {
   "cell_type": "markdown",
   "metadata": {},
   "source": [
    "# Calculate L transformation"
   ]
  },
  {
   "cell_type": "code",
   "execution_count": 96,
   "metadata": {},
   "outputs": [],
   "source": [
    "def L_function(list_of_estimates):\n",
    "    L = [math.sqrt(x/math.pi) for x in list_of_estimates]\n",
    "    return L\n",
    "kinhom_estimates['l_estimates'] = kinhom_estimates['kinhom_estimate'].apply(L_function)"
   ]
  },
  {
   "cell_type": "code",
   "execution_count": 99,
   "metadata": {},
   "outputs": [
    {
     "data": {
      "text/html": "<div>\n<style scoped>\n    .dataframe tbody tr th:only-of-type {\n        vertical-align: middle;\n    }\n\n    .dataframe tbody tr th {\n        vertical-align: top;\n    }\n\n    .dataframe thead th {\n        text-align: right;\n    }\n</style>\n<table border=\"1\" class=\"dataframe\">\n  <thead>\n    <tr style=\"text-align: right;\">\n      <th></th>\n      <th>support</th>\n      <th>kinhom_estimate</th>\n      <th>l_estimates</th>\n    </tr>\n  </thead>\n  <tbody>\n    <tr>\n      <th>0</th>\n      <td>[0.0, 0.005843940808605459, 0.0116878816172109...</td>\n      <td>[0.0, 0.0001255911684666141, 0.000753547010799...</td>\n      <td>[0.0, 0.006322729674776331, 0.0154874614847554...</td>\n    </tr>\n    <tr>\n      <th>1</th>\n      <td>[0.0, 0.004690301043119766, 0.0093806020862395...</td>\n      <td>[0.0, 0.0001289552533311945, 0.000386865759993...</td>\n      <td>[0.0, 0.006406850397087044, 0.0110969904042475...</td>\n    </tr>\n    <tr>\n      <th>2</th>\n      <td>[0.0, 0.004019622042128335, 0.0080392440842566...</td>\n      <td>[0.0, 0.0001336463525582218, 0.000133646352558...</td>\n      <td>[0.0, 0.006522342774777047, 0.0065223427747770...</td>\n    </tr>\n    <tr>\n      <th>3</th>\n      <td>[0.0, 0.008317952651485832, 0.0166359053029716...</td>\n      <td>[0.0, 0.00039152049783559454, 0.00091354782828...</td>\n      <td>[0.0, 0.011163549843336984, 0.0170526040605013...</td>\n    </tr>\n    <tr>\n      <th>4</th>\n      <td>[0.0, 0.012343536506338812, 0.0246870730126776...</td>\n      <td>[0.0, 0.00045996181682514176, 0.00383301514020...</td>\n      <td>[0.0, 0.012100016262902313, 0.0349297382329275...</td>\n    </tr>\n    <tr>\n      <th>...</th>\n      <td>...</td>\n      <td>...</td>\n      <td>...</td>\n    </tr>\n    <tr>\n      <th>995</th>\n      <td>[0.0, 0.00748284661663554, 0.01496569323327108...</td>\n      <td>[0.0, 0.00029271944182663353, 0.00146359720913...</td>\n      <td>[0.0, 0.009652745319939735, 0.0215841947048782...</td>\n    </tr>\n    <tr>\n      <th>996</th>\n      <td>[0.0, 0.010390779877309068, 0.0207815597546181...</td>\n      <td>[0.0, 0.00036711996074315203, 0.00357941961724...</td>\n      <td>[0.0, 0.010810083853511518, 0.0337544760138491...</td>\n    </tr>\n    <tr>\n      <th>997</th>\n      <td>[0.0, 0.004667899100341413, 0.0093357982006828...</td>\n      <td>[0.0, 0.00013795580038456656, 0.00048284530134...</td>\n      <td>[0.0, 0.006626665460003631, 0.0123973558840511...</td>\n    </tr>\n    <tr>\n      <th>998</th>\n      <td>[0.0, 0.0077147498361330785, 0.015429499672266...</td>\n      <td>[0.0, 0.0002095156374600483, 0.001466609462220...</td>\n      <td>[0.0, 0.00816644957822139, 0.02160639467832211...</td>\n    </tr>\n    <tr>\n      <th>999</th>\n      <td>[0.0, 0.005025475174135321, 0.0100509503482706...</td>\n      <td>[0.0, 0.0002985255656989363, 0.001044839479946...</td>\n      <td>[0.0, 0.009748006916317825, 0.0182368510423820...</td>\n    </tr>\n  </tbody>\n</table>\n<p>1000 rows × 3 columns</p>\n</div>",
      "text/plain": "                                               support  \\\n0    [0.0, 0.005843940808605459, 0.0116878816172109...   \n1    [0.0, 0.004690301043119766, 0.0093806020862395...   \n2    [0.0, 0.004019622042128335, 0.0080392440842566...   \n3    [0.0, 0.008317952651485832, 0.0166359053029716...   \n4    [0.0, 0.012343536506338812, 0.0246870730126776...   \n..                                                 ...   \n995  [0.0, 0.00748284661663554, 0.01496569323327108...   \n996  [0.0, 0.010390779877309068, 0.0207815597546181...   \n997  [0.0, 0.004667899100341413, 0.0093357982006828...   \n998  [0.0, 0.0077147498361330785, 0.015429499672266...   \n999  [0.0, 0.005025475174135321, 0.0100509503482706...   \n\n                                       kinhom_estimate  \\\n0    [0.0, 0.0001255911684666141, 0.000753547010799...   \n1    [0.0, 0.0001289552533311945, 0.000386865759993...   \n2    [0.0, 0.0001336463525582218, 0.000133646352558...   \n3    [0.0, 0.00039152049783559454, 0.00091354782828...   \n4    [0.0, 0.00045996181682514176, 0.00383301514020...   \n..                                                 ...   \n995  [0.0, 0.00029271944182663353, 0.00146359720913...   \n996  [0.0, 0.00036711996074315203, 0.00357941961724...   \n997  [0.0, 0.00013795580038456656, 0.00048284530134...   \n998  [0.0, 0.0002095156374600483, 0.001466609462220...   \n999  [0.0, 0.0002985255656989363, 0.001044839479946...   \n\n                                           l_estimates  \n0    [0.0, 0.006322729674776331, 0.0154874614847554...  \n1    [0.0, 0.006406850397087044, 0.0110969904042475...  \n2    [0.0, 0.006522342774777047, 0.0065223427747770...  \n3    [0.0, 0.011163549843336984, 0.0170526040605013...  \n4    [0.0, 0.012100016262902313, 0.0349297382329275...  \n..                                                 ...  \n995  [0.0, 0.009652745319939735, 0.0215841947048782...  \n996  [0.0, 0.010810083853511518, 0.0337544760138491...  \n997  [0.0, 0.006626665460003631, 0.0123973558840511...  \n998  [0.0, 0.00816644957822139, 0.02160639467832211...  \n999  [0.0, 0.009748006916317825, 0.0182368510423820...  \n\n[1000 rows x 3 columns]"
     },
     "execution_count": 99,
     "metadata": {},
     "output_type": "execute_result"
    }
   ],
   "source": [
    "kinhom_estimates"
   ]
  },
  {
   "cell_type": "markdown",
   "metadata": {},
   "source": [
    "# Find Null L(d)s"
   ]
  },
  {
   "cell_type": "markdown",
   "metadata": {},
   "source": [
    "## case data (digital) + distance calculation"
   ]
  },
  {
   "cell_type": "code",
   "execution_count": 232,
   "metadata": {},
   "outputs": [],
   "source": [
    "list_of_arrays = simulated_companies['array'].values.tolist()\n",
    "sampled_cases = [x[0][np.random.choice(x[0].shape[0], size=5, replace = False), :] for x in list_of_arrays]\n",
    "simulated_companies['sample_cases'] = sampled_cases"
   ]
  },
  {
   "cell_type": "code",
   "execution_count": 201,
   "metadata": {},
   "outputs": [
    {
     "data": {
      "text/html": "<div>\n<style scoped>\n    .dataframe tbody tr th:only-of-type {\n        vertical-align: middle;\n    }\n\n    .dataframe tbody tr th {\n        vertical-align: top;\n    }\n\n    .dataframe thead th {\n        text-align: right;\n    }\n</style>\n<table border=\"1\" class=\"dataframe\">\n  <thead>\n    <tr style=\"text-align: right;\">\n      <th></th>\n      <th>array</th>\n      <th>sampled_cases</th>\n    </tr>\n  </thead>\n  <tbody>\n    <tr>\n      <th>0</th>\n      <td>[[1, 2], [3, 4], [5, 6]]</td>\n      <td>[[3, 4], [1, 2]]</td>\n    </tr>\n    <tr>\n      <th>1</th>\n      <td>[[1, 2], [3, 4], [5, 6]]</td>\n      <td>[[1, 2], [1, 2]]</td>\n    </tr>\n  </tbody>\n</table>\n</div>",
      "text/plain": "                      array     sampled_cases\n0  [[1, 2], [3, 4], [5, 6]]  [[3, 4], [1, 2]]\n1  [[1, 2], [3, 4], [5, 6]]  [[1, 2], [1, 2]]"
     },
     "execution_count": 201,
     "metadata": {},
     "output_type": "execute_result"
    }
   ],
   "source": [
    "x = np.array([[1,2],[3,4],[5,6]])\n",
    "df = pd.DataFrame()\n",
    "df[\"array\"] = [x, x]\n",
    "df['sampled_cases'] = df['array'].apply(lambda x : x[np.random.choice(x.shape[0], 2)])\n",
    "df"
   ]
  },
  {
   "cell_type": "code",
   "execution_count": null,
   "metadata": {},
   "outputs": [],
   "source": []
  },
  {
   "cell_type": "markdown",
   "metadata": {},
   "source": [
    "## control data (all)"
   ]
  },
  {
   "cell_type": "code",
   "execution_count": 235,
   "metadata": {},
   "outputs": [],
   "source": [
    "list_of_arrays = simulated_companies['array'].values.tolist()\n",
    "sampled_controls = [x[0][np.random.choice(x[0].shape[0], size=5, replace = False), :] for x in list_of_arrays]\n",
    "simulated_companies['sample_controls'] = sampled_controls"
   ]
  },
  {
   "cell_type": "code",
   "execution_count": 237,
   "metadata": {},
   "outputs": [
    {
     "data": {
      "text/html": "<div>\n<style scoped>\n    .dataframe tbody tr th:only-of-type {\n        vertical-align: middle;\n    }\n\n    .dataframe tbody tr th {\n        vertical-align: top;\n    }\n\n    .dataframe thead tr th {\n        text-align: left;\n    }\n</style>\n<table border=\"1\" class=\"dataframe\">\n  <thead>\n    <tr>\n      <th></th>\n      <th>lat</th>\n      <th>long</th>\n      <th>array</th>\n      <th>sample_cases</th>\n      <th>sample_controls</th>\n    </tr>\n  </thead>\n  <tbody>\n    <tr>\n      <th>0</th>\n      <td>[51.54218582497672, 51.589472314705674, 51.381...</td>\n      <td>[-0.0874064825256965, -0.24605053217241302, -0...</td>\n      <td>[[51.54218582497672, -0.0874064825256965], [51...</td>\n      <td>[[51.540058860578284, -0.15367437950814467], [...</td>\n      <td>[[51.62686312200529, -0.20409681102874566], [5...</td>\n    </tr>\n    <tr>\n      <th>1</th>\n      <td>[51.55988941008741, 51.46151770699342, 51.4621...</td>\n      <td>[-0.2039481156403623, -0.10841744337054215, -0...</td>\n      <td>[[51.55988941008741, -0.2039481156403623], [51...</td>\n      <td>[[51.35327031169856, -0.24312197030527327], [5...</td>\n      <td>[[51.64812764556005, 0.0421331591972921], [51....</td>\n    </tr>\n    <tr>\n      <th>2</th>\n      <td>[51.56214130611294, 51.51280788687047, 51.3606...</td>\n      <td>[-0.12966170920812858, -0.2826523378177931, -0...</td>\n      <td>[[51.56214130611294, -0.12966170920812858], [5...</td>\n      <td>[[51.59572766560016, 0.012211467041787327], [5...</td>\n      <td>[[51.36063622075598, -0.1410989364580325], [51...</td>\n    </tr>\n    <tr>\n      <th>3</th>\n      <td>[51.56170641195442, 51.52023769828351, 51.4886...</td>\n      <td>[-0.166205136211394, -0.13644063967513753, -0....</td>\n      <td>[[51.56170641195442, -0.166205136211394], [51....</td>\n      <td>[[51.54525145853793, 0.07155797156247579], [51...</td>\n      <td>[[51.59649003453747, -0.113847583564047], [51....</td>\n    </tr>\n    <tr>\n      <th>4</th>\n      <td>[51.4906797623787, 51.497014131477584, 51.5169...</td>\n      <td>[-0.1896979435260494, -0.17099360746609682, -0...</td>\n      <td>[[51.4906797623787, -0.1896979435260494], [51....</td>\n      <td>[[51.47399498096957, -0.07408149733248026], [5...</td>\n      <td>[[51.53715648758911, -0.13194912267099246], [5...</td>\n    </tr>\n    <tr>\n      <th>...</th>\n      <td>...</td>\n      <td>...</td>\n      <td>...</td>\n      <td>...</td>\n      <td>...</td>\n    </tr>\n    <tr>\n      <th>995</th>\n      <td>[51.63935421745579, 51.706750976828324, 51.542...</td>\n      <td>[-0.07261284013816416, -0.009181363548142474, ...</td>\n      <td>[[51.63935421745579, -0.07261284013816416], [5...</td>\n      <td>[[51.436794597752765, 0.044096045478457024], [...</td>\n      <td>[[51.52995463041917, -0.09372235010363428], [5...</td>\n    </tr>\n    <tr>\n      <th>996</th>\n      <td>[51.61569290725654, 51.63541106925196, 51.5147...</td>\n      <td>[0.11716453816526606, 0.122925519204793, -0.16...</td>\n      <td>[[51.61569290725654, 0.11716453816526606], [51...</td>\n      <td>[[51.50069525264207, -0.19122464053460198], [5...</td>\n      <td>[[51.45793383096564, -0.21708944092804938], [5...</td>\n    </tr>\n    <tr>\n      <th>997</th>\n      <td>[51.52412280586476, 51.491516413109416, 51.459...</td>\n      <td>[-0.14427792343017554, -0.3858098677670566, 0....</td>\n      <td>[[51.52412280586476, -0.14427792343017554], [5...</td>\n      <td>[[51.56718379921012, -0.2482630947199408], [51...</td>\n      <td>[[51.616346064199846, -0.006877216491134486], ...</td>\n    </tr>\n    <tr>\n      <th>998</th>\n      <td>[51.57654497729315, 51.54095405036929, 51.5460...</td>\n      <td>[0.05455564471325014, -0.27824276403446013, -0...</td>\n      <td>[[51.57654497729315, 0.05455564471325014], [51...</td>\n      <td>[[51.63956379417189, -0.06530279121795612], [5...</td>\n      <td>[[51.63956379417189, -0.06530279121795612], [5...</td>\n    </tr>\n    <tr>\n      <th>999</th>\n      <td>[51.44299749780185, 51.53452251092088, 51.4039...</td>\n      <td>[-0.27554028246115225, -0.11475072327013958, 0...</td>\n      <td>[[51.44299749780185, -0.27554028246115225], [5...</td>\n      <td>[[51.56074059273101, -0.1766290227720636], [51...</td>\n      <td>[[51.45208064049655, -0.23765277178967936], [5...</td>\n    </tr>\n  </tbody>\n</table>\n<p>1000 rows × 5 columns</p>\n</div>",
      "text/plain": "                                                   lat  \\\n0    [51.54218582497672, 51.589472314705674, 51.381...   \n1    [51.55988941008741, 51.46151770699342, 51.4621...   \n2    [51.56214130611294, 51.51280788687047, 51.3606...   \n3    [51.56170641195442, 51.52023769828351, 51.4886...   \n4    [51.4906797623787, 51.497014131477584, 51.5169...   \n..                                                 ...   \n995  [51.63935421745579, 51.706750976828324, 51.542...   \n996  [51.61569290725654, 51.63541106925196, 51.5147...   \n997  [51.52412280586476, 51.491516413109416, 51.459...   \n998  [51.57654497729315, 51.54095405036929, 51.5460...   \n999  [51.44299749780185, 51.53452251092088, 51.4039...   \n\n                                                  long  \\\n0    [-0.0874064825256965, -0.24605053217241302, -0...   \n1    [-0.2039481156403623, -0.10841744337054215, -0...   \n2    [-0.12966170920812858, -0.2826523378177931, -0...   \n3    [-0.166205136211394, -0.13644063967513753, -0....   \n4    [-0.1896979435260494, -0.17099360746609682, -0...   \n..                                                 ...   \n995  [-0.07261284013816416, -0.009181363548142474, ...   \n996  [0.11716453816526606, 0.122925519204793, -0.16...   \n997  [-0.14427792343017554, -0.3858098677670566, 0....   \n998  [0.05455564471325014, -0.27824276403446013, -0...   \n999  [-0.27554028246115225, -0.11475072327013958, 0...   \n\n                                                 array  \\\n0    [[51.54218582497672, -0.0874064825256965], [51...   \n1    [[51.55988941008741, -0.2039481156403623], [51...   \n2    [[51.56214130611294, -0.12966170920812858], [5...   \n3    [[51.56170641195442, -0.166205136211394], [51....   \n4    [[51.4906797623787, -0.1896979435260494], [51....   \n..                                                 ...   \n995  [[51.63935421745579, -0.07261284013816416], [5...   \n996  [[51.61569290725654, 0.11716453816526606], [51...   \n997  [[51.52412280586476, -0.14427792343017554], [5...   \n998  [[51.57654497729315, 0.05455564471325014], [51...   \n999  [[51.44299749780185, -0.27554028246115225], [5...   \n\n                                          sample_cases  \\\n0    [[51.540058860578284, -0.15367437950814467], [...   \n1    [[51.35327031169856, -0.24312197030527327], [5...   \n2    [[51.59572766560016, 0.012211467041787327], [5...   \n3    [[51.54525145853793, 0.07155797156247579], [51...   \n4    [[51.47399498096957, -0.07408149733248026], [5...   \n..                                                 ...   \n995  [[51.436794597752765, 0.044096045478457024], [...   \n996  [[51.50069525264207, -0.19122464053460198], [5...   \n997  [[51.56718379921012, -0.2482630947199408], [51...   \n998  [[51.63956379417189, -0.06530279121795612], [5...   \n999  [[51.56074059273101, -0.1766290227720636], [51...   \n\n                                       sample_controls  \n0    [[51.62686312200529, -0.20409681102874566], [5...  \n1    [[51.64812764556005, 0.0421331591972921], [51....  \n2    [[51.36063622075598, -0.1410989364580325], [51...  \n3    [[51.59649003453747, -0.113847583564047], [51....  \n4    [[51.53715648758911, -0.13194912267099246], [5...  \n..                                                 ...  \n995  [[51.52995463041917, -0.09372235010363428], [5...  \n996  [[51.45793383096564, -0.21708944092804938], [5...  \n997  [[51.616346064199846, -0.006877216491134486], ...  \n998  [[51.63956379417189, -0.06530279121795612], [5...  \n999  [[51.45208064049655, -0.23765277178967936], [5...  \n\n[1000 rows x 5 columns]"
     },
     "execution_count": 237,
     "metadata": {},
     "output_type": "execute_result"
    }
   ],
   "source": [
    "simulated_companies"
   ]
  },
  {
   "cell_type": "code",
   "execution_count": 250,
   "metadata": {},
   "outputs": [],
   "source": [
    "# calc distances(d) on sample cases "
   ]
  },
  {
   "cell_type": "code",
   "execution_count": 247,
   "metadata": {},
   "outputs": [],
   "source": [
    "def distances(coords_array):\n",
    "    coordinates, support, distances, metric, hull, edge_correction = _prepare(\n",
    "            coords_array, support=None,\n",
    "        distances=None,\n",
    "        metric=\"euclidean\",\n",
    "        hull=None,\n",
    "        edge_correction=None,\n",
    "        )\n",
    "\n",
    "    upper_tri_distances = spatial.distance.pdist(coordinates, metric='euclidean') # OK  DISTANCES \n",
    "    n_pairs_less_than_d = (upper_tri_distances < support.reshape(-1, 1)).sum(axis=1) # N PAIRS LESS THAN DISTANCES \n",
    "    return n_pairs_less_than_d"
   ]
  },
  {
   "cell_type": "code",
   "execution_count": 255,
   "metadata": {},
   "outputs": [],
   "source": [
    "list_of_arrays = simulated_companies['sample_cases'].values.tolist()\n",
    "distance = []\n",
    "for x in list_of_arrays:\n",
    "    for array in x: \n",
    "        distances0 = distances(array)\n",
    "        distance.append(distances0)"
   ]
  },
  {
   "cell_type": "markdown",
   "metadata": {},
   "source": [
    "# cal lambda(X) on sample controls \n",
    "STILL NOT WORKING"
   ]
  },
  {
   "cell_type": "code",
   "execution_count": 252,
   "metadata": {},
   "outputs": [],
   "source": [
    "def lambdas(coords_array, distance):\n",
    "    coordinates, support, distances, metric, hull, edge_correction = _prepare(\n",
    "            coords_array, support=None,\n",
    "        distances=None,\n",
    "        metric=\"euclidean\",\n",
    "        hull=None,\n",
    "        edge_correction=None,\n",
    "        )\n",
    "\n",
    "    hull = _prepare_hull(coords_array, hull = None)\n",
    "\n",
    "    n = coordinates.shape[0]\n",
    "    uno_fratto_a = 1/ _area(hull)\n",
    "    lambda_2 = (n * (n - 1)) / (_area(hull))**2\n",
    "    k_inhom_estimate = ((distance *2) / (lambda_2)) * uno_fratto_a\n",
    "    return k_inhom_estimate"
   ]
  },
  {
   "cell_type": "code",
   "execution_count": 257,
   "metadata": {},
   "outputs": [
    {
     "ename": "TypeError",
     "evalue": "'numpy.ndarray' object is not callable",
     "output_type": "error",
     "traceback": [
      "\u001b[0;31m---------------------------------------------------------------------------\u001b[0m",
      "\u001b[0;31mTypeError\u001b[0m                                 Traceback (most recent call last)",
      "Cell \u001b[0;32mIn[257], line 5\u001b[0m\n\u001b[1;32m      3\u001b[0m \u001b[38;5;28;01mfor\u001b[39;00m x \u001b[38;5;129;01min\u001b[39;00m list_of_controls:\n\u001b[1;32m      4\u001b[0m     \u001b[38;5;28;01mfor\u001b[39;00m array \u001b[38;5;129;01min\u001b[39;00m x: \n\u001b[0;32m----> 5\u001b[0m         lambdas \u001b[38;5;241m=\u001b[39m \u001b[43mlambdas\u001b[49m\u001b[43m(\u001b[49m\u001b[43marray\u001b[49m\u001b[43m,\u001b[49m\u001b[43m \u001b[49m\u001b[43mdistance\u001b[49m\u001b[43m)\u001b[49m\n\u001b[1;32m      6\u001b[0m         kinhom_ests\u001b[38;5;241m.\u001b[39mappend(lambdas)\n",
      "\u001b[0;31mTypeError\u001b[0m: 'numpy.ndarray' object is not callable"
     ]
    }
   ],
   "source": [
    "list_of_controls = simulated_companies['sample_controls'].values.tolist()\n",
    "kinhom_ests = []\n",
    "for x in list_of_controls:\n",
    "    for array in x: \n",
    "        lambdas = lambdas(array, distance)\n",
    "        kinhom_ests.append(lambdas)"
   ]
  },
  {
   "cell_type": "code",
   "execution_count": null,
   "metadata": {},
   "outputs": [],
   "source": []
  }
 ],
 "metadata": {
  "kernelspec": {
   "display_name": "Python 3.10.9 64-bit ('paper_3': conda)",
   "name": "python3109jvsc74a57bd09c88df90110bced9cec65b9bdbd3e4c663d10a8b4acefcbcfa76c0bc8c341b4e"
  },
  "language_info": {
   "codemirror_mode": {
    "name": "ipython",
    "version": 3
   },
   "file_extension": ".py",
   "mimetype": "text/x-python",
   "name": "python",
   "nbconvert_exporter": "python",
   "pygments_lexer": "ipython3",
   "version": "3.10.9"
  },
  "orig_nbformat": 2
 },
 "nbformat": 4,
 "nbformat_minor": 2
}