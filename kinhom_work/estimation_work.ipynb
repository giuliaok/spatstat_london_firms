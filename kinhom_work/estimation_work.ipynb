{
 "cells": [
  {
   "cell_type": "code",
   "execution_count": 87,
   "metadata": {},
   "outputs": [],
   "source": [
    "import pandas as pd\n",
    "import math\n",
    "from scipy import spatial\n",
    "import libpysal as ps\n",
    "import numpy as np\n",
    "from pointpats import PointPattern\n",
    "from pointpats import PoissonPointProcess, PoissonClusterPointProcess, Window, poly_from_bbox, PointPattern\n",
    "import libpysal as ps\n",
    "from libpysal.cg import shapely_ext\n",
    "%matplotlib inline\n",
    "import matplotlib.pyplot as plt\n",
    "import pointpats.quadrat_statistics as qs\n",
    "from pointpats import PointPattern, as_window\n",
    "from pointpats import PoissonPointProcess as csr\n",
    "from pointpats.geometry import *\n",
    "from pointpats.geometry import (prepare_hull as _prepare_hull,     area as _area,\n",
    "    k_neighbors as _k_neighbors,\n",
    "    build_best_tree as _build_best_tree,\n",
    "    prepare_hull as _prepare_hull,\n",
    "    TREE_TYPES,\n",
    ")\n",
    "from pointpats.ripley import _prepare # very important to prepare data :)"
   ]
  },
  {
   "cell_type": "code",
   "execution_count": 65,
   "metadata": {},
   "outputs": [],
   "source": [
    "def kinhom(coords_array):\n",
    "    coordinates, support, distances, metric, hull, edge_correction = _prepare(\n",
    "            coords_array, support=None,\n",
    "        distances=None,\n",
    "        metric=\"euclidean\",\n",
    "        hull=None,\n",
    "        edge_correction=None,\n",
    "        )\n",
    "\n",
    "    hull = _prepare_hull(coords_array, hull = None)\n",
    "\n",
    "    n = coordinates.shape[0]\n",
    "    upper_tri_distances = spatial.distance.pdist(coordinates, metric='euclidean') # OK  DISTANCES \n",
    "    n_pairs_less_than_d = (upper_tri_distances < support.reshape(-1, 1)).sum(axis=1) # N PAIRS LESS THAN DISTANCES \n",
    "    lambda_1 = n / _area(hull) #INTENSITY \n",
    "    k_estimate = ((n_pairs_less_than_d * 2) / n) / lambda_1 # OK  ((N PAIRS LESS THAN DISTANCE * 2) / N POINTS )/ INTENSITY    #BRING UP THE POINT FROM BADDELEY THAT ITS SHOULD BE N-1\\HULL AREAS (PP 204)\n",
    "    uno_fratto_a = 1/ _area(hull)\n",
    "    lambda_2 = (n * (n - 1)) / (_area(hull))**2\n",
    "    k_inhom_estimate = ((n_pairs_less_than_d *2) / (lambda_2)) * uno_fratto_a\n",
    "    return support, k_inhom_estimate"
   ]
  },
  {
   "cell_type": "markdown",
   "metadata": {},
   "source": [
    "# Calculate Kinhom on simulated points "
   ]
  },
  {
   "cell_type": "code",
   "execution_count": 79,
   "metadata": {},
   "outputs": [],
   "source": [
    "simulated_companies = pd.read_pickle('./simulated_companies.pkl')\n",
    "simulated_companies.columns = [['lat', 'long']]d\n",
    "def coords_to_array(df): \n",
    "    df['array'] = df.apply(lambda x: np.array(list(zip(x['lat'], x['long']))), axis = 1) \n",
    "    return df\n",
    "array_df = coords_to_array(simulated_companies)\n",
    "list_of_arrays = array_df['array'].values.tolist()\n",
    "kinhom_values = []\n",
    "for x in list_of_arrays:\n",
    "    for array in x: \n",
    "        kinhom_lista = kinhom(array)\n",
    "        kinhom_values.append(kinhom_lista)\n",
    "kinhom_estimates = pd.DataFrame(kinhom_values, columns = ['support', 'kinhom_estimate'])"
   ]
  },
  {
   "cell_type": "markdown",
   "metadata": {},
   "source": [
    "# Calculate L transformation"
   ]
  },
  {
   "cell_type": "code",
   "execution_count": 96,
   "metadata": {},
   "outputs": [],
   "source": [
    "def L_function(list_of_estimates):\n",
    "    L = [math.sqrt(x/math.pi) for x in list_of_estimates]\n",
    "    return L\n",
    "kinhom_estimates['l_estimates'] = kinhom_estimates['kinhom_estimate'].apply(L_function)"
   ]
  },
  {
   "cell_type": "code",
   "execution_count": 99,
   "metadata": {},
   "outputs": [
    {
     "data": {
      "text/html": "<div>\n<style scoped>\n    .dataframe tbody tr th:only-of-type {\n        vertical-align: middle;\n    }\n\n    .dataframe tbody tr th {\n        vertical-align: top;\n    }\n\n    .dataframe thead th {\n        text-align: right;\n    }\n</style>\n<table border=\"1\" class=\"dataframe\">\n  <thead>\n    <tr style=\"text-align: right;\">\n      <th></th>\n      <th>support</th>\n      <th>kinhom_estimate</th>\n      <th>l_estimates</th>\n    </tr>\n  </thead>\n  <tbody>\n    <tr>\n      <th>0</th>\n      <td>[0.0, 0.005843940808605459, 0.0116878816172109...</td>\n      <td>[0.0, 0.0001255911684666141, 0.000753547010799...</td>\n      <td>[0.0, 0.006322729674776331, 0.0154874614847554...</td>\n    </tr>\n    <tr>\n      <th>1</th>\n      <td>[0.0, 0.004690301043119766, 0.0093806020862395...</td>\n      <td>[0.0, 0.0001289552533311945, 0.000386865759993...</td>\n      <td>[0.0, 0.006406850397087044, 0.0110969904042475...</td>\n    </tr>\n    <tr>\n      <th>2</th>\n      <td>[0.0, 0.004019622042128335, 0.0080392440842566...</td>\n      <td>[0.0, 0.0001336463525582218, 0.000133646352558...</td>\n      <td>[0.0, 0.006522342774777047, 0.0065223427747770...</td>\n    </tr>\n    <tr>\n      <th>3</th>\n      <td>[0.0, 0.008317952651485832, 0.0166359053029716...</td>\n      <td>[0.0, 0.00039152049783559454, 0.00091354782828...</td>\n      <td>[0.0, 0.011163549843336984, 0.0170526040605013...</td>\n    </tr>\n    <tr>\n      <th>4</th>\n      <td>[0.0, 0.012343536506338812, 0.0246870730126776...</td>\n      <td>[0.0, 0.00045996181682514176, 0.00383301514020...</td>\n      <td>[0.0, 0.012100016262902313, 0.0349297382329275...</td>\n    </tr>\n    <tr>\n      <th>...</th>\n      <td>...</td>\n      <td>...</td>\n      <td>...</td>\n    </tr>\n    <tr>\n      <th>995</th>\n      <td>[0.0, 0.00748284661663554, 0.01496569323327108...</td>\n      <td>[0.0, 0.00029271944182663353, 0.00146359720913...</td>\n      <td>[0.0, 0.009652745319939735, 0.0215841947048782...</td>\n    </tr>\n    <tr>\n      <th>996</th>\n      <td>[0.0, 0.010390779877309068, 0.0207815597546181...</td>\n      <td>[0.0, 0.00036711996074315203, 0.00357941961724...</td>\n      <td>[0.0, 0.010810083853511518, 0.0337544760138491...</td>\n    </tr>\n    <tr>\n      <th>997</th>\n      <td>[0.0, 0.004667899100341413, 0.0093357982006828...</td>\n      <td>[0.0, 0.00013795580038456656, 0.00048284530134...</td>\n      <td>[0.0, 0.006626665460003631, 0.0123973558840511...</td>\n    </tr>\n    <tr>\n      <th>998</th>\n      <td>[0.0, 0.0077147498361330785, 0.015429499672266...</td>\n      <td>[0.0, 0.0002095156374600483, 0.001466609462220...</td>\n      <td>[0.0, 0.00816644957822139, 0.02160639467832211...</td>\n    </tr>\n    <tr>\n      <th>999</th>\n      <td>[0.0, 0.005025475174135321, 0.0100509503482706...</td>\n      <td>[0.0, 0.0002985255656989363, 0.001044839479946...</td>\n      <td>[0.0, 0.009748006916317825, 0.0182368510423820...</td>\n    </tr>\n  </tbody>\n</table>\n<p>1000 rows × 3 columns</p>\n</div>",
      "text/plain": "                                               support  \\\n0    [0.0, 0.005843940808605459, 0.0116878816172109...   \n1    [0.0, 0.004690301043119766, 0.0093806020862395...   \n2    [0.0, 0.004019622042128335, 0.0080392440842566...   \n3    [0.0, 0.008317952651485832, 0.0166359053029716...   \n4    [0.0, 0.012343536506338812, 0.0246870730126776...   \n..                                                 ...   \n995  [0.0, 0.00748284661663554, 0.01496569323327108...   \n996  [0.0, 0.010390779877309068, 0.0207815597546181...   \n997  [0.0, 0.004667899100341413, 0.0093357982006828...   \n998  [0.0, 0.0077147498361330785, 0.015429499672266...   \n999  [0.0, 0.005025475174135321, 0.0100509503482706...   \n\n                                       kinhom_estimate  \\\n0    [0.0, 0.0001255911684666141, 0.000753547010799...   \n1    [0.0, 0.0001289552533311945, 0.000386865759993...   \n2    [0.0, 0.0001336463525582218, 0.000133646352558...   \n3    [0.0, 0.00039152049783559454, 0.00091354782828...   \n4    [0.0, 0.00045996181682514176, 0.00383301514020...   \n..                                                 ...   \n995  [0.0, 0.00029271944182663353, 0.00146359720913...   \n996  [0.0, 0.00036711996074315203, 0.00357941961724...   \n997  [0.0, 0.00013795580038456656, 0.00048284530134...   \n998  [0.0, 0.0002095156374600483, 0.001466609462220...   \n999  [0.0, 0.0002985255656989363, 0.001044839479946...   \n\n                                           l_estimates  \n0    [0.0, 0.006322729674776331, 0.0154874614847554...  \n1    [0.0, 0.006406850397087044, 0.0110969904042475...  \n2    [0.0, 0.006522342774777047, 0.0065223427747770...  \n3    [0.0, 0.011163549843336984, 0.0170526040605013...  \n4    [0.0, 0.012100016262902313, 0.0349297382329275...  \n..                                                 ...  \n995  [0.0, 0.009652745319939735, 0.0215841947048782...  \n996  [0.0, 0.010810083853511518, 0.0337544760138491...  \n997  [0.0, 0.006626665460003631, 0.0123973558840511...  \n998  [0.0, 0.00816644957822139, 0.02160639467832211...  \n999  [0.0, 0.009748006916317825, 0.0182368510423820...  \n\n[1000 rows x 3 columns]"
     },
     "execution_count": 99,
     "metadata": {},
     "output_type": "execute_result"
    }
   ],
   "source": [
    "kinhom_estimates"
   ]
  },
  {
   "cell_type": "markdown",
   "metadata": {},
   "source": [
    "# Find Null L(d)s"
   ]
  },
  {
   "cell_type": "code",
   "execution_count": null,
   "metadata": {},
   "outputs": [],
   "source": []
  }
 ],
 "metadata": {
  "kernelspec": {
   "display_name": "Python 3.10.9 64-bit ('paper_3': conda)",
   "name": "python3109jvsc74a57bd09c88df90110bced9cec65b9bdbd3e4c663d10a8b4acefcbcfa76c0bc8c341b4e"
  },
  "language_info": {
   "codemirror_mode": {
    "name": "ipython",
    "version": 3
   },
   "file_extension": ".py",
   "mimetype": "text/x-python",
   "name": "python",
   "nbconvert_exporter": "python",
   "pygments_lexer": "ipython3",
   "version": "3.10.9"
  },
  "orig_nbformat": 2
 },
 "nbformat": 4,
 "nbformat_minor": 2
}