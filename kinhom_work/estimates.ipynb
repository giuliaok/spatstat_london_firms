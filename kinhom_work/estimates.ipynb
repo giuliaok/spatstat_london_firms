{
 "cells": [
  {
   "cell_type": "code",
   "execution_count": 13,
   "metadata": {},
   "outputs": [],
   "source": [
    "import pandas as pd\n",
    "import math\n",
    "from scipy import stats\n",
    "from scipy import spatial\n",
    "import numpy as np\n",
    "import matplotlib.pyplot as plt\n",
    "from pointpats import PointPattern, as_window\n",
    "from pointpats import PoissonPointProcess as csr\n",
    "from pointpats.geometry import (prepare_hull as _prepare_hull, area as _area,\n",
    "    build_best_tree as _build_best_tree,\n",
    "    prepare_hull as _prepare_hull,\n",
    "    TREE_TYPES,\n",
    ")\n",
    "from scipy.spatial import distance\n",
    "from pointpats.ripley import _prepare # very important to prepare data :)"
   ]
  },
  {
   "cell_type": "markdown",
   "metadata": {},
   "source": [
    "![title](https://slideplayer.com/slide/14868061/90/images/52/adjusting+for+inhomogeneity.jpg)"
   ]
  },
  {
   "cell_type": "markdown",
   "metadata": {},
   "source": [
    "![text](https://www.routledgehandbooks.com/assets/9781420082555/graphics/equ3_32.jpg)"
   ]
  },
  {
   "cell_type": "code",
   "execution_count": null,
   "metadata": {},
   "outputs": [],
   "source": [
    "# since my dataset is badly formatted, need to flatten it before processing. Assuming it is called df:\n",
    "df.columns = [['lat', 'long']]\n",
    "def flatten(l):\n",
    "    return [item for sublist in l for item in sublist]\n",
    "df[['lat', 'long']] = df[['lat', 'long']].apply(flatten)\n",
    "#then go from coords_to_array :)"
   ]
  },
  {
   "cell_type": "code",
   "execution_count": 14,
   "metadata": {},
   "outputs": [],
   "source": [
    "def coords_to_array(df): \n",
    "    df['array'] = df.apply(lambda x: np.array(list(zip(x['lat'], x['long']))), axis = 1) \n",
    "    return df\n",
    "simulated_companies = pd.read_pickle('/Users/gocchini/Desktop/paper_3/kinhom_work/simulated_companies.pkl')\n",
    "simulated_companies.columns = [['lat', 'long']]\n",
    "array_df = coords_to_array(simulated_companies)"
   ]
  },
  {
   "cell_type": "code",
   "execution_count": 3,
   "metadata": {},
   "outputs": [
    {
     "data": {
      "text/html": "<div>\n<style scoped>\n    .dataframe tbody tr th:only-of-type {\n        vertical-align: middle;\n    }\n\n    .dataframe tbody tr th {\n        vertical-align: top;\n    }\n\n    .dataframe thead tr th {\n        text-align: left;\n    }\n</style>\n<table border=\"1\" class=\"dataframe\">\n  <thead>\n    <tr>\n      <th></th>\n      <th>lat</th>\n      <th>long</th>\n      <th>array</th>\n    </tr>\n  </thead>\n  <tbody>\n    <tr>\n      <th>0</th>\n      <td>[51.54218582497672, 51.589472314705674, 51.381...</td>\n      <td>[-0.0874064825256965, -0.24605053217241302, -0...</td>\n      <td>[[51.54218582497672, -0.0874064825256965], [51...</td>\n    </tr>\n    <tr>\n      <th>1</th>\n      <td>[51.55988941008741, 51.46151770699342, 51.4621...</td>\n      <td>[-0.2039481156403623, -0.10841744337054215, -0...</td>\n      <td>[[51.55988941008741, -0.2039481156403623], [51...</td>\n    </tr>\n    <tr>\n      <th>2</th>\n      <td>[51.56214130611294, 51.51280788687047, 51.3606...</td>\n      <td>[-0.12966170920812858, -0.2826523378177931, -0...</td>\n      <td>[[51.56214130611294, -0.12966170920812858], [5...</td>\n    </tr>\n    <tr>\n      <th>3</th>\n      <td>[51.56170641195442, 51.52023769828351, 51.4886...</td>\n      <td>[-0.166205136211394, -0.13644063967513753, -0....</td>\n      <td>[[51.56170641195442, -0.166205136211394], [51....</td>\n    </tr>\n    <tr>\n      <th>4</th>\n      <td>[51.4906797623787, 51.497014131477584, 51.5169...</td>\n      <td>[-0.1896979435260494, -0.17099360746609682, -0...</td>\n      <td>[[51.4906797623787, -0.1896979435260494], [51....</td>\n    </tr>\n  </tbody>\n</table>\n</div>",
      "text/plain": "                                                 lat  \\\n0  [51.54218582497672, 51.589472314705674, 51.381...   \n1  [51.55988941008741, 51.46151770699342, 51.4621...   \n2  [51.56214130611294, 51.51280788687047, 51.3606...   \n3  [51.56170641195442, 51.52023769828351, 51.4886...   \n4  [51.4906797623787, 51.497014131477584, 51.5169...   \n\n                                                long  \\\n0  [-0.0874064825256965, -0.24605053217241302, -0...   \n1  [-0.2039481156403623, -0.10841744337054215, -0...   \n2  [-0.12966170920812858, -0.2826523378177931, -0...   \n3  [-0.166205136211394, -0.13644063967513753, -0....   \n4  [-0.1896979435260494, -0.17099360746609682, -0...   \n\n                                               array  \n0  [[51.54218582497672, -0.0874064825256965], [51...  \n1  [[51.55988941008741, -0.2039481156403623], [51...  \n2  [[51.56214130611294, -0.12966170920812858], [5...  \n3  [[51.56170641195442, -0.166205136211394], [51....  \n4  [[51.4906797623787, -0.1896979435260494], [51....  "
     },
     "execution_count": 3,
     "metadata": {},
     "output_type": "execute_result"
    }
   ],
   "source": [
    "array_df.head()"
   ]
  },
  {
   "cell_type": "markdown",
   "metadata": {},
   "source": [
    "# Sample controls and cases from simulations"
   ]
  },
  {
   "cell_type": "code",
   "execution_count": 17,
   "metadata": {},
   "outputs": [],
   "source": [
    "list_of_arrays = simulated_companies['array'].values.tolist()\n",
    "sampled_cases = [x[0][np.random.choice(x[0].shape[0], size=5, replace = False), :] for x in list_of_arrays]\n",
    "simulated_companies['sample_cases'] = sampled_cases\n",
    "sampled_controls = [x[0][np.random.choice(x[0].shape[0], size=5, replace = False), :] for x in list_of_arrays]\n",
    "simulated_companies['sample_controls'] = sampled_controls"
   ]
  },
  {
   "cell_type": "code",
   "execution_count": 18,
   "metadata": {},
   "outputs": [
    {
     "data": {
      "text/html": "<div>\n<style scoped>\n    .dataframe tbody tr th:only-of-type {\n        vertical-align: middle;\n    }\n\n    .dataframe tbody tr th {\n        vertical-align: top;\n    }\n\n    .dataframe thead tr th {\n        text-align: left;\n    }\n</style>\n<table border=\"1\" class=\"dataframe\">\n  <thead>\n    <tr>\n      <th></th>\n      <th>lat</th>\n      <th>long</th>\n      <th>array</th>\n      <th>sample_cases</th>\n      <th>sample_controls</th>\n    </tr>\n  </thead>\n  <tbody>\n    <tr>\n      <th>0</th>\n      <td>[51.54218582497672, 51.589472314705674, 51.381...</td>\n      <td>[-0.0874064825256965, -0.24605053217241302, -0...</td>\n      <td>[[51.54218582497672, -0.0874064825256965], [51...</td>\n      <td>[[51.55791592551092, -0.12359705773915552], [5...</td>\n      <td>[[51.50513764585078, -0.0868184504207491], [51...</td>\n    </tr>\n    <tr>\n      <th>1</th>\n      <td>[51.55988941008741, 51.46151770699342, 51.4621...</td>\n      <td>[-0.2039481156403623, -0.10841744337054215, -0...</td>\n      <td>[[51.55988941008741, -0.2039481156403623], [51...</td>\n      <td>[[51.53513137050367, -0.12319028440436142], [5...</td>\n      <td>[[51.58793688829641, -0.07808287146806137], [5...</td>\n    </tr>\n    <tr>\n      <th>2</th>\n      <td>[51.56214130611294, 51.51280788687047, 51.3606...</td>\n      <td>[-0.12966170920812858, -0.2826523378177931, -0...</td>\n      <td>[[51.56214130611294, -0.12966170920812858], [5...</td>\n      <td>[[51.362824386697795, -0.11427591636017442], [...</td>\n      <td>[[51.580283091327885, -0.21613723750152236], [...</td>\n    </tr>\n    <tr>\n      <th>3</th>\n      <td>[51.56170641195442, 51.52023769828351, 51.4886...</td>\n      <td>[-0.166205136211394, -0.13644063967513753, -0....</td>\n      <td>[[51.56170641195442, -0.166205136211394], [51....</td>\n      <td>[[51.48007573096543, -0.13911664160650206], [5...</td>\n      <td>[[51.49201166820216, -0.003933213300301719], [...</td>\n    </tr>\n    <tr>\n      <th>4</th>\n      <td>[51.4906797623787, 51.497014131477584, 51.5169...</td>\n      <td>[-0.1896979435260494, -0.17099360746609682, -0...</td>\n      <td>[[51.4906797623787, -0.1896979435260494], [51....</td>\n      <td>[[51.51083773315678, -0.2191692377894935], [51...</td>\n      <td>[[51.51919731361383, -0.07666137246809057], [5...</td>\n    </tr>\n    <tr>\n      <th>...</th>\n      <td>...</td>\n      <td>...</td>\n      <td>...</td>\n      <td>...</td>\n      <td>...</td>\n    </tr>\n    <tr>\n      <th>995</th>\n      <td>[51.63935421745579, 51.706750976828324, 51.542...</td>\n      <td>[-0.07261284013816416, -0.009181363548142474, ...</td>\n      <td>[[51.63935421745579, -0.07261284013816416], [5...</td>\n      <td>[[51.567650697539726, 0.13673630566787975], [5...</td>\n      <td>[[51.527406296091925, -0.14001612050780599], [...</td>\n    </tr>\n    <tr>\n      <th>996</th>\n      <td>[51.61569290725654, 51.63541106925196, 51.5147...</td>\n      <td>[0.11716453816526606, 0.122925519204793, -0.16...</td>\n      <td>[[51.61569290725654, 0.11716453816526606], [51...</td>\n      <td>[[51.487075503102986, -0.20527460906852257], [...</td>\n      <td>[[51.450477757240726, -0.12538147665732013], [...</td>\n    </tr>\n    <tr>\n      <th>997</th>\n      <td>[51.52412280586476, 51.491516413109416, 51.459...</td>\n      <td>[-0.14427792343017554, -0.3858098677670566, 0....</td>\n      <td>[[51.52412280586476, -0.14427792343017554], [5...</td>\n      <td>[[51.501406288547344, -0.2586429405957208], [5...</td>\n      <td>[[51.44769954750967, -0.1670212769452345], [51...</td>\n    </tr>\n    <tr>\n      <th>998</th>\n      <td>[51.57654497729315, 51.54095405036929, 51.5460...</td>\n      <td>[0.05455564471325014, -0.27824276403446013, -0...</td>\n      <td>[[51.57654497729315, 0.05455564471325014], [51...</td>\n      <td>[[51.54608562285099, -0.25536102723367116], [5...</td>\n      <td>[[51.534908076260514, -0.026684130261323324], ...</td>\n    </tr>\n    <tr>\n      <th>999</th>\n      <td>[51.44299749780185, 51.53452251092088, 51.4039...</td>\n      <td>[-0.27554028246115225, -0.11475072327013958, 0...</td>\n      <td>[[51.44299749780185, -0.27554028246115225], [5...</td>\n      <td>[[51.59317404925689, 0.091456446577726], [51.4...</td>\n      <td>[[51.52306910335544, -0.004700053162806417], [...</td>\n    </tr>\n  </tbody>\n</table>\n<p>1000 rows × 5 columns</p>\n</div>",
      "text/plain": "                                                   lat  \\\n0    [51.54218582497672, 51.589472314705674, 51.381...   \n1    [51.55988941008741, 51.46151770699342, 51.4621...   \n2    [51.56214130611294, 51.51280788687047, 51.3606...   \n3    [51.56170641195442, 51.52023769828351, 51.4886...   \n4    [51.4906797623787, 51.497014131477584, 51.5169...   \n..                                                 ...   \n995  [51.63935421745579, 51.706750976828324, 51.542...   \n996  [51.61569290725654, 51.63541106925196, 51.5147...   \n997  [51.52412280586476, 51.491516413109416, 51.459...   \n998  [51.57654497729315, 51.54095405036929, 51.5460...   \n999  [51.44299749780185, 51.53452251092088, 51.4039...   \n\n                                                  long  \\\n0    [-0.0874064825256965, -0.24605053217241302, -0...   \n1    [-0.2039481156403623, -0.10841744337054215, -0...   \n2    [-0.12966170920812858, -0.2826523378177931, -0...   \n3    [-0.166205136211394, -0.13644063967513753, -0....   \n4    [-0.1896979435260494, -0.17099360746609682, -0...   \n..                                                 ...   \n995  [-0.07261284013816416, -0.009181363548142474, ...   \n996  [0.11716453816526606, 0.122925519204793, -0.16...   \n997  [-0.14427792343017554, -0.3858098677670566, 0....   \n998  [0.05455564471325014, -0.27824276403446013, -0...   \n999  [-0.27554028246115225, -0.11475072327013958, 0...   \n\n                                                 array  \\\n0    [[51.54218582497672, -0.0874064825256965], [51...   \n1    [[51.55988941008741, -0.2039481156403623], [51...   \n2    [[51.56214130611294, -0.12966170920812858], [5...   \n3    [[51.56170641195442, -0.166205136211394], [51....   \n4    [[51.4906797623787, -0.1896979435260494], [51....   \n..                                                 ...   \n995  [[51.63935421745579, -0.07261284013816416], [5...   \n996  [[51.61569290725654, 0.11716453816526606], [51...   \n997  [[51.52412280586476, -0.14427792343017554], [5...   \n998  [[51.57654497729315, 0.05455564471325014], [51...   \n999  [[51.44299749780185, -0.27554028246115225], [5...   \n\n                                          sample_cases  \\\n0    [[51.55791592551092, -0.12359705773915552], [5...   \n1    [[51.53513137050367, -0.12319028440436142], [5...   \n2    [[51.362824386697795, -0.11427591636017442], [...   \n3    [[51.48007573096543, -0.13911664160650206], [5...   \n4    [[51.51083773315678, -0.2191692377894935], [51...   \n..                                                 ...   \n995  [[51.567650697539726, 0.13673630566787975], [5...   \n996  [[51.487075503102986, -0.20527460906852257], [...   \n997  [[51.501406288547344, -0.2586429405957208], [5...   \n998  [[51.54608562285099, -0.25536102723367116], [5...   \n999  [[51.59317404925689, 0.091456446577726], [51.4...   \n\n                                       sample_controls  \n0    [[51.50513764585078, -0.0868184504207491], [51...  \n1    [[51.58793688829641, -0.07808287146806137], [5...  \n2    [[51.580283091327885, -0.21613723750152236], [...  \n3    [[51.49201166820216, -0.003933213300301719], [...  \n4    [[51.51919731361383, -0.07666137246809057], [5...  \n..                                                 ...  \n995  [[51.527406296091925, -0.14001612050780599], [...  \n996  [[51.450477757240726, -0.12538147665732013], [...  \n997  [[51.44769954750967, -0.1670212769452345], [51...  \n998  [[51.534908076260514, -0.026684130261323324], ...  \n999  [[51.52306910335544, -0.004700053162806417], [...  \n\n[1000 rows x 5 columns]"
     },
     "execution_count": 18,
     "metadata": {},
     "output_type": "execute_result"
    }
   ],
   "source": [
    "simulated_companies"
   ]
  },
  {
   "cell_type": "markdown",
   "metadata": {},
   "source": [
    "# Get PDF from controls "
   ]
  },
  {
   "cell_type": "code",
   "execution_count": 12,
   "metadata": {},
   "outputs": [],
   "source": [
    "list_of_controls = simulated_companies['sample_controls'].values.tolist()\n",
    "\n",
    "x = []\n",
    "for coordinata in list_of_controls:\n",
    "    c = coordinata[0][0][0]\n",
    "    x.append(c)\n",
    "x = np.array(x)\n",
    "\n",
    "y = []\n",
    "for coordinata in list_of_controls:\n",
    "    c = coordinata[0][0][1]\n",
    "    y.append(c)\n",
    "y = np.array(y)\n",
    "\n",
    "values = np.vstack([x, y])\n",
    "kernel = stats.gaussian_kde(values)"
   ]
  },
  {
   "cell_type": "markdown",
   "metadata": {},
   "source": [
    "# Define functions to find lambdas and calculate kinhom"
   ]
  },
  {
   "cell_type": "code",
   "execution_count": 23,
   "metadata": {},
   "outputs": [],
   "source": [
    "def find_lambda(kernel, x, y):\n",
    "    values = np.vstack([x, y])\n",
    "    return kernel.pdf(values)\n",
    "\n",
    "def fun_find_kinhom(distance, support, multiplied_lambdas):\n",
    "    kinhom_values = []\n",
    "    for x in support:\n",
    "        if x > distance:\n",
    "            x = 1/multiplied_lambdas\n",
    "        else: \n",
    "            x = 0 \n",
    "        kinhom_values.append(x)\n",
    "    return np.array(kinhom_values)"
   ]
  },
  {
   "cell_type": "markdown",
   "metadata": {},
   "source": [
    "# Get distances and calculate kinhom on cases"
   ]
  },
  {
   "cell_type": "code",
   "execution_count": 19,
   "metadata": {},
   "outputs": [],
   "source": [
    "cases_array = simulated_companies['sample_cases'].values.tolist()"
   ]
  },
  {
   "cell_type": "code",
   "execution_count": 21,
   "metadata": {},
   "outputs": [],
   "source": [
    "example = cases_array[0][0]"
   ]
  },
  {
   "cell_type": "code",
   "execution_count": 22,
   "metadata": {},
   "outputs": [
    {
     "data": {
      "text/plain": "array([[51.55791593, -0.12359706],\n       [51.50549456, -0.14876744],\n       [51.48257208, -0.11538145],\n       [51.43544935, -0.24095732],\n       [51.51235937, -0.29067871]])"
     },
     "execution_count": 22,
     "metadata": {},
     "output_type": "execute_result"
    }
   ],
   "source": [
    "example"
   ]
  },
  {
   "cell_type": "markdown",
   "metadata": {},
   "source": [
    "# Define distances at which to asses Kinhom"
   ]
  },
  {
   "cell_type": "code",
   "execution_count": 26,
   "metadata": {},
   "outputs": [],
   "source": [
    "support = [0.        , 0.00584394, 0.01168788, 0.01753182, 0.02337576,\n",
    "       0.0292197 , 0.03506364, 0.04090759, 0.04675153, 0.05259547]"
   ]
  },
  {
   "cell_type": "code",
   "execution_count": 38,
   "metadata": {},
   "outputs": [],
   "source": [
    "def find_lambdas_and_distances(array_of_simulated_coordinates, support):\n",
    "    all_pairs = [(a, b) for idx, a in enumerate(array_of_simulated_coordinates) for b in array_of_simulated_coordinates[idx + 1:]]\n",
    "    df = pd.DataFrame(all_pairs)\n",
    "    df.columns = [['x', 'y']]\n",
    "    df['lambda_values_x'] = df.apply(lambda x: find_lambda(kernel, x['x'][0], x['x'][1]), axis = 1) \n",
    "    df['lambda_values_y'] = df.apply(lambda x: find_lambda(kernel, x['y'][0], x['y'][1]), axis = 1)\n",
    "    df['inhom_lambda'] = df.apply(lambda x: x['lambda_values_x']*x['lambda_values_y'], axis =1) \n",
    "    df['distance'] = df.apply(lambda x: distance.euclidean(x['x'], x['y']), axis = 1)\n",
    "    support_names = map(str, support)\n",
    "    support_pd = pd.DataFrame(zip(support_names, support),\n",
    "               columns =['distance_name', 'distance'])\n",
    "    support_pd = support_pd.T\n",
    "    support_pd.columns = support_pd.iloc[0]\n",
    "    support_pd = support_pd.iloc[1: , :]\n",
    "    support_pd = pd.DataFrame(np.repeat(support_pd.values, len(df), axis = 0))\n",
    "    support_pd.columns = support_pd.iloc[0]\n",
    "    support_pd['support'] = support_pd.values.tolist()\n",
    "    df = pd.concat([df, support_pd['support']], axis=1)\n",
    "    df.columns = [['x', 'y', 'lambda_values_x','lambda_values_y', 'multiplied_lambdas', 'distance', 'support']]\n",
    "    df['kinhom'] = df.apply(lambda x: fun_find_kinhom(x['distance'], x['support'], x['multiplied_lambdas']), axis = 1)\n",
    "    n_pairs_less_than_d = df['kinhom'].values.tolist()\n",
    "    internal_argument = np.sum(n_pairs_less_than_d, 0)\n",
    "    return df, n_pairs_less_than_d, internal_argument"
   ]
  },
  {
   "cell_type": "code",
   "execution_count": 39,
   "metadata": {},
   "outputs": [
    {
     "name": "stderr",
     "output_type": "stream",
     "text": [
      "/var/folders/0f/pzhfvnbj63jg3sk3nj099q3w0000gq/T/ipykernel_20476/3229891459.py:13: VisibleDeprecationWarning: Creating an ndarray from ragged nested sequences (which is a list-or-tuple of lists-or-tuples-or ndarrays with different lengths or shapes) is deprecated. If you meant to do this, you must specify 'dtype=object' when creating the ndarray.\n",
      "  return np.array(kinhom_values)\n"
     ]
    }
   ],
   "source": [
    "kinhoms = find_lambdas_and_distances(example, support)"
   ]
  },
  {
   "cell_type": "code",
   "execution_count": 40,
   "metadata": {},
   "outputs": [
    {
     "data": {
      "text/html": "<div>\n<style scoped>\n    .dataframe tbody tr th:only-of-type {\n        vertical-align: middle;\n    }\n\n    .dataframe tbody tr th {\n        vertical-align: top;\n    }\n\n    .dataframe thead tr th {\n        text-align: left;\n    }\n</style>\n<table border=\"1\" class=\"dataframe\">\n  <thead>\n    <tr>\n      <th></th>\n      <th>x</th>\n      <th>y</th>\n      <th>lambda_values_x</th>\n      <th>lambda_values_y</th>\n      <th>multiplied_lambdas</th>\n      <th>distance</th>\n      <th>support</th>\n      <th>kinhom</th>\n    </tr>\n  </thead>\n  <tbody>\n    <tr>\n      <th>0</th>\n      <td>[51.55791592551092, -0.12359705773915552]</td>\n      <td>[51.505494555612685, -0.14876743994497088]</td>\n      <td>[14.588857190681457]</td>\n      <td>[25.468196964731494]</td>\n      <td>[371.5518884226147]</td>\n      <td>0.058151</td>\n      <td>[0.0, 0.00584394, 0.01168788, 0.01753182, 0.02...</td>\n      <td>[0, 0, 0, 0, 0, 0, 0, 0, 0, 0]</td>\n    </tr>\n    <tr>\n      <th>1</th>\n      <td>[51.55791592551092, -0.12359705773915552]</td>\n      <td>[51.48257208273024, -0.11538144979607867]</td>\n      <td>[14.588857190681457]</td>\n      <td>[19.389837770694307]</td>\n      <td>[282.87557418714056]</td>\n      <td>0.075790</td>\n      <td>[0.0, 0.00584394, 0.01168788, 0.01753182, 0.02...</td>\n      <td>[0, 0, 0, 0, 0, 0, 0, 0, 0, 0]</td>\n    </tr>\n    <tr>\n      <th>2</th>\n      <td>[51.55791592551092, -0.12359705773915552]</td>\n      <td>[51.43544934504668, -0.24095732470290188]</td>\n      <td>[14.588857190681457]</td>\n      <td>[5.888415633576478]</td>\n      <td>[85.90525475762331]</td>\n      <td>0.169622</td>\n      <td>[0.0, 0.00584394, 0.01168788, 0.01753182, 0.02...</td>\n      <td>[0, 0, 0, 0, 0, 0, 0, 0, 0, 0]</td>\n    </tr>\n    <tr>\n      <th>3</th>\n      <td>[51.55791592551092, -0.12359705773915552]</td>\n      <td>[51.512359368311515, -0.29067870968137177]</td>\n      <td>[14.588857190681457]</td>\n      <td>[7.567767205354708]</td>\n      <td>[110.40507501124235]</td>\n      <td>0.173181</td>\n      <td>[0.0, 0.00584394, 0.01168788, 0.01753182, 0.02...</td>\n      <td>[0, 0, 0, 0, 0, 0, 0, 0, 0, 0]</td>\n    </tr>\n    <tr>\n      <th>4</th>\n      <td>[51.505494555612685, -0.14876743994497088]</td>\n      <td>[51.48257208273024, -0.11538144979607867]</td>\n      <td>[25.468196964731494]</td>\n      <td>[19.389837770694307]</td>\n      <td>[493.8242074582328]</td>\n      <td>0.040498</td>\n      <td>[0.0, 0.00584394, 0.01168788, 0.01753182, 0.02...</td>\n      <td>[0, 0, 0, 0, 0, 0, 0, [0.0020250121093639967],...</td>\n    </tr>\n    <tr>\n      <th>5</th>\n      <td>[51.505494555612685, -0.14876743994497088]</td>\n      <td>[51.43544934504668, -0.24095732470290188]</td>\n      <td>[25.468196964731494]</td>\n      <td>[5.888415633576478]</td>\n      <td>[149.96732916612993]</td>\n      <td>0.115781</td>\n      <td>[0.0, 0.00584394, 0.01168788, 0.01753182, 0.02...</td>\n      <td>[0, 0, 0, 0, 0, 0, 0, 0, 0, 0]</td>\n    </tr>\n    <tr>\n      <th>6</th>\n      <td>[51.505494555612685, -0.14876743994497088]</td>\n      <td>[51.512359368311515, -0.29067870968137177]</td>\n      <td>[25.468196964731494]</td>\n      <td>[7.567767205354708]</td>\n      <td>[192.7373857692093]</td>\n      <td>0.142077</td>\n      <td>[0.0, 0.00584394, 0.01168788, 0.01753182, 0.02...</td>\n      <td>[0, 0, 0, 0, 0, 0, 0, 0, 0, 0]</td>\n    </tr>\n    <tr>\n      <th>7</th>\n      <td>[51.48257208273024, -0.11538144979607867]</td>\n      <td>[51.43544934504668, -0.24095732470290188]</td>\n      <td>[19.389837770694307]</td>\n      <td>[5.888415633576478]</td>\n      <td>[114.17542386146803]</td>\n      <td>0.134126</td>\n      <td>[0.0, 0.00584394, 0.01168788, 0.01753182, 0.02...</td>\n      <td>[0, 0, 0, 0, 0, 0, 0, 0, 0, 0]</td>\n    </tr>\n    <tr>\n      <th>8</th>\n      <td>[51.48257208273024, -0.11538144979607867]</td>\n      <td>[51.512359368311515, -0.29067870968137177]</td>\n      <td>[19.389837770694307]</td>\n      <td>[7.567767205354708]</td>\n      <td>[146.7377783982084]</td>\n      <td>0.177810</td>\n      <td>[0.0, 0.00584394, 0.01168788, 0.01753182, 0.02...</td>\n      <td>[0, 0, 0, 0, 0, 0, 0, 0, 0, 0]</td>\n    </tr>\n    <tr>\n      <th>9</th>\n      <td>[51.43544934504668, -0.24095732470290188]</td>\n      <td>[51.512359368311515, -0.29067870968137177]</td>\n      <td>[5.888415633576478]</td>\n      <td>[7.567767205354708]</td>\n      <td>[44.56215872327803]</td>\n      <td>0.091583</td>\n      <td>[0.0, 0.00584394, 0.01168788, 0.01753182, 0.02...</td>\n      <td>[0, 0, 0, 0, 0, 0, 0, 0, 0, 0]</td>\n    </tr>\n  </tbody>\n</table>\n</div>",
      "text/plain": "                                            x  \\\n0   [51.55791592551092, -0.12359705773915552]   \n1   [51.55791592551092, -0.12359705773915552]   \n2   [51.55791592551092, -0.12359705773915552]   \n3   [51.55791592551092, -0.12359705773915552]   \n4  [51.505494555612685, -0.14876743994497088]   \n5  [51.505494555612685, -0.14876743994497088]   \n6  [51.505494555612685, -0.14876743994497088]   \n7   [51.48257208273024, -0.11538144979607867]   \n8   [51.48257208273024, -0.11538144979607867]   \n9   [51.43544934504668, -0.24095732470290188]   \n\n                                            y       lambda_values_x  \\\n0  [51.505494555612685, -0.14876743994497088]  [14.588857190681457]   \n1   [51.48257208273024, -0.11538144979607867]  [14.588857190681457]   \n2   [51.43544934504668, -0.24095732470290188]  [14.588857190681457]   \n3  [51.512359368311515, -0.29067870968137177]  [14.588857190681457]   \n4   [51.48257208273024, -0.11538144979607867]  [25.468196964731494]   \n5   [51.43544934504668, -0.24095732470290188]  [25.468196964731494]   \n6  [51.512359368311515, -0.29067870968137177]  [25.468196964731494]   \n7   [51.43544934504668, -0.24095732470290188]  [19.389837770694307]   \n8  [51.512359368311515, -0.29067870968137177]  [19.389837770694307]   \n9  [51.512359368311515, -0.29067870968137177]   [5.888415633576478]   \n\n        lambda_values_y    multiplied_lambdas  distance  \\\n0  [25.468196964731494]   [371.5518884226147]  0.058151   \n1  [19.389837770694307]  [282.87557418714056]  0.075790   \n2   [5.888415633576478]   [85.90525475762331]  0.169622   \n3   [7.567767205354708]  [110.40507501124235]  0.173181   \n4  [19.389837770694307]   [493.8242074582328]  0.040498   \n5   [5.888415633576478]  [149.96732916612993]  0.115781   \n6   [7.567767205354708]   [192.7373857692093]  0.142077   \n7   [5.888415633576478]  [114.17542386146803]  0.134126   \n8   [7.567767205354708]   [146.7377783982084]  0.177810   \n9   [7.567767205354708]   [44.56215872327803]  0.091583   \n\n                                             support  \\\n0  [0.0, 0.00584394, 0.01168788, 0.01753182, 0.02...   \n1  [0.0, 0.00584394, 0.01168788, 0.01753182, 0.02...   \n2  [0.0, 0.00584394, 0.01168788, 0.01753182, 0.02...   \n3  [0.0, 0.00584394, 0.01168788, 0.01753182, 0.02...   \n4  [0.0, 0.00584394, 0.01168788, 0.01753182, 0.02...   \n5  [0.0, 0.00584394, 0.01168788, 0.01753182, 0.02...   \n6  [0.0, 0.00584394, 0.01168788, 0.01753182, 0.02...   \n7  [0.0, 0.00584394, 0.01168788, 0.01753182, 0.02...   \n8  [0.0, 0.00584394, 0.01168788, 0.01753182, 0.02...   \n9  [0.0, 0.00584394, 0.01168788, 0.01753182, 0.02...   \n\n                                              kinhom  \n0                     [0, 0, 0, 0, 0, 0, 0, 0, 0, 0]  \n1                     [0, 0, 0, 0, 0, 0, 0, 0, 0, 0]  \n2                     [0, 0, 0, 0, 0, 0, 0, 0, 0, 0]  \n3                     [0, 0, 0, 0, 0, 0, 0, 0, 0, 0]  \n4  [0, 0, 0, 0, 0, 0, 0, [0.0020250121093639967],...  \n5                     [0, 0, 0, 0, 0, 0, 0, 0, 0, 0]  \n6                     [0, 0, 0, 0, 0, 0, 0, 0, 0, 0]  \n7                     [0, 0, 0, 0, 0, 0, 0, 0, 0, 0]  \n8                     [0, 0, 0, 0, 0, 0, 0, 0, 0, 0]  \n9                     [0, 0, 0, 0, 0, 0, 0, 0, 0, 0]  "
     },
     "execution_count": 40,
     "metadata": {},
     "output_type": "execute_result"
    }
   ],
   "source": [
    "kinhoms[0]"
   ]
  },
  {
   "cell_type": "code",
   "execution_count": 42,
   "metadata": {},
   "outputs": [
    {
     "data": {
      "text/plain": "[[array([0, 0, 0, 0, 0, 0, 0, 0, 0, 0])],\n [array([0, 0, 0, 0, 0, 0, 0, 0, 0, 0])],\n [array([0, 0, 0, 0, 0, 0, 0, 0, 0, 0])],\n [array([0, 0, 0, 0, 0, 0, 0, 0, 0, 0])],\n [array([0, 0, 0, 0, 0, 0, 0, array([0.00202501]), array([0.00202501]),\n         array([0.00202501])], dtype=object)],\n [array([0, 0, 0, 0, 0, 0, 0, 0, 0, 0])],\n [array([0, 0, 0, 0, 0, 0, 0, 0, 0, 0])],\n [array([0, 0, 0, 0, 0, 0, 0, 0, 0, 0])],\n [array([0, 0, 0, 0, 0, 0, 0, 0, 0, 0])],\n [array([0, 0, 0, 0, 0, 0, 0, 0, 0, 0])]]"
     },
     "execution_count": 42,
     "metadata": {},
     "output_type": "execute_result"
    }
   ],
   "source": [
    "kinhoms[1]"
   ]
  },
  {
   "cell_type": "code",
   "execution_count": 41,
   "metadata": {},
   "outputs": [
    {
     "data": {
      "text/plain": "array([[0, 0, 0, 0, 0, 0, 0, array([0.00202501]), array([0.00202501]),\n        array([0.00202501])]], dtype=object)"
     },
     "execution_count": 41,
     "metadata": {},
     "output_type": "execute_result"
    }
   ],
   "source": [
    "kinhoms[2]"
   ]
  },
  {
   "cell_type": "markdown",
   "metadata": {},
   "source": [
    "# Calculate hull on full set"
   ]
  },
  {
   "cell_type": "code",
   "execution_count": 50,
   "metadata": {},
   "outputs": [],
   "source": [
    "coords_array = list_of_arrays[0][0]\n",
    "hull = _prepare_hull(coords_array)"
   ]
  },
  {
   "cell_type": "code",
   "execution_count": 51,
   "metadata": {},
   "outputs": [],
   "source": [
    "one_divided_area = 1/_area(hull)\n",
    "K = kinhoms[2]*one_divided_area"
   ]
  },
  {
   "cell_type": "code",
   "execution_count": 52,
   "metadata": {},
   "outputs": [
    {
     "data": {
      "text/plain": "array([[0.0, 0.0, 0.0, 0.0, 0.0, 0.0, 0.0, array([0.01085781]),\n        array([0.01085781]), array([0.01085781])]], dtype=object)"
     },
     "execution_count": 52,
     "metadata": {},
     "output_type": "execute_result"
    }
   ],
   "source": [
    "K"
   ]
  },
  {
   "cell_type": "markdown",
   "metadata": {},
   "source": [
    "# Transform to L "
   ]
  },
  {
   "cell_type": "code",
   "execution_count": 28,
   "metadata": {},
   "outputs": [],
   "source": [
    "def L_function(list_of_estimates):\n",
    "    L = [math.sqrt(x/math.pi) for x in list_of_estimates]\n",
    "    return L\n",
    "#kinhom_estimates['l_estimates'] = kinhom_estimates['kinhom_estimate'].apply(L_function)"
   ]
  }
 ],
 "metadata": {
  "kernelspec": {
   "display_name": "Python 3.10.9 64-bit ('paper_3': conda)",
   "name": "python3109jvsc74a57bd09c88df90110bced9cec65b9bdbd3e4c663d10a8b4acefcbcfa76c0bc8c341b4e"
  },
  "language_info": {
   "name": "python",
   "version": ""
  },
  "orig_nbformat": 2
 },
 "nbformat": 4,
 "nbformat_minor": 2
}