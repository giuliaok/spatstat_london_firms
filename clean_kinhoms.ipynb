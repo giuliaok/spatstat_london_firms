{
 "cells": [
  {
   "cell_type": "code",
   "execution_count": 3,
   "metadata": {},
   "outputs": [
    {
     "name": "stderr",
     "output_type": "stream",
     "text": [
      "/Users/gocchini/opt/anaconda3/envs/paper_3/lib/python3.10/site-packages/geopandas/_compat.py:123: UserWarning: The Shapely GEOS version (3.11.1-CAPI-1.17.1) is incompatible with the GEOS version PyGEOS was compiled with (3.10.4-CAPI-1.16.2). Conversions between both will be slow.\n",
      "  warnings.warn(\n",
      "<string>:1: UserWarning: Shapely 2.0 is installed, but because PyGEOS is also installed, GeoPandas will still use PyGEOS by default for now. To force to use and test Shapely 2.0, you have to set the environment variable USE_PYGEOS=0. You can do this before starting the Python process, or in your code before importing geopandas:\n",
      "\n",
      "import os\n",
      "os.environ['USE_PYGEOS'] = '0'\n",
      "import geopandas\n",
      "\n",
      "In a future release, GeoPandas will switch to using Shapely by default. If you are using PyGEOS directly (calling PyGEOS functions on geometries from GeoPandas), this will then stop working and you are encouraged to migrate from PyGEOS to Shapely 2.0 (https://shapely.readthedocs.io/en/latest/migration_pygeos.html).\n"
     ]
    }
   ],
   "source": [
    "import pandas as pd\n",
    "import math\n",
    "from scipy import stats\n",
    "from scipy import spatial\n",
    "import numpy as np\n",
    "import matplotlib.pyplot as plt\n",
    "from pointpats import PointPattern, as_window\n",
    "from pointpats import PoissonPointProcess as csr\n",
    "from pointpats.geometry import (prepare_hull as _prepare_hull, area as _area,\n",
    "    build_best_tree as _build_best_tree,\n",
    "    prepare_hull as _prepare_hull,\n",
    "    TREE_TYPES,\n",
    ")\n",
    "from scipy.spatial import distance\n",
    "from pointpats.ripley import _prepare # very important to prepare data :)"
   ]
  },
  {
   "cell_type": "code",
   "execution_count": 117,
   "metadata": {},
   "outputs": [
    {
     "name": "stderr",
     "output_type": "stream",
     "text": [
      "/Users/gocchini/opt/anaconda3/envs/paper_3/lib/python3.10/site-packages/libpysal/cg/shapes.py:1492: FutureWarning: Objects based on the `Geometry` class will deprecated and removed in a future version of libpysal.\n",
      "  warnings.warn(dep_msg, FutureWarning)\n",
      "/Users/gocchini/opt/anaconda3/envs/paper_3/lib/python3.10/site-packages/libpysal/cg/shapes.py:1208: FutureWarning: Objects based on the `Geometry` class will deprecated and removed in a future version of libpysal.\n",
      "  warnings.warn(dep_msg, FutureWarning)\n"
     ]
    }
   ],
   "source": [
    "points = [[66.22, 32.54], [22.52, 22.39], [31.01, 81.21],\n",
    "          [9.47, 31.02],  [30.78, 60.10], [75.21, 58.93],\n",
    "          [79.26,  7.68], [8.23, 39.93],  [98.73, 77.17],\n",
    "          [89.78, 42.53], [65.19, 92.08], [54.46, 8.48]]\n",
    "#points is my arg! \n",
    "support = [0.        , 0.00584394, 0.01168788, 0.01753182, 0.02337576,\n",
    "       0.0292197 , 0.03506364, 0.04090759, 0.04675153, 0.05259547]\n",
    "pp = PointPattern(points)"
   ]
  },
  {
   "cell_type": "code",
   "execution_count": 18,
   "metadata": {},
   "outputs": [],
   "source": [
    "pp.points['coords'] = points"
   ]
  },
  {
   "cell_type": "code",
   "execution_count": 53,
   "metadata": {},
   "outputs": [
    {
     "data": {
      "text/html": "<div>\n<style scoped>\n    .dataframe tbody tr th:only-of-type {\n        vertical-align: middle;\n    }\n\n    .dataframe tbody tr th {\n        vertical-align: top;\n    }\n\n    .dataframe thead th {\n        text-align: right;\n    }\n</style>\n<table border=\"1\" class=\"dataframe\">\n  <thead>\n    <tr style=\"text-align: right;\">\n      <th></th>\n      <th>x</th>\n      <th>y</th>\n      <th>coords</th>\n    </tr>\n  </thead>\n  <tbody>\n    <tr>\n      <th>0</th>\n      <td>66.22</td>\n      <td>32.54</td>\n      <td>[66.22, 32.54]</td>\n    </tr>\n    <tr>\n      <th>1</th>\n      <td>22.52</td>\n      <td>22.39</td>\n      <td>[22.52, 22.39]</td>\n    </tr>\n    <tr>\n      <th>2</th>\n      <td>31.01</td>\n      <td>81.21</td>\n      <td>[31.01, 81.21]</td>\n    </tr>\n    <tr>\n      <th>3</th>\n      <td>9.47</td>\n      <td>31.02</td>\n      <td>[9.47, 31.02]</td>\n    </tr>\n    <tr>\n      <th>4</th>\n      <td>30.78</td>\n      <td>60.10</td>\n      <td>[30.78, 60.1]</td>\n    </tr>\n    <tr>\n      <th>5</th>\n      <td>75.21</td>\n      <td>58.93</td>\n      <td>[75.21, 58.93]</td>\n    </tr>\n    <tr>\n      <th>6</th>\n      <td>79.26</td>\n      <td>7.68</td>\n      <td>[79.26, 7.68]</td>\n    </tr>\n    <tr>\n      <th>7</th>\n      <td>8.23</td>\n      <td>39.93</td>\n      <td>[8.23, 39.93]</td>\n    </tr>\n    <tr>\n      <th>8</th>\n      <td>98.73</td>\n      <td>77.17</td>\n      <td>[98.73, 77.17]</td>\n    </tr>\n    <tr>\n      <th>9</th>\n      <td>89.78</td>\n      <td>42.53</td>\n      <td>[89.78, 42.53]</td>\n    </tr>\n    <tr>\n      <th>10</th>\n      <td>65.19</td>\n      <td>92.08</td>\n      <td>[65.19, 92.08]</td>\n    </tr>\n    <tr>\n      <th>11</th>\n      <td>54.46</td>\n      <td>8.48</td>\n      <td>[54.46, 8.48]</td>\n    </tr>\n  </tbody>\n</table>\n</div>",
      "text/plain": "        x      y          coords\n0   66.22  32.54  [66.22, 32.54]\n1   22.52  22.39  [22.52, 22.39]\n2   31.01  81.21  [31.01, 81.21]\n3    9.47  31.02   [9.47, 31.02]\n4   30.78  60.10   [30.78, 60.1]\n5   75.21  58.93  [75.21, 58.93]\n6   79.26   7.68   [79.26, 7.68]\n7    8.23  39.93   [8.23, 39.93]\n8   98.73  77.17  [98.73, 77.17]\n9   89.78  42.53  [89.78, 42.53]\n10  65.19  92.08  [65.19, 92.08]\n11  54.46   8.48   [54.46, 8.48]"
     },
     "execution_count": 53,
     "metadata": {},
     "output_type": "execute_result"
    }
   ],
   "source": [
    "pp.points"
   ]
  },
  {
   "cell_type": "code",
   "execution_count": 29,
   "metadata": {},
   "outputs": [],
   "source": [
    "kernel = stats.gaussian_kde(np.vstack([pp.points['x'].array, pp.points['y'].array]))"
   ]
  },
  {
   "cell_type": "code",
   "execution_count": 34,
   "metadata": {},
   "outputs": [],
   "source": [
    "lambda_values = kernel.pdf(kernel.dataset)"
   ]
  },
  {
   "cell_type": "code",
   "execution_count": 119,
   "metadata": {},
   "outputs": [],
   "source": [
    "def find_lambda(kernel, x, y):\n",
    "    values = np.vstack([x, y])\n",
    "    return kernel.pdf(values)\n",
    "\n",
    "def fun_find_kinhom(distance, support, denom):\n",
    "    kinhom_values = []\n",
    "    for x in support:\n",
    "        if x > distance:\n",
    "            x = 1/denom\n",
    "        else: \n",
    "            x = 0 \n",
    "        kinhom_values.append(x)\n",
    "    return np.array(kinhom_values)"
   ]
  },
  {
   "cell_type": "code",
   "execution_count": 120,
   "metadata": {},
   "outputs": [],
   "source": [
    "def kinhom(coordinates, support):\n",
    "    all_pairs = [(a, b) for idx, a in enumerate(coordinates) for b in coordinates[idx + 1:]]\n",
    "    df = pd.DataFrame(all_pairs)\n",
    "    df.columns = [['x', 'y']]\n",
    "    df['lambda_values_x'] = df.apply(lambda x: find_lambda(kernel, x['x'][0], x['x'][1]), axis = 1) \n",
    "    df['lambda_values_y'] = df.apply(lambda x: find_lambda(kernel, x['y'][0], x['y'][1]), axis = 1)\n",
    "    df['denom'] = df.apply(lambda x: x['lambda_values_x']*x['lambda_values_y'], axis =1) \n",
    "    df['distance'] = df.apply(lambda x: distance.euclidean(x['x'], x['y']), axis = 1)\n",
    "    df['support'] = df.apply(lambda row: support, axis = 1)\n",
    "    df['kinhom'] = df.apply(lambda x: fun_find_kinhom(x['distance'], x['support'], x['denom']), axis = 1)\n",
    "    n_pairs_less_than_d = df['kinhom'].values.tolist()\n",
    "    internal_argument = np.sum(n_pairs_less_than_d, 0)\n",
    "    return df, n_pairs_less_than_d, internal_argument"
   ]
  },
  {
   "cell_type": "code",
   "execution_count": 124,
   "metadata": {},
   "outputs": [],
   "source": [
    "results = kinhom(points, support)"
   ]
  },
  {
   "cell_type": "code",
   "execution_count": 73,
   "metadata": {},
   "outputs": [],
   "source": [
    "\n"
   ]
  },
  {
   "cell_type": "code",
   "execution_count": null,
   "metadata": {},
   "outputs": [],
   "source": []
  },
  {
   "cell_type": "code",
   "execution_count": null,
   "metadata": {},
   "outputs": [],
   "source": []
  }
 ],
 "metadata": {
  "kernelspec": {
   "display_name": "Python 3.10.9 64-bit",
   "name": "python3109jvsc74a57bd09c88df90110bced9cec65b9bdbd3e4c663d10a8b4acefcbcfa76c0bc8c341b4e"
  },
  "language_info": {
   "codemirror_mode": {
    "name": "ipython",
    "version": 3
   },
   "file_extension": ".py",
   "mimetype": "text/x-python",
   "name": "python",
   "nbconvert_exporter": "python",
   "pygments_lexer": "ipython3",
   "version": "3.10.9"
  },
  "orig_nbformat": 2
 },
 "nbformat": 4,
 "nbformat_minor": 2
}