{
 "cells": [
  {
   "cell_type": "code",
   "execution_count": 10,
   "metadata": {},
   "outputs": [],
   "source": [
    "import pandas as pd\n",
    "import glob\n",
    "import os\n",
    "import re"
   ]
  },
  {
   "cell_type": "code",
   "execution_count": 11,
   "metadata": {},
   "outputs": [],
   "source": [
    "data = pd.read_pickle('/Users/gocchini/Desktop/paper_3/data/data_almost_complete.pkl')\n",
    "london_postcodes = pd.read_csv('/Users/gocchini/Desktop/paper_3/data/london_postcodes-ons-postcodes-directory-feb22.csv')"
   ]
  },
  {
   "cell_type": "code",
   "execution_count": 12,
   "metadata": {},
   "outputs": [],
   "source": [
    "def data_processing(data, london_data): \n",
    "    data = data.loc[(data['Inactive'] == 'No')]\n",
    "    data = data[data['Primary UK SIC (2007) code'].notna()]\n",
    "    data = data[data['Primary trading address'].notna()]\n",
    "    data = data.drop_duplicates(keep=False)\n",
    "    data['postcode'] = data['Primary trading address'].apply(lambda x: x.split(',')[-1])\n",
    "    data['postcode'] = data['postcode'].apply(lambda x: x[1:])\n",
    "    london_postcodes = london_data['pcd'].tolist()\n",
    "    london_df = data[data['postcode'].isin(london_postcodes)]\n",
    "    london_df['Primary UK SIC (2007) code'] = london_df['Primary UK SIC (2007) code'].astype('string')\n",
    "    return london_df "
   ]
  },
  {
   "cell_type": "code",
   "execution_count": 13,
   "metadata": {},
   "outputs": [
    {
     "name": "stderr",
     "output_type": "stream",
     "text": [
      "/var/folders/0f/pzhfvnbj63jg3sk3nj099q3w0000gq/T/ipykernel_19333/2154885762.py:10: SettingWithCopyWarning: \n",
      "A value is trying to be set on a copy of a slice from a DataFrame.\n",
      "Try using .loc[row_indexer,col_indexer] = value instead\n",
      "\n",
      "See the caveats in the documentation: https://pandas.pydata.org/pandas-docs/stable/user_guide/indexing.html#returning-a-view-versus-a-copy\n",
      "  london_df['Primary UK SIC (2007) code'] = london_df['Primary UK SIC (2007) code'].astype('string')\n"
     ]
    }
   ],
   "source": [
    "\n",
    "london_df = data_processing(data , london_postcodes)"
   ]
  },
  {
   "cell_type": "code",
   "execution_count": 14,
   "metadata": {},
   "outputs": [],
   "source": [
    "london_intangibles = london_df[london_df['Primary UK SIC (2007) code'].str.contains(\n",
    "    \"^85|^92|^96|^59|^60|^61|^62|^63|^64|^66|^69|^70|^71|^72|^73|^74|^79|^82|^77|^78\")]"
   ]
  },
  {
   "cell_type": "code",
   "execution_count": 17,
   "metadata": {},
   "outputs": [],
   "source": [
    "text3 = pd.read_pickle('/Users/gocchini/Desktop/paper_1/scripts_paper_1/df_november_2022.pkl')\n",
    "text3['actual_url'] = text3['url'].str.replace('http://', '')\n",
    "text3['actual_url'] = text3['actual_url'].str.replace('https://', '')"
   ]
  },
  {
   "cell_type": "code",
   "execution_count": 19,
   "metadata": {},
   "outputs": [],
   "source": [
    "london_data = london_intangibles.merge(text3, left_on = 'Website', right_on= 'actual_url')"
   ]
  },
  {
   "cell_type": "code",
   "execution_count": 20,
   "metadata": {},
   "outputs": [],
   "source": [
    "london_data = london_data.loc[london_data['status']==True]"
   ]
  },
  {
   "cell_type": "code",
   "execution_count": 54,
   "metadata": {},
   "outputs": [
    {
     "name": "stderr",
     "output_type": "stream",
     "text": [
      "/var/folders/0f/pzhfvnbj63jg3sk3nj099q3w0000gq/T/ipykernel_19333/2786139566.py:1: DtypeWarning: Columns (18,29,47) have mixed types. Specify dtype option on import or set low_memory=False.\n",
      "  england_postcodes = pd.read_csv('/Users/gocchini/Downloads/England postcodes.csv')\n"
     ]
    }
   ],
   "source": [
    "england_postcodes = pd.read_csv('/Users/gocchini/Downloads/England postcodes.csv')"
   ]
  },
  {
   "cell_type": "code",
   "execution_count": 56,
   "metadata": {},
   "outputs": [],
   "source": [
    "english_postcodes = england_postcodes['Postcode'].tolist()"
   ]
  },
  {
   "cell_type": "code",
   "execution_count": 27,
   "metadata": {},
   "outputs": [],
   "source": [
    "def postcode_finder(text):\n",
    "    postcodes = re.findall(r'([Gg][Ii][Rr] 0[Aa]{2})|((([A-Za-z][0-9]{1,2})|(([A-Za-z][A-Ha-hJ-Yj-y][0-9]{1,2})|(([A-Za-z][0-9][A-Za-z])|([A-Za-z][A-Ha-hJ-Yj-y][0-9][A-Za-z]?))))\\s?[0-9][A-Za-z]{2})', text)\n",
    "    postcodes = [postcode[1] for postcode in postcodes]\n",
    "    return postcodes "
   ]
  },
  {
   "cell_type": "code",
   "execution_count": 28,
   "metadata": {},
   "outputs": [],
   "source": [
    "london_data['text_postcode'] = london_data['text'].apply(postcode_finder)"
   ]
  },
  {
   "cell_type": "code",
   "execution_count": 59,
   "metadata": {},
   "outputs": [],
   "source": [
    "def suspicious_postcodes_finder(postcode, postcode_in_text, english_postcodes):\n",
    "    if len(postcode_in_text) > 0: \n",
    "        if postcode_in_text[0].isupper():\n",
    "            if postcode_in_text[0] in english_postcodes:\n",
    "                if postcode != postcode_in_text[0]:\n",
    "                    return 'SUSPICIOUS!'\n",
    "                else: \n",
    "                    return 'ok'"
   ]
  },
  {
   "cell_type": "code",
   "execution_count": 60,
   "metadata": {},
   "outputs": [],
   "source": [
    "london_data['suspicious'] = london_data.apply(lambda x: suspicious_postcodes_finder(x['postcode'], x['text_postcode'], english_postcodes), axis = 1)"
   ]
  },
  {
   "cell_type": "code",
   "execution_count": 61,
   "metadata": {},
   "outputs": [
    {
     "data": {
      "text/html": "<div>\n<style scoped>\n    .dataframe tbody tr th:only-of-type {\n        vertical-align: middle;\n    }\n\n    .dataframe tbody tr th {\n        vertical-align: top;\n    }\n\n    .dataframe thead th {\n        text-align: right;\n    }\n</style>\n<table border=\"1\" class=\"dataframe\">\n  <thead>\n    <tr style=\"text-align: right;\">\n      <th></th>\n      <th>Unnamed: 0</th>\n      <th>Company name</th>\n      <th>Inactive</th>\n      <th>Quoted</th>\n      <th>Branch</th>\n      <th>OwnData</th>\n      <th>Woco</th>\n      <th>R/O Full Postcode</th>\n      <th>Primary UK SIC (2007) code</th>\n      <th>Primary trading address</th>\n      <th>...</th>\n      <th>R/O Address, line 3</th>\n      <th>R/O Full Postcode.1</th>\n      <th>Primary trading address City</th>\n      <th>postcode</th>\n      <th>url</th>\n      <th>status</th>\n      <th>text</th>\n      <th>actual_url</th>\n      <th>text_postcode</th>\n      <th>suspicious</th>\n    </tr>\n  </thead>\n  <tbody>\n    <tr>\n      <th>0</th>\n      <td>84.0</td>\n      <td>MOORE STEPHENS INTERNATIONAL LIMITED</td>\n      <td>No</td>\n      <td>No</td>\n      <td>No</td>\n      <td>No</td>\n      <td>No</td>\n      <td>SE1 3TQ</td>\n      <td>96090.0</td>\n      <td>5 Market Yard Mews, 194-204 Bermondsey Street,...</td>\n      <td>...</td>\n      <td>NaN</td>\n      <td>SE1 3TQ</td>\n      <td>London</td>\n      <td>SE1 3TQ</td>\n      <td>http://www.sequel.com</td>\n      <td>True</td>\n      <td>\\n\\n\\n\\n\\n\\n\\nVerisk Sequel - The future of in...</td>\n      <td>www.sequel.com</td>\n      <td>[]</td>\n      <td>None</td>\n    </tr>\n    <tr>\n      <th>1</th>\n      <td>320.0</td>\n      <td>PULSTAR DATAPRINT LIMITED</td>\n      <td>No</td>\n      <td>No</td>\n      <td>No</td>\n      <td>No</td>\n      <td>No</td>\n      <td>NW2 7HD</td>\n      <td>62090.0</td>\n      <td>152-154 Coles Green Road, London, London, NW2 7HD</td>\n      <td>...</td>\n      <td>NaN</td>\n      <td>NW2 7HD</td>\n      <td>London</td>\n      <td>NW2 7HD</td>\n      <td>http://www.pulstar.co.uk</td>\n      <td>True</td>\n      <td>\\n\\n\\nHome :: Osmosis Promotional Products \\n ...</td>\n      <td>www.pulstar.co.uk</td>\n      <td>[EN5 4DJ]</td>\n      <td>SUSPICIOUS!</td>\n    </tr>\n    <tr>\n      <th>2</th>\n      <td>1292.0</td>\n      <td>SEGA EUROPE OVERSEAS LIMITED</td>\n      <td>No</td>\n      <td>No</td>\n      <td>No</td>\n      <td>No</td>\n      <td>No</td>\n      <td>TW8 9BW</td>\n      <td>70100.0</td>\n      <td>27 Great West Road, Brentford, Middlesex, TW8 9BW</td>\n      <td>...</td>\n      <td>NaN</td>\n      <td>TW8 9BW</td>\n      <td>Brentford</td>\n      <td>TW8 9BW</td>\n      <td>http://www.sega.com</td>\n      <td>True</td>\n      <td>\\n\\nWeb Page Blocked\\n\\n\\n\\n\\n\\n\\n\\nWeb Page B...</td>\n      <td>www.sega.com</td>\n      <td>[]</td>\n      <td>None</td>\n    </tr>\n    <tr>\n      <th>3</th>\n      <td>5513.0</td>\n      <td>SEGA EUROPE LIMITED</td>\n      <td>No</td>\n      <td>No</td>\n      <td>No</td>\n      <td>No</td>\n      <td>No</td>\n      <td>TW8 9BW</td>\n      <td>96090.0</td>\n      <td>27 Great West Road, Brentford, Middlesex, TW8 9BW</td>\n      <td>...</td>\n      <td>NaN</td>\n      <td>TW8 9BW</td>\n      <td>Brentford</td>\n      <td>TW8 9BW</td>\n      <td>http://www.sega.com</td>\n      <td>True</td>\n      <td>\\n\\nWeb Page Blocked\\n\\n\\n\\n\\n\\n\\n\\nWeb Page B...</td>\n      <td>www.sega.com</td>\n      <td>[]</td>\n      <td>None</td>\n    </tr>\n    <tr>\n      <th>4</th>\n      <td>53559.0</td>\n      <td>TWO POINT STUDIOS LIMITED</td>\n      <td>No</td>\n      <td>No</td>\n      <td>No</td>\n      <td>No</td>\n      <td>No</td>\n      <td>TW8 9BW</td>\n      <td>62011.0</td>\n      <td>C/0 Sega Europe Limited, 27, Great West Road, ...</td>\n      <td>...</td>\n      <td>NaN</td>\n      <td>TW8 9BW</td>\n      <td>Brentford</td>\n      <td>TW8 9BW</td>\n      <td>http://www.sega.com</td>\n      <td>True</td>\n      <td>\\n\\nWeb Page Blocked\\n\\n\\n\\n\\n\\n\\n\\nWeb Page B...</td>\n      <td>www.sega.com</td>\n      <td>[]</td>\n      <td>None</td>\n    </tr>\n    <tr>\n      <th>...</th>\n      <td>...</td>\n      <td>...</td>\n      <td>...</td>\n      <td>...</td>\n      <td>...</td>\n      <td>...</td>\n      <td>...</td>\n      <td>...</td>\n      <td>...</td>\n      <td>...</td>\n      <td>...</td>\n      <td>...</td>\n      <td>...</td>\n      <td>...</td>\n      <td>...</td>\n      <td>...</td>\n      <td>...</td>\n      <td>...</td>\n      <td>...</td>\n      <td>...</td>\n      <td>...</td>\n    </tr>\n    <tr>\n      <th>7934</th>\n      <td>72757.0</td>\n      <td>SRI VITTAL INFOTECH LIMITED</td>\n      <td>No</td>\n      <td>No</td>\n      <td>No</td>\n      <td>No</td>\n      <td>No</td>\n      <td>SM6 9LZ</td>\n      <td>62020.0</td>\n      <td>15 Mallard Way, Wallington, Surrey, SM6 9LZ</td>\n      <td>...</td>\n      <td>NaN</td>\n      <td>SM6 9LZ</td>\n      <td>Wallington</td>\n      <td>SM6 9LZ</td>\n      <td>http://technologyonice.blogspot.com</td>\n      <td>True</td>\n      <td>\\n\\n\\n\\n\\n\\n\\n\\n\\n\\n\\n\\n\\n\\n\\nTechnology on Ic...</td>\n      <td>technologyonice.blogspot.com</td>\n      <td>[]</td>\n      <td>None</td>\n    </tr>\n    <tr>\n      <th>7935</th>\n      <td>72843.0</td>\n      <td>EDGWARE DRYCLEANERS LTD</td>\n      <td>No</td>\n      <td>No</td>\n      <td>No</td>\n      <td>No</td>\n      <td>No</td>\n      <td>HA8 7LY</td>\n      <td>96010.0</td>\n      <td>43 Manor Park Crescent, Edgware, Middlesex, HA...</td>\n      <td>...</td>\n      <td>NaN</td>\n      <td>HA8 7LY</td>\n      <td>Edgware</td>\n      <td>HA8 7LY</td>\n      <td>http://www.ueni.com</td>\n      <td>True</td>\n      <td>UENI - The #1 Solution for Small Business Webs...</td>\n      <td>www.ueni.com</td>\n      <td>[ss02Ou, te03Yo, ek04Ho]</td>\n      <td>None</td>\n    </tr>\n    <tr>\n      <th>7937</th>\n      <td>73092.0</td>\n      <td>INFINITY CONSULTING (UK) LIMITED</td>\n      <td>No</td>\n      <td>No</td>\n      <td>No</td>\n      <td>No</td>\n      <td>No</td>\n      <td>HA7 2DX</td>\n      <td>62012.0</td>\n      <td>3 Bush Grove, Stanmore, Middlesex, HA7 2DX</td>\n      <td>...</td>\n      <td>NaN</td>\n      <td>HA7 2DX</td>\n      <td>Stanmore</td>\n      <td>HA7 2DX</td>\n      <td>http://www.infinitylimited.co.uk</td>\n      <td>True</td>\n      <td></td>\n      <td>www.infinitylimited.co.uk</td>\n      <td>[]</td>\n      <td>None</td>\n    </tr>\n    <tr>\n      <th>7938</th>\n      <td>73715.0</td>\n      <td>ANA SOLUTIONS LIMITED</td>\n      <td>No</td>\n      <td>No</td>\n      <td>No</td>\n      <td>No</td>\n      <td>No</td>\n      <td>IG1 3QH</td>\n      <td>62020.0</td>\n      <td>58 Cranbrook Rise, Ilford, Essex, IG1 3QH</td>\n      <td>...</td>\n      <td>NaN</td>\n      <td>IG1 3QH</td>\n      <td>Ilford</td>\n      <td>IG1 3QH</td>\n      <td>http://www.anatriosolutions.com</td>\n      <td>True</td>\n      <td>\\n\\n\\n\\n\\n\\n\\n\\n\\n\\n\\n\\n\\n\\n\\n\\n\\n\\n\\n\\n\\n\\n\\n...</td>\n      <td>www.anatriosolutions.com</td>\n      <td>[]</td>\n      <td>None</td>\n    </tr>\n    <tr>\n      <th>7939</th>\n      <td>74457.0</td>\n      <td>HYPERVIZORSOLUTIONS LIMITED</td>\n      <td>No</td>\n      <td>No</td>\n      <td>No</td>\n      <td>No</td>\n      <td>No</td>\n      <td>TW8 9ES</td>\n      <td>62020.0</td>\n      <td>Profile West, 950 Great West Road, Great West ...</td>\n      <td>...</td>\n      <td>Great West Road</td>\n      <td>TW8 9ES</td>\n      <td>Brentford</td>\n      <td>TW8 9ES</td>\n      <td>http://hvsl.co.uk</td>\n      <td>True</td>\n      <td>\\n\\n\\nHVSL\\n\\n\\n\\n\\n\\n\\n\\n\\n\\n\\n</td>\n      <td>hvsl.co.uk</td>\n      <td>[]</td>\n      <td>None</td>\n    </tr>\n  </tbody>\n</table>\n<p>6090 rows × 24 columns</p>\n</div>",
      "text/plain": "      Unnamed: 0                          Company name Inactive Quoted Branch  \\\n0           84.0  MOORE STEPHENS INTERNATIONAL LIMITED       No     No     No   \n1          320.0             PULSTAR DATAPRINT LIMITED       No     No     No   \n2         1292.0          SEGA EUROPE OVERSEAS LIMITED       No     No     No   \n3         5513.0                   SEGA EUROPE LIMITED       No     No     No   \n4        53559.0             TWO POINT STUDIOS LIMITED       No     No     No   \n...          ...                                   ...      ...    ...    ...   \n7934     72757.0           SRI VITTAL INFOTECH LIMITED       No     No     No   \n7935     72843.0               EDGWARE DRYCLEANERS LTD       No     No     No   \n7937     73092.0      INFINITY CONSULTING (UK) LIMITED       No     No     No   \n7938     73715.0                 ANA SOLUTIONS LIMITED       No     No     No   \n7939     74457.0           HYPERVIZORSOLUTIONS LIMITED       No     No     No   \n\n     OwnData Woco R/O Full Postcode Primary UK SIC (2007) code  \\\n0         No   No           SE1 3TQ                    96090.0   \n1         No   No           NW2 7HD                    62090.0   \n2         No   No           TW8 9BW                    70100.0   \n3         No   No           TW8 9BW                    96090.0   \n4         No   No           TW8 9BW                    62011.0   \n...      ...  ...               ...                        ...   \n7934      No   No           SM6 9LZ                    62020.0   \n7935      No   No           HA8 7LY                    96010.0   \n7937      No   No           HA7 2DX                    62012.0   \n7938      No   No           IG1 3QH                    62020.0   \n7939      No   No           TW8 9ES                    62020.0   \n\n                                Primary trading address  ...  \\\n0     5 Market Yard Mews, 194-204 Bermondsey Street,...  ...   \n1     152-154 Coles Green Road, London, London, NW2 7HD  ...   \n2     27 Great West Road, Brentford, Middlesex, TW8 9BW  ...   \n3     27 Great West Road, Brentford, Middlesex, TW8 9BW  ...   \n4     C/0 Sega Europe Limited, 27, Great West Road, ...  ...   \n...                                                 ...  ...   \n7934        15 Mallard Way, Wallington, Surrey, SM6 9LZ  ...   \n7935  43 Manor Park Crescent, Edgware, Middlesex, HA...  ...   \n7937         3 Bush Grove, Stanmore, Middlesex, HA7 2DX  ...   \n7938          58 Cranbrook Rise, Ilford, Essex, IG1 3QH  ...   \n7939  Profile West, 950 Great West Road, Great West ...  ...   \n\n     R/O Address, line 3 R/O Full Postcode.1 Primary trading address City  \\\n0                    NaN             SE1 3TQ                       London   \n1                    NaN             NW2 7HD                       London   \n2                    NaN             TW8 9BW                    Brentford   \n3                    NaN             TW8 9BW                    Brentford   \n4                    NaN             TW8 9BW                    Brentford   \n...                  ...                 ...                          ...   \n7934                 NaN             SM6 9LZ                   Wallington   \n7935                 NaN             HA8 7LY                      Edgware   \n7937                 NaN             HA7 2DX                     Stanmore   \n7938                 NaN             IG1 3QH                       Ilford   \n7939     Great West Road             TW8 9ES                    Brentford   \n\n     postcode                                  url status  \\\n0     SE1 3TQ                http://www.sequel.com   True   \n1     NW2 7HD             http://www.pulstar.co.uk   True   \n2     TW8 9BW                  http://www.sega.com   True   \n3     TW8 9BW                  http://www.sega.com   True   \n4     TW8 9BW                  http://www.sega.com   True   \n...       ...                                  ...    ...   \n7934  SM6 9LZ  http://technologyonice.blogspot.com   True   \n7935  HA8 7LY                  http://www.ueni.com   True   \n7937  HA7 2DX     http://www.infinitylimited.co.uk   True   \n7938  IG1 3QH      http://www.anatriosolutions.com   True   \n7939  TW8 9ES                    http://hvsl.co.uk   True   \n\n                                                   text  \\\n0     \\n\\n\\n\\n\\n\\n\\nVerisk Sequel - The future of in...   \n1     \\n\\n\\nHome :: Osmosis Promotional Products \\n ...   \n2     \\n\\nWeb Page Blocked\\n\\n\\n\\n\\n\\n\\n\\nWeb Page B...   \n3     \\n\\nWeb Page Blocked\\n\\n\\n\\n\\n\\n\\n\\nWeb Page B...   \n4     \\n\\nWeb Page Blocked\\n\\n\\n\\n\\n\\n\\n\\nWeb Page B...   \n...                                                 ...   \n7934  \\n\\n\\n\\n\\n\\n\\n\\n\\n\\n\\n\\n\\n\\n\\nTechnology on Ic...   \n7935  UENI - The #1 Solution for Small Business Webs...   \n7937                                                      \n7938  \\n\\n\\n\\n\\n\\n\\n\\n\\n\\n\\n\\n\\n\\n\\n\\n\\n\\n\\n\\n\\n\\n\\n...   \n7939                   \\n\\n\\nHVSL\\n\\n\\n\\n\\n\\n\\n\\n\\n\\n\\n   \n\n                        actual_url             text_postcode   suspicious  \n0                   www.sequel.com                        []         None  \n1                www.pulstar.co.uk                 [EN5 4DJ]  SUSPICIOUS!  \n2                     www.sega.com                        []         None  \n3                     www.sega.com                        []         None  \n4                     www.sega.com                        []         None  \n...                            ...                       ...          ...  \n7934  technologyonice.blogspot.com                        []         None  \n7935                  www.ueni.com  [ss02Ou, te03Yo, ek04Ho]         None  \n7937     www.infinitylimited.co.uk                        []         None  \n7938      www.anatriosolutions.com                        []         None  \n7939                    hvsl.co.uk                        []         None  \n\n[6090 rows x 24 columns]"
     },
     "execution_count": 61,
     "metadata": {},
     "output_type": "execute_result"
    }
   ],
   "source": [
    "london_data"
   ]
  },
  {
   "cell_type": "code",
   "execution_count": 62,
   "metadata": {},
   "outputs": [
    {
     "data": {
      "text/plain": "[None,\n 'SUSPICIOUS!',\n None,\n None,\n None,\n None,\n 'ok',\n None,\n 'ok',\n 'ok',\n None,\n None,\n None,\n None,\n None,\n None,\n None,\n None,\n 'SUSPICIOUS!',\n None,\n None,\n 'ok',\n 'SUSPICIOUS!',\n None,\n None,\n None,\n None,\n None,\n 'SUSPICIOUS!',\n None,\n None,\n None,\n 'ok',\n 'ok',\n None,\n None,\n None,\n None,\n None,\n 'ok',\n 'ok',\n 'ok',\n 'ok',\n 'ok',\n 'ok',\n 'ok',\n 'ok',\n 'ok',\n 'ok',\n None,\n None,\n None,\n None,\n None,\n None,\n None,\n None,\n None,\n None,\n None,\n None,\n None,\n None,\n None,\n None,\n None,\n None,\n None,\n None,\n None,\n 'ok',\n None,\n None,\n None,\n None,\n None,\n None,\n None,\n None,\n None,\n None,\n None,\n None,\n None,\n None,\n None,\n None,\n None,\n None,\n 'SUSPICIOUS!',\n 'SUSPICIOUS!',\n 'ok',\n None,\n None,\n None,\n None,\n None,\n None,\n None,\n None,\n None,\n None,\n None,\n None,\n None,\n None,\n 'ok',\n None,\n None,\n None,\n None,\n None,\n None,\n None,\n 'ok',\n None,\n None,\n 'ok',\n None,\n 'ok',\n 'ok',\n 'ok',\n None,\n 'SUSPICIOUS!',\n None,\n None,\n None,\n None,\n None,\n None,\n None,\n 'ok',\n None,\n None,\n 'ok',\n 'SUSPICIOUS!',\n None,\n None,\n 'SUSPICIOUS!',\n 'ok',\n 'ok',\n 'ok',\n 'ok',\n 'ok',\n 'ok',\n 'ok',\n 'ok',\n 'ok',\n 'ok',\n 'ok',\n 'ok',\n 'ok',\n 'ok',\n 'ok',\n 'ok',\n 'ok',\n 'ok',\n 'ok',\n 'ok',\n 'ok',\n 'ok',\n 'ok',\n None,\n None,\n None,\n None,\n 'SUSPICIOUS!',\n None,\n None,\n None,\n None,\n None,\n None,\n None,\n None,\n None,\n None,\n None,\n None,\n None,\n 'SUSPICIOUS!',\n 'SUSPICIOUS!',\n 'SUSPICIOUS!',\n 'ok',\n None,\n 'ok',\n 'ok',\n None,\n 'ok',\n 'SUSPICIOUS!',\n 'ok',\n 'ok',\n None,\n None,\n None,\n None,\n None,\n None,\n None,\n 'SUSPICIOUS!',\n None,\n None,\n None,\n None,\n None,\n None,\n None,\n None,\n None,\n None,\n None,\n 'ok',\n 'SUSPICIOUS!',\n None,\n None,\n None,\n 'ok',\n 'ok',\n 'SUSPICIOUS!',\n None,\n None,\n 'ok',\n 'ok',\n None,\n None,\n None,\n None,\n 'SUSPICIOUS!',\n None,\n None,\n None,\n None,\n None,\n None,\n None,\n None,\n None,\n None,\n None,\n None,\n None,\n None,\n None,\n None,\n None,\n None,\n None,\n None,\n 'SUSPICIOUS!',\n None,\n None,\n None,\n None,\n None,\n None,\n 'SUSPICIOUS!',\n 'ok',\n 'ok',\n 'ok',\n None,\n None,\n None,\n None,\n 'ok',\n None,\n None,\n None,\n None,\n None,\n None,\n None,\n 'SUSPICIOUS!',\n 'SUSPICIOUS!',\n None,\n 'SUSPICIOUS!',\n 'ok',\n None,\n None,\n 'SUSPICIOUS!',\n None,\n None,\n None,\n None,\n 'ok',\n None,\n None,\n None,\n None,\n None,\n 'ok',\n 'ok',\n None,\n None,\n 'SUSPICIOUS!',\n None,\n None,\n 'SUSPICIOUS!',\n 'SUSPICIOUS!',\n 'SUSPICIOUS!',\n 'SUSPICIOUS!',\n None,\n None,\n None,\n None,\n None,\n None,\n None,\n None,\n None,\n None,\n None,\n None,\n None,\n None,\n None,\n None,\n None,\n None,\n None,\n 'SUSPICIOUS!',\n None,\n None,\n None,\n None,\n None,\n None,\n 'SUSPICIOUS!',\n 'SUSPICIOUS!',\n 'SUSPICIOUS!',\n 'SUSPICIOUS!',\n 'SUSPICIOUS!',\n 'SUSPICIOUS!',\n 'ok',\n 'ok',\n 'SUSPICIOUS!',\n 'SUSPICIOUS!',\n 'SUSPICIOUS!',\n 'ok',\n None,\n None,\n None,\n None,\n 'ok',\n None,\n None,\n None,\n None,\n None,\n None,\n None,\n None,\n None,\n None,\n 'ok',\n None,\n None,\n None,\n None,\n None,\n 'SUSPICIOUS!',\n None,\n None,\n 'ok',\n 'ok',\n 'ok',\n None,\n None,\n None,\n None,\n None,\n None,\n None,\n None,\n 'ok',\n 'ok',\n 'ok',\n 'SUSPICIOUS!',\n None,\n None,\n None,\n 'SUSPICIOUS!',\n 'ok',\n 'ok',\n 'ok',\n 'ok',\n 'ok',\n 'ok',\n None,\n None,\n None,\n None,\n None,\n None,\n None,\n None,\n None,\n None,\n None,\n None,\n None,\n None,\n None,\n 'ok',\n None,\n None,\n None,\n None,\n 'ok',\n 'ok',\n 'ok',\n 'ok',\n 'SUSPICIOUS!',\n None,\n None,\n None,\n 'ok',\n 'ok',\n 'ok',\n 'ok',\n 'ok',\n 'ok',\n 'ok',\n 'SUSPICIOUS!',\n None,\n None,\n None,\n None,\n None,\n None,\n None,\n None,\n 'ok',\n None,\n None,\n None,\n None,\n None,\n None,\n None,\n None,\n None,\n None,\n None,\n None,\n None,\n None,\n None,\n None,\n None,\n None,\n None,\n None,\n None,\n None,\n None,\n 'ok',\n 'ok',\n 'ok',\n 'ok',\n 'ok',\n None,\n None,\n None,\n None,\n None,\n None,\n 'ok',\n None,\n None,\n 'SUSPICIOUS!',\n 'SUSPICIOUS!',\n 'ok',\n None,\n None,\n None,\n None,\n None,\n 'ok',\n None,\n None,\n None,\n None,\n None,\n None,\n None,\n None,\n None,\n None,\n 'ok',\n 'ok',\n 'ok',\n 'ok',\n 'ok',\n 'ok',\n 'ok',\n 'SUSPICIOUS!',\n None,\n None,\n 'ok',\n None,\n None,\n None,\n None,\n None,\n None,\n None,\n None,\n None,\n None,\n None,\n None,\n None,\n None,\n None,\n 'ok',\n 'ok',\n 'ok',\n 'ok',\n 'ok',\n 'ok',\n 'ok',\n 'ok',\n 'ok',\n 'ok',\n 'ok',\n 'SUSPICIOUS!',\n None,\n None,\n None,\n None,\n None,\n None,\n None,\n None,\n None,\n None,\n None,\n None,\n None,\n None,\n None,\n None,\n None,\n None,\n None,\n 'SUSPICIOUS!',\n None,\n None,\n None,\n 'SUSPICIOUS!',\n 'SUSPICIOUS!',\n 'SUSPICIOUS!',\n None,\n 'ok',\n 'SUSPICIOUS!',\n 'SUSPICIOUS!',\n None,\n None,\n None,\n None,\n None,\n None,\n None,\n 'SUSPICIOUS!',\n None,\n None,\n None,\n None,\n None,\n None,\n None,\n None,\n 'SUSPICIOUS!',\n None,\n None,\n None,\n None,\n None,\n 'ok',\n 'ok',\n 'ok',\n 'SUSPICIOUS!',\n 'SUSPICIOUS!',\n None,\n None,\n None,\n 'SUSPICIOUS!',\n None,\n None,\n None,\n None,\n None,\n None,\n None,\n 'SUSPICIOUS!',\n None,\n 'SUSPICIOUS!',\n None,\n None,\n None,\n None,\n None,\n 'ok',\n None,\n None,\n None,\n None,\n None,\n None,\n None,\n None,\n None,\n None,\n None,\n None,\n None,\n None,\n None,\n None,\n None,\n None,\n None,\n None,\n None,\n None,\n None,\n None,\n None,\n None,\n None,\n None,\n None,\n None,\n None,\n None,\n None,\n None,\n None,\n None,\n None,\n None,\n None,\n None,\n None,\n None,\n None,\n None,\n None,\n None,\n None,\n None,\n 'SUSPICIOUS!',\n None,\n None,\n None,\n None,\n None,\n None,\n 'ok',\n None,\n None,\n None,\n None,\n None,\n None,\n None,\n None,\n None,\n None,\n None,\n None,\n None,\n None,\n None,\n None,\n None,\n None,\n None,\n None,\n 'SUSPICIOUS!',\n None,\n None,\n None,\n None,\n None,\n None,\n 'ok',\n None,\n None,\n None,\n 'ok',\n 'ok',\n None,\n None,\n None,\n None,\n None,\n None,\n None,\n None,\n None,\n None,\n None,\n 'SUSPICIOUS!',\n 'ok',\n 'ok',\n 'ok',\n 'ok',\n 'SUSPICIOUS!',\n None,\n None,\n None,\n None,\n None,\n None,\n None,\n None,\n None,\n None,\n None,\n None,\n None,\n None,\n None,\n None,\n None,\n None,\n None,\n None,\n None,\n None,\n None,\n None,\n None,\n 'SUSPICIOUS!',\n 'SUSPICIOUS!',\n 'SUSPICIOUS!',\n None,\n None,\n None,\n None,\n None,\n None,\n None,\n None,\n None,\n None,\n None,\n None,\n None,\n None,\n None,\n None,\n None,\n None,\n None,\n 'ok',\n None,\n None,\n None,\n None,\n 'SUSPICIOUS!',\n 'SUSPICIOUS!',\n 'SUSPICIOUS!',\n 'ok',\n 'SUSPICIOUS!',\n 'SUSPICIOUS!',\n None,\n None,\n None,\n 'SUSPICIOUS!',\n None,\n None,\n None,\n None,\n None,\n None,\n None,\n None,\n None,\n None,\n 'ok',\n 'ok',\n None,\n None,\n 'ok',\n 'ok',\n None,\n None,\n None,\n None,\n None,\n None,\n None,\n None,\n None,\n None,\n 'ok',\n 'ok',\n 'ok',\n 'ok',\n 'ok',\n 'ok',\n 'ok',\n None,\n None,\n None,\n None,\n None,\n None,\n 'ok',\n None,\n None,\n None,\n None,\n None,\n None,\n None,\n None,\n None,\n None,\n None,\n None,\n None,\n None,\n 'ok',\n 'ok',\n 'ok',\n 'ok',\n 'ok',\n None,\n None,\n None,\n None,\n None,\n None,\n None,\n 'ok',\n 'ok',\n 'ok',\n 'ok',\n 'ok',\n 'ok',\n None,\n None,\n 'ok',\n 'SUSPICIOUS!',\n None,\n None,\n None,\n 'ok',\n 'ok',\n None,\n None,\n None,\n None,\n None,\n None,\n 'ok',\n None,\n None,\n None,\n None,\n None,\n None,\n None,\n None,\n None,\n None,\n None,\n None,\n None,\n None,\n None,\n None,\n None,\n None,\n 'SUSPICIOUS!',\n None,\n 'ok',\n 'ok',\n None,\n None,\n 'SUSPICIOUS!',\n None,\n 'ok',\n None,\n None,\n None,\n 'ok',\n 'SUSPICIOUS!',\n None,\n None,\n None,\n None,\n None,\n None,\n 'SUSPICIOUS!',\n 'SUSPICIOUS!',\n None,\n None,\n None,\n None,\n 'ok',\n 'ok',\n None,\n None,\n None,\n None,\n None,\n None,\n None,\n None,\n None,\n None,\n None,\n None,\n None,\n None,\n None,\n None,\n None,\n 'SUSPICIOUS!',\n 'SUSPICIOUS!',\n None,\n None,\n None,\n None,\n None,\n 'SUSPICIOUS!',\n None,\n 'ok',\n None,\n 'ok',\n None,\n None,\n None,\n None,\n None,\n None,\n None,\n None,\n None,\n None,\n None,\n 'ok',\n None,\n None,\n 'ok',\n 'ok',\n 'ok',\n 'ok',\n 'ok',\n 'SUSPICIOUS!',\n None,\n None,\n None,\n 'ok',\n None,\n None,\n 'ok',\n 'SUSPICIOUS!',\n 'SUSPICIOUS!',\n 'ok',\n None,\n 'ok',\n 'ok',\n None,\n None,\n None,\n None,\n None,\n None,\n None,\n None,\n None,\n None,\n None,\n None,\n None,\n None,\n None,\n None,\n None,\n None,\n None,\n 'ok',\n 'SUSPICIOUS!',\n None,\n 'SUSPICIOUS!',\n 'ok',\n None,\n None,\n 'SUSPICIOUS!',\n None,\n None,\n None,\n None,\n None,\n None,\n ...]"
     },
     "execution_count": 62,
     "metadata": {},
     "output_type": "execute_result"
    }
   ],
   "source": [
    "london_data['suspicious'].tolist()"
   ]
  },
  {
   "cell_type": "code",
   "execution_count": null,
   "metadata": {},
   "outputs": [],
   "source": []
  },
  {
   "cell_type": "code",
   "execution_count": null,
   "metadata": {},
   "outputs": [],
   "source": []
  }
 ],
 "metadata": {
  "kernelspec": {
   "display_name": "Python 3.10.9 64-bit ('paper_3': conda)",
   "name": "python3109jvsc74a57bd09c88df90110bced9cec65b9bdbd3e4c663d10a8b4acefcbcfa76c0bc8c341b4e"
  },
  "language_info": {
   "codemirror_mode": {
    "name": "ipython",
    "version": 3
   },
   "file_extension": ".py",
   "mimetype": "text/x-python",
   "name": "python",
   "nbconvert_exporter": "python",
   "pygments_lexer": "ipython3",
   "version": "3.10.9"
  },
  "orig_nbformat": 2
 },
 "nbformat": 4,
 "nbformat_minor": 2
}