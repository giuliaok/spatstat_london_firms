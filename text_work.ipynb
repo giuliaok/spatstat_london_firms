{
 "cells": [
  {
   "cell_type": "code",
   "execution_count": 3,
   "metadata": {},
   "outputs": [],
   "source": [
    "import pandas as pd\n",
    "import glob\n",
    "import os\n",
    "import re"
   ]
  },
  {
   "cell_type": "code",
   "execution_count": 10,
   "metadata": {},
   "outputs": [],
   "source": [
    "data = pd.read_pickle('/Users/gocchini/Desktop/paper_3/data/data_almost_complete.pkl')\n",
    "london_postcodes = pd.read_csv('/Users/gocchini/Desktop/paper_3/data/london_postcodes-ons-postcodes-directory-feb22.csv')"
   ]
  },
  {
   "cell_type": "code",
   "execution_count": 4,
   "metadata": {},
   "outputs": [],
   "source": [
    "data_main_shareholder = pd.concat([pd.read_excel(f, 'Results') for f in glob.glob('/Users/gocchini/Desktop/paper_3/data/FAME_2/*.xlsx')], ignore_index = True)"
   ]
  },
  {
   "cell_type": "code",
   "execution_count": 7,
   "metadata": {},
   "outputs": [],
   "source": [
    "data_main_shareholder.to_pickle('/Users/gocchini/Desktop/paper_3/data/data_main_shareholder.pkl')"
   ]
  },
  {
   "cell_type": "code",
   "execution_count": 11,
   "metadata": {},
   "outputs": [],
   "source": [
    "def data_processing(data, london_data): \n",
    "    data = data.loc[(data['Inactive'] == 'No')]\n",
    "    data = data[data['Primary UK SIC (2007) code'].notna()]\n",
    "    data = data[data['Primary trading address'].notna()]\n",
    "    data = data.drop_duplicates(keep=False)\n",
    "    data['postcode'] = data['Primary trading address'].apply(lambda x: x.split(',')[-1])\n",
    "    data['postcode'] = data['postcode'].apply(lambda x: x[1:])\n",
    "    london_postcodes = london_data['pcd'].tolist()\n",
    "    london_df = data[data['postcode'].isin(london_postcodes)]\n",
    "    london_df['Primary UK SIC (2007) code'] = london_df['Primary UK SIC (2007) code'].astype('string')\n",
    "    return london_df "
   ]
  },
  {
   "cell_type": "code",
   "execution_count": 12,
   "metadata": {},
   "outputs": [
    {
     "name": "stderr",
     "output_type": "stream",
     "text": [
      "/var/folders/0f/pzhfvnbj63jg3sk3nj099q3w0000gq/T/ipykernel_13240/2154885762.py:10: SettingWithCopyWarning: \n",
      "A value is trying to be set on a copy of a slice from a DataFrame.\n",
      "Try using .loc[row_indexer,col_indexer] = value instead\n",
      "\n",
      "See the caveats in the documentation: https://pandas.pydata.org/pandas-docs/stable/user_guide/indexing.html#returning-a-view-versus-a-copy\n",
      "  london_df['Primary UK SIC (2007) code'] = london_df['Primary UK SIC (2007) code'].astype('string')\n"
     ]
    }
   ],
   "source": [
    "\n",
    "london_df = data_processing(data , london_postcodes)"
   ]
  },
  {
   "cell_type": "code",
   "execution_count": 13,
   "metadata": {},
   "outputs": [],
   "source": [
    "london_intangibles = london_df[london_df['Primary UK SIC (2007) code'].str.contains(\n",
    "    \"^85|^92|^96|^59|^60|^61|^62|^63|^64|^66|^69|^70|^71|^72|^73|^74|^79|^82|^77|^78\")]"
   ]
  },
  {
   "cell_type": "code",
   "execution_count": 20,
   "metadata": {},
   "outputs": [],
   "source": [
    "london_intangible_main_shareholder = london_intangibles.merge(data_main_shareholder, left_on = 'Company name', right_on= 'Company name', how = 'inner')"
   ]
  },
  {
   "cell_type": "code",
   "execution_count": 27,
   "metadata": {},
   "outputs": [],
   "source": [
    "with open ('/Users/gocchini/Desktop/paper_3/data/list-of-salutations-titles-honorifics.txt') as f: \n",
    "    lines = f.readlines()\n",
    "honorifics = [line.strip() for line in lines]"
   ]
  },
  {
   "cell_type": "code",
   "execution_count": 52,
   "metadata": {},
   "outputs": [],
   "source": [
    "def natural_entity_finder(entity, honorifics):\n",
    "    if type(entity) != float:\n",
    "        if any(honorific in entity for honorific in honorifics): \n",
    "            return 'natural person'\n",
    "        else:\n",
    "            return 'conglomerate'"
   ]
  },
  {
   "cell_type": "code",
   "execution_count": 53,
   "metadata": {},
   "outputs": [],
   "source": [
    "london_intangible_main_shareholder['natural_entity_finder'] = london_intangible_main_shareholder.apply(lambda x: natural_entity_finder(x['PSC - Name'], honorifics), axis = 1)\n",
    "london_intangible_main_shareholder = london_intangible_main_shareholder.loc[london_intangible_main_shareholder['natural_entity_finder'] ==  'natural person']"
   ]
  },
  {
   "cell_type": "code",
   "execution_count": 65,
   "metadata": {},
   "outputs": [],
   "source": [
    "london_intangible_main_shareholder['Website'].to_pickle('/Users/gocchini/Desktop/paper_3/data/websites_paper_3.pkl')"
   ]
  },
  {
   "cell_type": "code",
   "execution_count": 7,
   "metadata": {},
   "outputs": [],
   "source": [
    "text3 = pd.read_pickle('/Users/gocchini/Desktop/paper_1/scripts_paper_1/df_november_2022.pkl')\n",
    "text3['actual_url'] = text3['url'].str.replace('http://', '')\n",
    "text3['actual_url'] = text3['actual_url'].str.replace('https://', '')"
   ]
  },
  {
   "cell_type": "code",
   "execution_count": 8,
   "metadata": {},
   "outputs": [],
   "source": [
    "london_data = london_intangibles.merge(text3, left_on = 'Website', right_on= 'actual_url')"
   ]
  },
  {
   "cell_type": "code",
   "execution_count": 9,
   "metadata": {},
   "outputs": [],
   "source": [
    "london_data = london_data.loc[london_data['status']==True]"
   ]
  },
  {
   "cell_type": "code",
   "execution_count": 10,
   "metadata": {},
   "outputs": [
    {
     "name": "stderr",
     "output_type": "stream",
     "text": [
      "/var/folders/0f/pzhfvnbj63jg3sk3nj099q3w0000gq/T/ipykernel_33536/2786139566.py:1: DtypeWarning: Columns (18,29,47) have mixed types. Specify dtype option on import or set low_memory=False.\n",
      "  england_postcodes = pd.read_csv('/Users/gocchini/Downloads/England postcodes.csv')\n"
     ]
    }
   ],
   "source": [
    "england_postcodes = pd.read_csv('/Users/gocchini/Downloads/England postcodes.csv')"
   ]
  },
  {
   "cell_type": "code",
   "execution_count": 11,
   "metadata": {},
   "outputs": [],
   "source": [
    "english_postcodes = england_postcodes['Postcode'].tolist()"
   ]
  },
  {
   "cell_type": "code",
   "execution_count": 15,
   "metadata": {},
   "outputs": [],
   "source": [
    "def postcode_finder(text):\n",
    "    postcodes = re.findall(r'([Gg][Ii][Rr] 0[Aa]{2})|((([A-Za-z][0-9]{1,2})|(([A-Za-z][A-Ha-hJ-Yj-y][0-9]{1,2})|(([A-Za-z][0-9][A-Za-z])|([A-Za-z][A-Ha-hJ-Yj-y][0-9][A-Za-z]?))))\\s?[0-9][A-Za-z]{2})', text)\n",
    "    postcodes = [postcode[1] for postcode in postcodes]\n",
    "    return postcodes "
   ]
  },
  {
   "cell_type": "code",
   "execution_count": 16,
   "metadata": {},
   "outputs": [],
   "source": [
    "london_data['text_postcode'] = london_data['text'].apply(postcode_finder)"
   ]
  },
  {
   "cell_type": "code",
   "execution_count": 17,
   "metadata": {},
   "outputs": [],
   "source": [
    "def suspicious_postcodes_finder(postcode, postcode_in_text, english_postcodes):\n",
    "    if len(postcode_in_text) > 0: \n",
    "        if postcode_in_text[0].isupper():\n",
    "            if postcode_in_text[0] in english_postcodes:\n",
    "                if postcode != postcode_in_text[0]:\n",
    "                    return 'SUSPICIOUS!'\n",
    "                else: \n",
    "                    return 'ok'"
   ]
  },
  {
   "cell_type": "code",
   "execution_count": 18,
   "metadata": {},
   "outputs": [],
   "source": [
    "london_data['suspicious'] = london_data.apply(lambda x: suspicious_postcodes_finder(x['postcode'], x['text_postcode'], english_postcodes), axis = 1)"
   ]
  },
  {
   "cell_type": "code",
   "execution_count": null,
   "metadata": {},
   "outputs": [],
   "source": []
  }
 ],
 "metadata": {
  "kernelspec": {
   "display_name": "Python 3.10.9 64-bit ('paper_3': conda)",
   "name": "python3109jvsc74a57bd09c88df90110bced9cec65b9bdbd3e4c663d10a8b4acefcbcfa76c0bc8c341b4e"
  },
  "language_info": {
   "codemirror_mode": {
    "name": "ipython",
    "version": 3
   },
   "file_extension": ".py",
   "mimetype": "text/x-python",
   "name": "python",
   "nbconvert_exporter": "python",
   "pygments_lexer": "ipython3",
   "version": "3.10.9"
  },
  "orig_nbformat": 2
 },
 "nbformat": 4,
 "nbformat_minor": 2
}