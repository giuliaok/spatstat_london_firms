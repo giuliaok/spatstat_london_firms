{
 "cells": [
  {
   "cell_type": "code",
   "execution_count": 1,
   "metadata": {},
   "outputs": [],
   "source": [
    "import pandas as pd\n",
    "import glob\n",
    "import os\n",
    "import re"
   ]
  },
  {
   "cell_type": "code",
   "execution_count": 3,
   "metadata": {},
   "outputs": [],
   "source": [
    "data = pd.read_pickle('/Users/gocchini/Desktop/paper_3/data/data_almost_complete.pkl')\n",
    "london_postcodes = pd.read_csv('/Users/gocchini/Desktop/paper_3/data/london_postcodes-ons-postcodes-directory-feb22.csv')"
   ]
  },
  {
   "cell_type": "code",
   "execution_count": 118,
   "metadata": {},
   "outputs": [],
   "source": [
    "data_main_shareholder = pd.concat([pd.read_excel(f, 'Results') for f in glob.glob('/Users/gocchini/Desktop/paper_3/data/FAME_2/*.xlsx')], ignore_index = True)\n",
    "data_main_shareholder.to_pickle('/Users/gocchini/Desktop/paper_3/data/data_main_shareholder.pkl')"
   ]
  },
  {
   "cell_type": "code",
   "execution_count": 2,
   "metadata": {},
   "outputs": [],
   "source": [
    "data_main_shareholder = pd.read_pickle('/Users/gocchini/Desktop/paper_3/data/data_main_shareholder.pkl')"
   ]
  },
  {
   "cell_type": "code",
   "execution_count": 4,
   "metadata": {},
   "outputs": [],
   "source": [
    "def data_processing(data, london_data): \n",
    "    data = data.loc[(data['Inactive'] == 'No')]\n",
    "    data = data[data['Primary UK SIC (2007) code'].notna()]\n",
    "    data = data[data['Primary trading address'].notna()]\n",
    "    data = data.drop_duplicates(keep=False)\n",
    "    data['postcode'] = data['Primary trading address'].apply(lambda x: x.split(',')[-1])\n",
    "    data['postcode'] = data['postcode'].apply(lambda x: x[1:])\n",
    "    london_postcodes = london_data['pcd'].tolist()\n",
    "    london_df = data[data['postcode'].isin(london_postcodes)]\n",
    "    london_df['Primary UK SIC (2007) code'] = london_df['Primary UK SIC (2007) code'].astype('string')\n",
    "    return london_df "
   ]
  },
  {
   "cell_type": "code",
   "execution_count": 5,
   "metadata": {},
   "outputs": [],
   "source": [
    "\n",
    "london_df = data_processing(data , london_postcodes)"
   ]
  },
  {
   "cell_type": "code",
   "execution_count": 7,
   "metadata": {},
   "outputs": [],
   "source": [
    "london_intangibles = london_df[london_df['Primary UK SIC (2007) code'].str.contains(\n",
    "    \"^85|^92|^96|^59|^60|^61|^62|^63|^64|^66|^69|^70|^71|^72|^73|^74|^79|^82|^77|^78\")]"
   ]
  },
  {
   "cell_type": "code",
   "execution_count": 8,
   "metadata": {},
   "outputs": [],
   "source": [
    "london_intangible_main_shareholder = london_intangibles.merge(data_main_shareholder, left_on = 'Company name', right_on= 'Company name', how = 'inner')"
   ]
  },
  {
   "cell_type": "code",
   "execution_count": 9,
   "metadata": {},
   "outputs": [],
   "source": [
    "with open ('/Users/gocchini/Desktop/paper_3/data/list-of-salutations-titles-honorifics.txt') as f: \n",
    "    lines = f.readlines()\n",
    "honorifics = [line.strip() for line in lines]"
   ]
  },
  {
   "cell_type": "code",
   "execution_count": 10,
   "metadata": {},
   "outputs": [],
   "source": [
    "def natural_entity_finder(entity, honorifics):\n",
    "    if type(entity) != float:\n",
    "        if any(honorific in entity for honorific in honorifics): \n",
    "            return 'natural person'\n",
    "        else:\n",
    "            return 'conglomerate'"
   ]
  },
  {
   "cell_type": "code",
   "execution_count": 11,
   "metadata": {},
   "outputs": [],
   "source": [
    "london_intangible_main_shareholder['natural_entity_finder'] = london_intangible_main_shareholder.apply(lambda x: natural_entity_finder(x['PSC - Name'], honorifics), axis = 1)\n",
    "london_intangible_main_shareholder = london_intangible_main_shareholder.loc[london_intangible_main_shareholder['natural_entity_finder'] ==  'natural person']"
   ]
  },
  {
   "cell_type": "code",
   "execution_count": 12,
   "metadata": {},
   "outputs": [
    {
     "data": {
      "text/html": "<div>\n<style scoped>\n    .dataframe tbody tr th:only-of-type {\n        vertical-align: middle;\n    }\n\n    .dataframe tbody tr th {\n        vertical-align: top;\n    }\n\n    .dataframe thead th {\n        text-align: right;\n    }\n</style>\n<table border=\"1\" class=\"dataframe\">\n  <thead>\n    <tr style=\"text-align: right;\">\n      <th></th>\n      <th>Unnamed: 0_x</th>\n      <th>Company name</th>\n      <th>Inactive</th>\n      <th>Quoted</th>\n      <th>Branch</th>\n      <th>OwnData</th>\n      <th>Woco</th>\n      <th>R/O Full Postcode</th>\n      <th>Primary UK SIC (2007) code</th>\n      <th>Primary trading address</th>\n      <th>...</th>\n      <th>R/O Address, line 1</th>\n      <th>R/O Address, line 2</th>\n      <th>R/O Address, line 3</th>\n      <th>R/O Full Postcode.1</th>\n      <th>Primary trading address City</th>\n      <th>postcode</th>\n      <th>Unnamed: 0_y</th>\n      <th>CSH - Name</th>\n      <th>PSC - Name</th>\n      <th>natural_entity_finder</th>\n    </tr>\n  </thead>\n  <tbody>\n    <tr>\n      <th>1</th>\n      <td>146.0</td>\n      <td>MORGAN STANLEY GROUP (EUROPE)</td>\n      <td>No</td>\n      <td>No</td>\n      <td>No</td>\n      <td>No</td>\n      <td>No</td>\n      <td>E14 4AD</td>\n      <td>70100.0</td>\n      <td>20 Bank Street, Canary Wharf, London, London, ...</td>\n      <td>...</td>\n      <td>20 Bank Street</td>\n      <td>Canary Wharf</td>\n      <td>NaN</td>\n      <td>E14 4AD</td>\n      <td>London</td>\n      <td>E14 4AD</td>\n      <td>59997.0</td>\n      <td>MORGAN STANLEY</td>\n      <td>Morgan Stanley International Limited</td>\n      <td>natural person</td>\n    </tr>\n    <tr>\n      <th>2</th>\n      <td>206.0</td>\n      <td>CHURCHVILLE LIMITED</td>\n      <td>No</td>\n      <td>No</td>\n      <td>No</td>\n      <td>No</td>\n      <td>No</td>\n      <td>CR0 0YN</td>\n      <td>78200.0</td>\n      <td>3rd Floor Suffolk House, George Street, Croydo...</td>\n      <td>...</td>\n      <td>3rd Floor Suffolk House</td>\n      <td>George Street</td>\n      <td>NaN</td>\n      <td>CR0 0YN</td>\n      <td>Croydon</td>\n      <td>CR0 0YN</td>\n      <td>60031.0</td>\n      <td>NaN</td>\n      <td>Mr Thomas Riccardo White</td>\n      <td>natural person</td>\n    </tr>\n    <tr>\n      <th>5</th>\n      <td>393.0</td>\n      <td>VDMS ACTON LIMITED</td>\n      <td>No</td>\n      <td>No</td>\n      <td>No</td>\n      <td>No</td>\n      <td>No</td>\n      <td>W10 6QN</td>\n      <td>82990.0</td>\n      <td>316-318 Latimer Road, London, London, W10 6QN</td>\n      <td>...</td>\n      <td>316-318 Latimer Road</td>\n      <td>NaN</td>\n      <td>NaN</td>\n      <td>W10 6QN</td>\n      <td>London</td>\n      <td>W10 6QN</td>\n      <td>60147.0</td>\n      <td>VISUAL DATA MEDIA SERVICES LLC</td>\n      <td>Visual Data Media Services Limited</td>\n      <td>natural person</td>\n    </tr>\n    <tr>\n      <th>6</th>\n      <td>509.0</td>\n      <td>LAMBERT SMITH HAMPTON LIMITED</td>\n      <td>No</td>\n      <td>No</td>\n      <td>No</td>\n      <td>No</td>\n      <td>No</td>\n      <td>W1T 3PT</td>\n      <td>70100.0</td>\n      <td>55 Wells Street, London, London, W1T 3PT</td>\n      <td>...</td>\n      <td>55 Wells Street</td>\n      <td>NaN</td>\n      <td>NaN</td>\n      <td>W1T 3PT</td>\n      <td>London</td>\n      <td>W1T 3PT</td>\n      <td>60216.0</td>\n      <td>SKIPTON BUILDING SOCIETY</td>\n      <td>Countrywide Group Limited</td>\n      <td>natural person</td>\n    </tr>\n    <tr>\n      <th>7</th>\n      <td>728.0</td>\n      <td>FORTUNE FINANCIAL SERVICES LIMITED</td>\n      <td>No</td>\n      <td>No</td>\n      <td>No</td>\n      <td>No</td>\n      <td>No</td>\n      <td>NW4 4HA</td>\n      <td>66220.0</td>\n      <td>39 Edgeworth Crescent, Hendon, London, London,...</td>\n      <td>...</td>\n      <td>39 Edgeworth Crescent</td>\n      <td>Hendon</td>\n      <td>NaN</td>\n      <td>NW4 4HA</td>\n      <td>London</td>\n      <td>NW4 4HA</td>\n      <td>60342.0</td>\n      <td>NaN</td>\n      <td>Mr Premji Devraj Halai</td>\n      <td>natural person</td>\n    </tr>\n    <tr>\n      <th>...</th>\n      <td>...</td>\n      <td>...</td>\n      <td>...</td>\n      <td>...</td>\n      <td>...</td>\n      <td>...</td>\n      <td>...</td>\n      <td>...</td>\n      <td>...</td>\n      <td>...</td>\n      <td>...</td>\n      <td>...</td>\n      <td>...</td>\n      <td>...</td>\n      <td>...</td>\n      <td>...</td>\n      <td>...</td>\n      <td>...</td>\n      <td>...</td>\n      <td>...</td>\n      <td>...</td>\n    </tr>\n    <tr>\n      <th>53587</th>\n      <td>74820.0</td>\n      <td>EXCELLENT MEDIA LTD</td>\n      <td>No</td>\n      <td>No</td>\n      <td>No</td>\n      <td>No</td>\n      <td>No</td>\n      <td>W1W 7LT</td>\n      <td>63120.0</td>\n      <td>85 Great Portland Street, London, London, W1W 7LT</td>\n      <td>...</td>\n      <td>85 Great Portland Street</td>\n      <td>NaN</td>\n      <td>NaN</td>\n      <td>W1W 7LT</td>\n      <td>London</td>\n      <td>W1W 7LT</td>\n      <td>15618.0</td>\n      <td>MR MARTIN KALAR</td>\n      <td>Mr Martin Kalar</td>\n      <td>natural person</td>\n    </tr>\n    <tr>\n      <th>53588</th>\n      <td>74865.0</td>\n      <td>PROFIT TRADING LTD</td>\n      <td>No</td>\n      <td>No</td>\n      <td>No</td>\n      <td>No</td>\n      <td>No</td>\n      <td>SW6 7BS</td>\n      <td>82990.0</td>\n      <td>21 Letterstone Road, Fulham, London, London, S...</td>\n      <td>...</td>\n      <td>21 Letterstone Road</td>\n      <td>Fulham</td>\n      <td>NaN</td>\n      <td>SW6 7BS</td>\n      <td>London</td>\n      <td>SW6 7BS</td>\n      <td>15645.0</td>\n      <td>NaN</td>\n      <td>Mr Tyrell Clement Nicholas</td>\n      <td>natural person</td>\n    </tr>\n    <tr>\n      <th>53589</th>\n      <td>74873.0</td>\n      <td>TOTALPLUS SERVICES LTD.</td>\n      <td>No</td>\n      <td>No</td>\n      <td>No</td>\n      <td>No</td>\n      <td>No</td>\n      <td>W1B 5TE</td>\n      <td>78109.0</td>\n      <td>c/o Gpc Financial Management, 423 Linen Hall, ...</td>\n      <td>...</td>\n      <td>c/o Gpc Financial Management</td>\n      <td>423 Linen Hall</td>\n      <td>NaN</td>\n      <td>W1B 5TE</td>\n      <td>London</td>\n      <td>W1B 5TE</td>\n      <td>15651.0</td>\n      <td>MS MARY MAZHINDU</td>\n      <td>Ms Mary Mazhindu</td>\n      <td>natural person</td>\n    </tr>\n    <tr>\n      <th>53590</th>\n      <td>74957.0</td>\n      <td>GOLDSTAR DRY CLEANERS (UK) LIMITED</td>\n      <td>No</td>\n      <td>No</td>\n      <td>No</td>\n      <td>No</td>\n      <td>No</td>\n      <td>E14 7DL</td>\n      <td>96010.0</td>\n      <td>330 Burdett Road, London, London, E14 7DL</td>\n      <td>...</td>\n      <td>330 Burdett Road</td>\n      <td>NaN</td>\n      <td>NaN</td>\n      <td>E14 7DL</td>\n      <td>London</td>\n      <td>E14 7DL</td>\n      <td>15691.0</td>\n      <td>MR ZIAUL HAQUE</td>\n      <td>Mr Ziaul Haque</td>\n      <td>natural person</td>\n    </tr>\n    <tr>\n      <th>53591</th>\n      <td>74994.0</td>\n      <td>BENCHA LIMITED</td>\n      <td>No</td>\n      <td>No</td>\n      <td>No</td>\n      <td>No</td>\n      <td>No</td>\n      <td>CR2 0NP</td>\n      <td>69109.0</td>\n      <td>6 Purley Oaks Road, Sanderstead, South Croydon...</td>\n      <td>...</td>\n      <td>6 Purley Oaks Road</td>\n      <td>Sanderstead</td>\n      <td>NaN</td>\n      <td>CR2 0NP</td>\n      <td>South Croydon</td>\n      <td>CR2 0NP</td>\n      <td>15704.0</td>\n      <td>MR MARTIN JOHN CHAPPELL</td>\n      <td>Mr Martin John Chappell</td>\n      <td>natural person</td>\n    </tr>\n  </tbody>\n</table>\n<p>36415 rows × 22 columns</p>\n</div>",
      "text/plain": "       Unnamed: 0_x                        Company name Inactive Quoted  \\\n1             146.0       MORGAN STANLEY GROUP (EUROPE)       No     No   \n2             206.0                 CHURCHVILLE LIMITED       No     No   \n5             393.0                  VDMS ACTON LIMITED       No     No   \n6             509.0       LAMBERT SMITH HAMPTON LIMITED       No     No   \n7             728.0  FORTUNE FINANCIAL SERVICES LIMITED       No     No   \n...             ...                                 ...      ...    ...   \n53587       74820.0                 EXCELLENT MEDIA LTD       No     No   \n53588       74865.0                  PROFIT TRADING LTD       No     No   \n53589       74873.0             TOTALPLUS SERVICES LTD.       No     No   \n53590       74957.0  GOLDSTAR DRY CLEANERS (UK) LIMITED       No     No   \n53591       74994.0                      BENCHA LIMITED       No     No   \n\n      Branch OwnData Woco R/O Full Postcode Primary UK SIC (2007) code  \\\n1         No      No   No           E14 4AD                    70100.0   \n2         No      No   No           CR0 0YN                    78200.0   \n5         No      No   No           W10 6QN                    82990.0   \n6         No      No   No           W1T 3PT                    70100.0   \n7         No      No   No           NW4 4HA                    66220.0   \n...      ...     ...  ...               ...                        ...   \n53587     No      No   No           W1W 7LT                    63120.0   \n53588     No      No   No           SW6 7BS                    82990.0   \n53589     No      No   No           W1B 5TE                    78109.0   \n53590     No      No   No           E14 7DL                    96010.0   \n53591     No      No   No           CR2 0NP                    69109.0   \n\n                                 Primary trading address  ...  \\\n1      20 Bank Street, Canary Wharf, London, London, ...  ...   \n2      3rd Floor Suffolk House, George Street, Croydo...  ...   \n5          316-318 Latimer Road, London, London, W10 6QN  ...   \n6               55 Wells Street, London, London, W1T 3PT  ...   \n7      39 Edgeworth Crescent, Hendon, London, London,...  ...   \n...                                                  ...  ...   \n53587  85 Great Portland Street, London, London, W1W 7LT  ...   \n53588  21 Letterstone Road, Fulham, London, London, S...  ...   \n53589  c/o Gpc Financial Management, 423 Linen Hall, ...  ...   \n53590          330 Burdett Road, London, London, E14 7DL  ...   \n53591  6 Purley Oaks Road, Sanderstead, South Croydon...  ...   \n\n                R/O Address, line 1 R/O Address, line 2 R/O Address, line 3  \\\n1                    20 Bank Street        Canary Wharf                 NaN   \n2           3rd Floor Suffolk House       George Street                 NaN   \n5              316-318 Latimer Road                 NaN                 NaN   \n6                   55 Wells Street                 NaN                 NaN   \n7             39 Edgeworth Crescent              Hendon                 NaN   \n...                             ...                 ...                 ...   \n53587      85 Great Portland Street                 NaN                 NaN   \n53588           21 Letterstone Road              Fulham                 NaN   \n53589  c/o Gpc Financial Management      423 Linen Hall                 NaN   \n53590              330 Burdett Road                 NaN                 NaN   \n53591            6 Purley Oaks Road         Sanderstead                 NaN   \n\n      R/O Full Postcode.1 Primary trading address City postcode Unnamed: 0_y  \\\n1                 E14 4AD                       London  E14 4AD      59997.0   \n2                 CR0 0YN                      Croydon  CR0 0YN      60031.0   \n5                 W10 6QN                       London  W10 6QN      60147.0   \n6                 W1T 3PT                       London  W1T 3PT      60216.0   \n7                 NW4 4HA                       London  NW4 4HA      60342.0   \n...                   ...                          ...      ...          ...   \n53587             W1W 7LT                       London  W1W 7LT      15618.0   \n53588             SW6 7BS                       London  SW6 7BS      15645.0   \n53589             W1B 5TE                       London  W1B 5TE      15651.0   \n53590             E14 7DL                       London  E14 7DL      15691.0   \n53591             CR2 0NP                South Croydon  CR2 0NP      15704.0   \n\n                           CSH - Name                            PSC - Name  \\\n1                      MORGAN STANLEY  Morgan Stanley International Limited   \n2                                 NaN              Mr Thomas Riccardo White   \n5      VISUAL DATA MEDIA SERVICES LLC    Visual Data Media Services Limited   \n6            SKIPTON BUILDING SOCIETY             Countrywide Group Limited   \n7                                 NaN                Mr Premji Devraj Halai   \n...                               ...                                   ...   \n53587                 MR MARTIN KALAR                       Mr Martin Kalar   \n53588                             NaN            Mr Tyrell Clement Nicholas   \n53589                MS MARY MAZHINDU                      Ms Mary Mazhindu   \n53590                  MR ZIAUL HAQUE                        Mr Ziaul Haque   \n53591         MR MARTIN JOHN CHAPPELL               Mr Martin John Chappell   \n\n      natural_entity_finder  \n1            natural person  \n2            natural person  \n5            natural person  \n6            natural person  \n7            natural person  \n...                     ...  \n53587        natural person  \n53588        natural person  \n53589        natural person  \n53590        natural person  \n53591        natural person  \n\n[36415 rows x 22 columns]"
     },
     "execution_count": 12,
     "metadata": {},
     "output_type": "execute_result"
    }
   ],
   "source": [
    "london_intangible_main_shareholder"
   ]
  },
  {
   "cell_type": "code",
   "execution_count": 83,
   "metadata": {},
   "outputs": [],
   "source": [
    "import pickle\n",
    "websites = london_intangible_main_shareholder['Website'].tolist()\n",
    "with open('/Users/gocchini/Desktop/paper_3/data/websites_paper_3.pkl', 'wb') as f:\n",
    "    pickle.dump(websites, f)"
   ]
  },
  {
   "cell_type": "markdown",
   "metadata": {},
   "source": [
    "# old text"
   ]
  },
  {
   "cell_type": "code",
   "execution_count": 40,
   "metadata": {},
   "outputs": [],
   "source": [
    "text3 = pd.read_pickle('/Users/gocchini/Desktop/paper_1/scripts_paper_1/df_november_2022.pkl')\n",
    "text3['actual_url'] = text3['url'].str.replace('http://', '')\n",
    "text3['actual_url'] = text3['actual_url'].str.replace('https://', '')"
   ]
  },
  {
   "cell_type": "code",
   "execution_count": 41,
   "metadata": {},
   "outputs": [],
   "source": [
    "london_data = london_intangibles.merge(text3, left_on = 'Website', right_on= 'actual_url')"
   ]
  },
  {
   "cell_type": "code",
   "execution_count": 42,
   "metadata": {},
   "outputs": [],
   "source": [
    "london_data = london_data.loc[london_data['status']==True]"
   ]
  },
  {
   "cell_type": "code",
   "execution_count": 43,
   "metadata": {},
   "outputs": [
    {
     "name": "stderr",
     "output_type": "stream",
     "text": [
      "/var/folders/0f/pzhfvnbj63jg3sk3nj099q3w0000gq/T/ipykernel_13249/2786139566.py:1: DtypeWarning: Columns (18,29,47) have mixed types. Specify dtype option on import or set low_memory=False.\n",
      "  england_postcodes = pd.read_csv('/Users/gocchini/Downloads/England postcodes.csv')\n"
     ]
    }
   ],
   "source": [
    "england_postcodes = pd.read_csv('/Users/gocchini/Downloads/England postcodes.csv')"
   ]
  },
  {
   "cell_type": "code",
   "execution_count": 44,
   "metadata": {},
   "outputs": [],
   "source": [
    "english_postcodes = england_postcodes['Postcode'].tolist()"
   ]
  },
  {
   "cell_type": "code",
   "execution_count": 37,
   "metadata": {},
   "outputs": [],
   "source": [
    "def postcode_finder(text):\n",
    "    postcodes = re.findall(r'([Gg][Ii][Rr] 0[Aa]{2})|((([A-Za-z][0-9]{1,2})|(([A-Za-z][A-Ha-hJ-Yj-y][0-9]{1,2})|(([A-Za-z][0-9][A-Za-z])|([A-Za-z][A-Ha-hJ-Yj-y][0-9][A-Za-z]?))))\\s?[0-9][A-Za-z]{2})', text)\n",
    "    postcodes = [postcode[1] for postcode in postcodes]\n",
    "    return postcodes "
   ]
  },
  {
   "cell_type": "code",
   "execution_count": 73,
   "metadata": {},
   "outputs": [],
   "source": [
    "london_data['text_postcode'] = london_data['text'].apply(postcode_finder)"
   ]
  },
  {
   "cell_type": "code",
   "execution_count": 47,
   "metadata": {},
   "outputs": [],
   "source": [
    "# some websites have multiple postcodes, between whiich a fake one. Account for the true one. \n",
    "def suspicious_postcodes_finder(postcode, postcode_in_text, english_postcodes):\n",
    "    if len(postcode_in_text) > 0: \n",
    "        if postcode_in_text[0].isupper():\n",
    "            if postcode_in_text[0] in english_postcodes:\n",
    "                if postcode != postcode_in_text[0]:\n",
    "                    return 'SUSPICIOUS!'\n",
    "                else: \n",
    "                    return 'ok'"
   ]
  },
  {
   "cell_type": "code",
   "execution_count": 75,
   "metadata": {},
   "outputs": [],
   "source": [
    "london_data['suspicious'] = london_data.apply(lambda x: suspicious_postcodes_finder(x['postcode'], x['text_postcode'], english_postcodes), axis = 1)"
   ]
  },
  {
   "cell_type": "code",
   "execution_count": 76,
   "metadata": {},
   "outputs": [],
   "source": [
    "suspicioius = len(london_data.loc[london_data['suspicious']=='SUSPICIOUS!'])"
   ]
  },
  {
   "cell_type": "code",
   "execution_count": 78,
   "metadata": {},
   "outputs": [],
   "source": [
    "ok = len(london_data.loc[london_data['suspicious']=='ok'])"
   ]
  },
  {
   "cell_type": "markdown",
   "metadata": {},
   "source": [
    "# new text"
   ]
  },
  {
   "cell_type": "code",
   "execution_count": 51,
   "metadata": {},
   "outputs": [],
   "source": [
    "text_3 = pd.read_pickle('/Users/gocchini/Desktop/paper_3/data/scraped_websites_march_23.pkl')\n",
    "falses = pd.read_pickle('/Users/gocchini/Desktop/paper_3/data/falses.pkl')\n",
    "text_3 = text_3.loc[text_3['status'] == True]\n",
    "falses = falses.loc[falses['status'] == True]\n",
    "dataset = pd.concat([text_3, falses])\n",
    "dataset['actual_url'] = dataset['url'].str.replace('http://', '')\n",
    "dataset['actual_url'] = dataset['actual_url'].str.replace('https://', '')"
   ]
  },
  {
   "cell_type": "markdown",
   "metadata": {},
   "source": [
    "# Rationale behind the processing:"
   ]
  },
  {
   "cell_type": "code",
   "execution_count": 55,
   "metadata": {},
   "outputs": [],
   "source": [
    "# why didn't I keep the relevant information when scraping the websites? Because I NEVER learn from my mistakes eheheh \n",
    "#  here I am merging my websites with the companies reporting the websites \n",
    "dataset_merged = dataset.merge(london_intangible_main_shareholder, left_on = 'actual_url', right_on= 'Website', how = 'inner')\n",
    "# uh oh! multiple companies are reporting the same website! Lets have a look if I can merge it on the companies name now \n",
    "full_df = dataset_merged.merge(london_intangible_main_shareholder, left_on = 'Company name', right_on = 'Company name', how = 'inner')\n",
    "# If I have scraped a website multiple times, lets just keep the first instance \n",
    "full_df = full_df.drop_duplicates(subset=['url'], keep='first')\n",
    "# basically is the same as the websites :) there is some noise but should not be too bad! "
   ]
  },
  {
   "cell_type": "code",
   "execution_count": 57,
   "metadata": {},
   "outputs": [],
   "source": [
    "full_df['text_postcodes'] = full_df['text'].apply(postcode_finder)"
   ]
  },
  {
   "cell_type": "code",
   "execution_count": 58,
   "metadata": {},
   "outputs": [],
   "source": [
    "full_df['suspicious'] = full_df.apply(lambda x: suspicious_postcodes_finder(x['R/O Full Postcode.1_x'], x['text_postcodes'], english_postcodes), axis = 1)"
   ]
  },
  {
   "cell_type": "code",
   "execution_count": 60,
   "metadata": {},
   "outputs": [],
   "source": [
    "full_df = full_df[['url', 'status', 'text', 'added_urls', 'actual_url', 'Unnamed: 0_x_x',\n",
    "       'Company name', 'Inactive_x','R/O Full Postcode_x', 'Primary UK SIC (2007) code_x',\n",
    "       'Primary trading address_x', 'Website_x', 'R/O Address_x',\n",
    "       'R/O Address, line 1_x', 'R/O Address, line 2_x',\n",
    "       'R/O Address, line 3_x', 'R/O Full Postcode.1_x',\n",
    "       'Primary trading address City_x', 'postcode_x', 'Unnamed: 0_y_x',\n",
    "       'CSH - Name_x', 'PSC - Name_x', 'natural_entity_finder_x','text_postcodes', 'suspicious']]"
   ]
  },
  {
   "cell_type": "code",
   "execution_count": 62,
   "metadata": {},
   "outputs": [],
   "source": [
    "full_df.to_pickle('/Users/gocchini/Desktop/paper_3/data/complete_df_paper_3.pkl')"
   ]
  },
  {
   "cell_type": "code",
   "execution_count": 64,
   "metadata": {},
   "outputs": [],
   "source": [
    "sus = len(full_df.loc[full_df['suspicious']=='SUSPICIOUS!'])\n",
    "not_sus = len(full_df.loc[full_df['suspicious']=='ok'])"
   ]
  },
  {
   "cell_type": "code",
   "execution_count": 66,
   "metadata": {},
   "outputs": [
    {
     "data": {
      "text/plain": "3141"
     },
     "execution_count": 66,
     "metadata": {},
     "output_type": "execute_result"
    }
   ],
   "source": [
    "sus "
   ]
  },
  {
   "cell_type": "code",
   "execution_count": 67,
   "metadata": {},
   "outputs": [
    {
     "data": {
      "text/plain": "3918"
     },
     "execution_count": 67,
     "metadata": {},
     "output_type": "execute_result"
    }
   ],
   "source": [
    "not_sus"
   ]
  },
  {
   "cell_type": "code",
   "execution_count": 68,
   "metadata": {},
   "outputs": [
    {
     "data": {
      "text/plain": "1.247373447946514"
     },
     "execution_count": 68,
     "metadata": {},
     "output_type": "execute_result"
    }
   ],
   "source": [
    "not_sus/sus"
   ]
  },
  {
   "cell_type": "code",
   "execution_count": null,
   "metadata": {},
   "outputs": [],
   "source": [
    "uguale allo smaller sample! gotta love stats "
   ]
  }
 ],
 "metadata": {
  "kernelspec": {
   "display_name": "Python 3.10.9 64-bit ('paper_3': conda)",
   "name": "python3109jvsc74a57bd09c88df90110bced9cec65b9bdbd3e4c663d10a8b4acefcbcfa76c0bc8c341b4e"
  },
  "language_info": {
   "codemirror_mode": {
    "name": "ipython",
    "version": 3
   },
   "file_extension": ".py",
   "mimetype": "text/x-python",
   "name": "python",
   "nbconvert_exporter": "python",
   "pygments_lexer": "ipython3",
   "version": "3.10.9"
  },
  "orig_nbformat": 2
 },
 "nbformat": 4,
 "nbformat_minor": 2
}