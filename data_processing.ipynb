{
 "cells": [
  {
   "cell_type": "code",
   "execution_count": 2,
   "metadata": {},
   "outputs": [],
   "source": [
    "import pandas as pd\n",
    "import glob\n",
    "import os\n",
    "import geopandas \n",
    "import geopy \n",
    "from geopy.geocoders import Nominatim\n"
   ]
  },
  {
   "cell_type": "code",
   "execution_count": 6,
   "metadata": {},
   "outputs": [],
   "source": [
    "data = pd.concat([pd.read_excel(f, 'Results') for f in glob.glob('./data/*.xlsx')], ignore_index = True)"
   ]
  },
  {
   "cell_type": "code",
   "execution_count": 6,
   "metadata": {},
   "outputs": [],
   "source": [
    "data = pd.read_pickle('./data/data_almost_complete.pkl')"
   ]
  },
  {
   "cell_type": "code",
   "execution_count": 8,
   "metadata": {},
   "outputs": [],
   "source": [
    "london_postcodes = pd.read_csv('./london_postcodes-ons-postcodes-directory-feb22.csv')"
   ]
  },
  {
   "cell_type": "code",
   "execution_count": 9,
   "metadata": {},
   "outputs": [],
   "source": [
    "def data_processing(data, london_data): \n",
    "    data = data.loc[(data['Inactive'] == 'No')]\n",
    "    data = data[data['Primary UK SIC (2007) code'].notna()]\n",
    "    data = data[data['Primary trading address'].notna()]\n",
    "    data = data.drop_duplicates(keep=False)\n",
    "    data['postcode'] = data['Primary trading address'].apply(lambda x: x.split(',')[-1])\n",
    "    data['postcode'] = data['postcode'].apply(lambda x: x[1:])\n",
    "    london_postcodes = london_data['pcd'].tolist()\n",
    "    london_df = data[data['postcode'].isin(london_postcodes)]\n",
    "    london_df['Primary UK SIC (2007) code'] = london_df['Primary UK SIC (2007) code'].astype('string')\n",
    "    return london_df "
   ]
  },
  {
   "cell_type": "code",
   "execution_count": 10,
   "metadata": {},
   "outputs": [],
   "source": [
    "london_df = data_processing(data , london_postcodes)"
   ]
  },
  {
   "cell_type": "code",
   "execution_count": 14,
   "metadata": {},
   "outputs": [],
   "source": [
    "london_intangibles = london_df[london_df['Primary UK SIC (2007) code'].str.contains(\n",
    "    \"^85|^92|^96|^59|^60|^61|^62|^63|^64|^66|^69|^70|^71|^72|^73|^74|^79|^82|^77|^78\")]"
   ]
  },
  {
   "cell_type": "code",
   "execution_count": 17,
   "metadata": {},
   "outputs": [
    {
     "data": {
      "text/html": "<div>\n<style scoped>\n    .dataframe tbody tr th:only-of-type {\n        vertical-align: middle;\n    }\n\n    .dataframe tbody tr th {\n        vertical-align: top;\n    }\n\n    .dataframe thead th {\n        text-align: right;\n    }\n</style>\n<table border=\"1\" class=\"dataframe\">\n  <thead>\n    <tr style=\"text-align: right;\">\n      <th></th>\n      <th>Unnamed: 0</th>\n      <th>Company name</th>\n      <th>Inactive</th>\n      <th>Quoted</th>\n      <th>Branch</th>\n      <th>OwnData</th>\n      <th>Woco</th>\n      <th>R/O Full Postcode</th>\n      <th>Primary UK SIC (2007) code</th>\n      <th>Primary trading address</th>\n      <th>Website</th>\n      <th>R/O Address</th>\n      <th>R/O Address, line 1</th>\n      <th>R/O Address, line 2</th>\n      <th>R/O Address, line 3</th>\n      <th>R/O Full Postcode.1</th>\n      <th>Primary trading address City</th>\n      <th>postcode</th>\n    </tr>\n  </thead>\n  <tbody>\n    <tr>\n      <th>83</th>\n      <td>84.0</td>\n      <td>MOORE STEPHENS INTERNATIONAL LIMITED</td>\n      <td>No</td>\n      <td>No</td>\n      <td>No</td>\n      <td>No</td>\n      <td>No</td>\n      <td>SE1 3TQ</td>\n      <td>96090.0</td>\n      <td>5 Market Yard Mews, 194-204 Bermondsey Street,...</td>\n      <td>www.sequel.com</td>\n      <td>5 Market Yard Mews, 194-204 Bermondsey Street,...</td>\n      <td>5 Market Yard Mews</td>\n      <td>194-204 Bermondsey Street</td>\n      <td>NaN</td>\n      <td>SE1 3TQ</td>\n      <td>London</td>\n      <td>SE1 3TQ</td>\n    </tr>\n    <tr>\n      <th>145</th>\n      <td>146.0</td>\n      <td>MORGAN STANLEY GROUP (EUROPE)</td>\n      <td>No</td>\n      <td>No</td>\n      <td>No</td>\n      <td>No</td>\n      <td>No</td>\n      <td>E14 4AD</td>\n      <td>70100.0</td>\n      <td>20 Bank Street, Canary Wharf, London, London, ...</td>\n      <td>www.morganstanley.com</td>\n      <td>20 Bank Street, Canary Wharf, London, E14 4AD</td>\n      <td>20 Bank Street</td>\n      <td>Canary Wharf</td>\n      <td>NaN</td>\n      <td>E14 4AD</td>\n      <td>London</td>\n      <td>E14 4AD</td>\n    </tr>\n    <tr>\n      <th>205</th>\n      <td>206.0</td>\n      <td>CHURCHVILLE LIMITED</td>\n      <td>No</td>\n      <td>No</td>\n      <td>No</td>\n      <td>No</td>\n      <td>No</td>\n      <td>CR0 0YN</td>\n      <td>78200.0</td>\n      <td>3rd Floor Suffolk House, George Street, Croydo...</td>\n      <td>www.theoaklandpartnership.com</td>\n      <td>3rd Floor Suffolk House, George Street, Croydo...</td>\n      <td>3rd Floor Suffolk House</td>\n      <td>George Street</td>\n      <td>NaN</td>\n      <td>CR0 0YN</td>\n      <td>Croydon</td>\n      <td>CR0 0YN</td>\n    </tr>\n    <tr>\n      <th>256</th>\n      <td>257.0</td>\n      <td>INTU 2027 LIMITED</td>\n      <td>No</td>\n      <td>No</td>\n      <td>No</td>\n      <td>No</td>\n      <td>No</td>\n      <td>W1K 3JZ</td>\n      <td>64209.0</td>\n      <td>c/o Apam Ltd, 4th Floor, 84, Grosvenor Street,...</td>\n      <td>www.capital.shopping-centres.co.uk</td>\n      <td>c/o Apam Ltd, 4th Floor, 84, Grosvenor Street,...</td>\n      <td>c/o Apam Ltd, 4th Floor, 84</td>\n      <td>Grosvenor Street</td>\n      <td>NaN</td>\n      <td>W1K 3JZ</td>\n      <td>London</td>\n      <td>W1K 3JZ</td>\n    </tr>\n    <tr>\n      <th>304</th>\n      <td>305.0</td>\n      <td>MICROEYE LIMITED</td>\n      <td>No</td>\n      <td>No</td>\n      <td>No</td>\n      <td>No</td>\n      <td>No</td>\n      <td>DA1 4SU</td>\n      <td>82990.0</td>\n      <td>91 Shearwood Crescent, Thames Road, Dartford, ...</td>\n      <td>www.microeyeservices.com</td>\n      <td>91 Shearwood Crescent, Thames Road, Dartford, ...</td>\n      <td>91 Shearwood Crescent</td>\n      <td>Thames Road</td>\n      <td>NaN</td>\n      <td>DA1 4SU</td>\n      <td>Dartford</td>\n      <td>DA1 4SU</td>\n    </tr>\n    <tr>\n      <th>...</th>\n      <td>...</td>\n      <td>...</td>\n      <td>...</td>\n      <td>...</td>\n      <td>...</td>\n      <td>...</td>\n      <td>...</td>\n      <td>...</td>\n      <td>...</td>\n      <td>...</td>\n      <td>...</td>\n      <td>...</td>\n      <td>...</td>\n      <td>...</td>\n      <td>...</td>\n      <td>...</td>\n      <td>...</td>\n      <td>...</td>\n    </tr>\n    <tr>\n      <th>2766918</th>\n      <td>74820.0</td>\n      <td>EXCELLENT MEDIA LTD</td>\n      <td>No</td>\n      <td>No</td>\n      <td>No</td>\n      <td>No</td>\n      <td>No</td>\n      <td>W1W 7LT</td>\n      <td>63120.0</td>\n      <td>85 Great Portland Street, London, London, W1W 7LT</td>\n      <td>www.excellentmedia.co.uk</td>\n      <td>85 Great Portland Street, London, W1W 7LT</td>\n      <td>85 Great Portland Street</td>\n      <td>NaN</td>\n      <td>NaN</td>\n      <td>W1W 7LT</td>\n      <td>London</td>\n      <td>W1W 7LT</td>\n    </tr>\n    <tr>\n      <th>2766963</th>\n      <td>74865.0</td>\n      <td>PROFIT TRADING LTD</td>\n      <td>No</td>\n      <td>No</td>\n      <td>No</td>\n      <td>No</td>\n      <td>No</td>\n      <td>SW6 7BS</td>\n      <td>82990.0</td>\n      <td>21 Letterstone Road, Fulham, London, London, S...</td>\n      <td>profittrading.net</td>\n      <td>21 Letterstone Road, Fulham, London, SW6 7BS</td>\n      <td>21 Letterstone Road</td>\n      <td>Fulham</td>\n      <td>NaN</td>\n      <td>SW6 7BS</td>\n      <td>London</td>\n      <td>SW6 7BS</td>\n    </tr>\n    <tr>\n      <th>2766971</th>\n      <td>74873.0</td>\n      <td>TOTALPLUS SERVICES LTD.</td>\n      <td>No</td>\n      <td>No</td>\n      <td>No</td>\n      <td>No</td>\n      <td>No</td>\n      <td>W1B 5TE</td>\n      <td>78109.0</td>\n      <td>c/o Gpc Financial Management, 423 Linen Hall, ...</td>\n      <td>www.totalpluscleaners.com</td>\n      <td>c/o Gpc Financial Management, 423 Linen Hall, ...</td>\n      <td>c/o Gpc Financial Management</td>\n      <td>423 Linen Hall</td>\n      <td>NaN</td>\n      <td>W1B 5TE</td>\n      <td>London</td>\n      <td>W1B 5TE</td>\n    </tr>\n    <tr>\n      <th>2767055</th>\n      <td>74957.0</td>\n      <td>GOLDSTAR DRY CLEANERS (UK) LIMITED</td>\n      <td>No</td>\n      <td>No</td>\n      <td>No</td>\n      <td>No</td>\n      <td>No</td>\n      <td>E14 7DL</td>\n      <td>96010.0</td>\n      <td>330 Burdett Road, London, London, E14 7DL</td>\n      <td>www.goldstardrycleaning.co.uk</td>\n      <td>330 Burdett Road, London, E14 7DL</td>\n      <td>330 Burdett Road</td>\n      <td>NaN</td>\n      <td>NaN</td>\n      <td>E14 7DL</td>\n      <td>London</td>\n      <td>E14 7DL</td>\n    </tr>\n    <tr>\n      <th>2767092</th>\n      <td>74994.0</td>\n      <td>BENCHA LIMITED</td>\n      <td>No</td>\n      <td>No</td>\n      <td>No</td>\n      <td>No</td>\n      <td>No</td>\n      <td>CR2 0NP</td>\n      <td>69109.0</td>\n      <td>6 Purley Oaks Road, Sanderstead, South Croydon...</td>\n      <td>bencha-limited.6-purley-oaks-road.sanderstead....</td>\n      <td>6 Purley Oaks Road, Sanderstead, South Croydon...</td>\n      <td>6 Purley Oaks Road</td>\n      <td>Sanderstead</td>\n      <td>NaN</td>\n      <td>CR2 0NP</td>\n      <td>South Croydon</td>\n      <td>CR2 0NP</td>\n    </tr>\n  </tbody>\n</table>\n<p>57234 rows × 18 columns</p>\n</div>",
      "text/plain": "         Unnamed: 0                          Company name Inactive Quoted  \\\n83             84.0  MOORE STEPHENS INTERNATIONAL LIMITED       No     No   \n145           146.0         MORGAN STANLEY GROUP (EUROPE)       No     No   \n205           206.0                   CHURCHVILLE LIMITED       No     No   \n256           257.0                     INTU 2027 LIMITED       No     No   \n304           305.0                      MICROEYE LIMITED       No     No   \n...             ...                                   ...      ...    ...   \n2766918     74820.0                   EXCELLENT MEDIA LTD       No     No   \n2766963     74865.0                    PROFIT TRADING LTD       No     No   \n2766971     74873.0               TOTALPLUS SERVICES LTD.       No     No   \n2767055     74957.0    GOLDSTAR DRY CLEANERS (UK) LIMITED       No     No   \n2767092     74994.0                        BENCHA LIMITED       No     No   \n\n        Branch OwnData Woco R/O Full Postcode Primary UK SIC (2007) code  \\\n83          No      No   No           SE1 3TQ                    96090.0   \n145         No      No   No           E14 4AD                    70100.0   \n205         No      No   No           CR0 0YN                    78200.0   \n256         No      No   No           W1K 3JZ                    64209.0   \n304         No      No   No           DA1 4SU                    82990.0   \n...        ...     ...  ...               ...                        ...   \n2766918     No      No   No           W1W 7LT                    63120.0   \n2766963     No      No   No           SW6 7BS                    82990.0   \n2766971     No      No   No           W1B 5TE                    78109.0   \n2767055     No      No   No           E14 7DL                    96010.0   \n2767092     No      No   No           CR2 0NP                    69109.0   \n\n                                   Primary trading address  \\\n83       5 Market Yard Mews, 194-204 Bermondsey Street,...   \n145      20 Bank Street, Canary Wharf, London, London, ...   \n205      3rd Floor Suffolk House, George Street, Croydo...   \n256      c/o Apam Ltd, 4th Floor, 84, Grosvenor Street,...   \n304      91 Shearwood Crescent, Thames Road, Dartford, ...   \n...                                                    ...   \n2766918  85 Great Portland Street, London, London, W1W 7LT   \n2766963  21 Letterstone Road, Fulham, London, London, S...   \n2766971  c/o Gpc Financial Management, 423 Linen Hall, ...   \n2767055          330 Burdett Road, London, London, E14 7DL   \n2767092  6 Purley Oaks Road, Sanderstead, South Croydon...   \n\n                                                   Website  \\\n83                                          www.sequel.com   \n145                                  www.morganstanley.com   \n205                          www.theoaklandpartnership.com   \n256                     www.capital.shopping-centres.co.uk   \n304                               www.microeyeservices.com   \n...                                                    ...   \n2766918                           www.excellentmedia.co.uk   \n2766963                                  profittrading.net   \n2766971                          www.totalpluscleaners.com   \n2767055                      www.goldstardrycleaning.co.uk   \n2767092  bencha-limited.6-purley-oaks-road.sanderstead....   \n\n                                               R/O Address  \\\n83       5 Market Yard Mews, 194-204 Bermondsey Street,...   \n145          20 Bank Street, Canary Wharf, London, E14 4AD   \n205      3rd Floor Suffolk House, George Street, Croydo...   \n256      c/o Apam Ltd, 4th Floor, 84, Grosvenor Street,...   \n304      91 Shearwood Crescent, Thames Road, Dartford, ...   \n...                                                    ...   \n2766918          85 Great Portland Street, London, W1W 7LT   \n2766963       21 Letterstone Road, Fulham, London, SW6 7BS   \n2766971  c/o Gpc Financial Management, 423 Linen Hall, ...   \n2767055                  330 Burdett Road, London, E14 7DL   \n2767092  6 Purley Oaks Road, Sanderstead, South Croydon...   \n\n                  R/O Address, line 1        R/O Address, line 2  \\\n83                 5 Market Yard Mews  194-204 Bermondsey Street   \n145                    20 Bank Street               Canary Wharf   \n205           3rd Floor Suffolk House              George Street   \n256       c/o Apam Ltd, 4th Floor, 84           Grosvenor Street   \n304             91 Shearwood Crescent                Thames Road   \n...                               ...                        ...   \n2766918      85 Great Portland Street                        NaN   \n2766963           21 Letterstone Road                     Fulham   \n2766971  c/o Gpc Financial Management             423 Linen Hall   \n2767055              330 Burdett Road                        NaN   \n2767092            6 Purley Oaks Road                Sanderstead   \n\n        R/O Address, line 3 R/O Full Postcode.1 Primary trading address City  \\\n83                      NaN             SE1 3TQ                       London   \n145                     NaN             E14 4AD                       London   \n205                     NaN             CR0 0YN                      Croydon   \n256                     NaN             W1K 3JZ                       London   \n304                     NaN             DA1 4SU                     Dartford   \n...                     ...                 ...                          ...   \n2766918                 NaN             W1W 7LT                       London   \n2766963                 NaN             SW6 7BS                       London   \n2766971                 NaN             W1B 5TE                       London   \n2767055                 NaN             E14 7DL                       London   \n2767092                 NaN             CR2 0NP                South Croydon   \n\n        postcode  \n83       SE1 3TQ  \n145      E14 4AD  \n205      CR0 0YN  \n256      W1K 3JZ  \n304      DA1 4SU  \n...          ...  \n2766918  W1W 7LT  \n2766963  SW6 7BS  \n2766971  W1B 5TE  \n2767055  E14 7DL  \n2767092  CR2 0NP  \n\n[57234 rows x 18 columns]"
     },
     "execution_count": 17,
     "metadata": {},
     "output_type": "execute_result"
    }
   ],
   "source": [
    "london_intangibles"
   ]
  },
  {
   "cell_type": "code",
   "execution_count": 135,
   "metadata": {},
   "outputs": [],
   "source": [
    "def coordinates_finder(address):\n",
    "    locator = Nominatim(user_agent='myGeocoder')\n",
    "    location = locator.geocode(address)\n",
    "    try:\n",
    "        coordinates = '{}, {}'.format(location.latitude, location.longitude)\n",
    "        print(coordinates)\n",
    "    except AttributeError:\n",
    "        coordinates = 'not found'\n",
    "    return coordinates"
   ]
  },
  {
   "cell_type": "code",
   "execution_count": null,
   "metadata": {},
   "outputs": [],
   "source": [
    "london_df['coordinates'] = london_df['Primary trading address'].apply(lambda x: coordinates_finder(x))"
   ]
  },
  {
   "cell_type": "markdown",
   "metadata": {},
   "source": [
    "https://data.london.gov.uk/dataset/postcode-directory-for-london"
   ]
  },
  {
   "cell_type": "code",
   "execution_count": null,
   "metadata": {},
   "outputs": [],
   "source": []
  }
 ],
 "metadata": {
  "kernelspec": {
   "display_name": "Python 3.8.5 64-bit ('paper_2': conda)",
   "name": "python385jvsc74a57bd0729747d0122db2a952d19eb48a1d90c923cd363d098eb45399cbf83686d65c20"
  },
  "language_info": {
   "codemirror_mode": {
    "name": "ipython",
    "version": 3
   },
   "file_extension": ".py",
   "mimetype": "text/x-python",
   "name": "python",
   "nbconvert_exporter": "python",
   "pygments_lexer": "ipython3",
   "version": "3.8.5"
  },
  "orig_nbformat": 2
 },
 "nbformat": 4,
 "nbformat_minor": 2
}