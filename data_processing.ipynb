{
 "cells": [
  {
   "cell_type": "code",
   "execution_count": 2,
   "metadata": {},
   "outputs": [],
   "source": [
    "import pandas as pd\n",
    "import glob\n",
    "import os"
   ]
  },
  {
   "cell_type": "code",
   "execution_count": 6,
   "metadata": {},
   "outputs": [],
   "source": [
    "data = pd.concat([pd.read_excel(f, 'Results') for f in glob.glob('/Users/gocchini/Desktop/lit_paper_3/data/*.xlsx')], ignore_index = True)"
   ]
  },
  {
   "cell_type": "code",
   "execution_count": 8,
   "metadata": {},
   "outputs": [],
   "source": [
    "data.to_pickle('/Users/gocchini/Desktop/lit_paper_3/data/data_almost_complete.pkl')"
   ]
  },
  {
   "cell_type": "code",
   "execution_count": 14,
   "metadata": {},
   "outputs": [],
   "source": [
    "df = data.loc[(data['Inactive'] == 'No')]"
   ]
  },
  {
   "cell_type": "code",
   "execution_count": 16,
   "metadata": {},
   "outputs": [],
   "source": [
    "df = df[df['Primary UK SIC (2007) code'].notna()]"
   ]
  },
  {
   "cell_type": "code",
   "execution_count": 17,
   "metadata": {},
   "outputs": [],
   "source": [
    "df = df[df['Primary trading address'].notna()]"
   ]
  },
  {
   "cell_type": "code",
   "execution_count": 18,
   "metadata": {},
   "outputs": [
    {
     "data": {
      "text/html": "<div>\n<style scoped>\n    .dataframe tbody tr th:only-of-type {\n        vertical-align: middle;\n    }\n\n    .dataframe tbody tr th {\n        vertical-align: top;\n    }\n\n    .dataframe thead th {\n        text-align: right;\n    }\n</style>\n<table border=\"1\" class=\"dataframe\">\n  <thead>\n    <tr style=\"text-align: right;\">\n      <th></th>\n      <th>Unnamed: 0</th>\n      <th>Company name</th>\n      <th>Inactive</th>\n      <th>Quoted</th>\n      <th>Branch</th>\n      <th>OwnData</th>\n      <th>Woco</th>\n      <th>R/O Full Postcode</th>\n      <th>Primary UK SIC (2007) code</th>\n      <th>Primary trading address</th>\n      <th>Website</th>\n      <th>R/O Address</th>\n      <th>R/O Address, line 1</th>\n      <th>R/O Address, line 2</th>\n      <th>R/O Address, line 3</th>\n      <th>R/O Full Postcode.1</th>\n      <th>Primary trading address City</th>\n    </tr>\n  </thead>\n  <tbody>\n    <tr>\n      <th>3</th>\n      <td>4.0</td>\n      <td>S.T.C.S. LTD</td>\n      <td>No</td>\n      <td>No</td>\n      <td>No</td>\n      <td>No</td>\n      <td>No</td>\n      <td>NE8 3AH</td>\n      <td>62012.0</td>\n      <td>Gear House, Saltmeadows Road, Gateshead, Tyne ...</td>\n      <td>www.stcs.co.uk</td>\n      <td>Gear House, Saltmeadows Road, Gateshead, Tyne ...</td>\n      <td>Gear House</td>\n      <td>Saltmeadows Road</td>\n      <td>NaN</td>\n      <td>NE8 3AH</td>\n      <td>Gateshead</td>\n    </tr>\n    <tr>\n      <th>6</th>\n      <td>7.0</td>\n      <td>PANELTEXT LIMITED</td>\n      <td>No</td>\n      <td>No</td>\n      <td>No</td>\n      <td>No</td>\n      <td>No</td>\n      <td>NR31 9SE</td>\n      <td>71121.0</td>\n      <td>28A Sea View Rise, Hopton, Great Yarmouth, Nor...</td>\n      <td>www.paneltex.co.uk</td>\n      <td>28A Sea View Rise, Hopton, Great Yarmouth, Nor...</td>\n      <td>28A Sea View Rise</td>\n      <td>Hopton</td>\n      <td>NaN</td>\n      <td>NR31 9SE</td>\n      <td>Great Yarmouth</td>\n    </tr>\n    <tr>\n      <th>7</th>\n      <td>8.0</td>\n      <td>M CHAPMAN &amp; SONS (TEXTILES) LIMITED</td>\n      <td>No</td>\n      <td>No</td>\n      <td>No</td>\n      <td>No</td>\n      <td>No</td>\n      <td>OL14 6DF</td>\n      <td>46410.0</td>\n      <td>Bridgeroyd Works Halifax Road, Eastwood, Todmo...</td>\n      <td>www.brisbanemoss.co.uk</td>\n      <td>Bridgeroyd Works Halifax Road, Eastwood, Todmo...</td>\n      <td>Bridgeroyd Works Halifax Road</td>\n      <td>Eastwood</td>\n      <td>Todmorden</td>\n      <td>OL14 6DF</td>\n      <td>Todmorden</td>\n    </tr>\n    <tr>\n      <th>9</th>\n      <td>10.0</td>\n      <td>C.H. JEFFERSON &amp; CO. LIMITED</td>\n      <td>No</td>\n      <td>No</td>\n      <td>No</td>\n      <td>No</td>\n      <td>No</td>\n      <td>DN15 6JH</td>\n      <td>69201.0</td>\n      <td>Suite 1 the Limewood Suite, 4-5 Park Square, S...</td>\n      <td>www.chjefferson.com</td>\n      <td>Suite 1 the Limewood Suite, 4-5 Park Square, S...</td>\n      <td>Suite 1 the Limewood Suite</td>\n      <td>4-5 Park Square</td>\n      <td>NaN</td>\n      <td>DN15 6JH</td>\n      <td>Scunthorpe</td>\n    </tr>\n    <tr>\n      <th>10</th>\n      <td>11.0</td>\n      <td>FOXWOOD BORING AND GRINDING LIMITED</td>\n      <td>No</td>\n      <td>No</td>\n      <td>No</td>\n      <td>No</td>\n      <td>No</td>\n      <td>S41 9EY</td>\n      <td>25990.0</td>\n      <td>Unit 17, Whitting Valley Road, Old Whittington...</td>\n      <td>www.foxwooddiesel.com</td>\n      <td>Unit 17, Whitting Valley Road, Old Whittington...</td>\n      <td>Unit 17</td>\n      <td>Whitting Valley Road</td>\n      <td>Old Whittington</td>\n      <td>S41 9EY</td>\n      <td>Chesterfield</td>\n    </tr>\n    <tr>\n      <th>...</th>\n      <td>...</td>\n      <td>...</td>\n      <td>...</td>\n      <td>...</td>\n      <td>...</td>\n      <td>...</td>\n      <td>...</td>\n      <td>...</td>\n      <td>...</td>\n      <td>...</td>\n      <td>...</td>\n      <td>...</td>\n      <td>...</td>\n      <td>...</td>\n      <td>...</td>\n      <td>...</td>\n      <td>...</td>\n    </tr>\n    <tr>\n      <th>2767086</th>\n      <td>74988.0</td>\n      <td>J S PHOTOGRAPHY LIMITED</td>\n      <td>No</td>\n      <td>No</td>\n      <td>No</td>\n      <td>No</td>\n      <td>No</td>\n      <td>SO16 3QJ</td>\n      <td>74201.0</td>\n      <td>6 Northwood Close, Bassett, Southampton, Hamps...</td>\n      <td>www.julianporter.com</td>\n      <td>6 Northwood Close, Bassett, Southampton, Hamps...</td>\n      <td>6 Northwood Close</td>\n      <td>Bassett</td>\n      <td>NaN</td>\n      <td>SO16 3QJ</td>\n      <td>Southampton</td>\n    </tr>\n    <tr>\n      <th>2767087</th>\n      <td>74989.0</td>\n      <td>VOIRREY CRAFTS LIMITED</td>\n      <td>No</td>\n      <td>No</td>\n      <td>No</td>\n      <td>No</td>\n      <td>No</td>\n      <td>CH47 9RE</td>\n      <td>47510.0</td>\n      <td>Carr Farm Garden Centre Ltd, Birkenhead Road, ...</td>\n      <td>www.voirreycrafts.com</td>\n      <td>Carr Farm Garden Centre Ltd, Birkenhead Road, ...</td>\n      <td>Carr Farm Garden Centre Ltd</td>\n      <td>Birkenhead Road</td>\n      <td>Meols</td>\n      <td>CH47 9RE</td>\n      <td>Wirral</td>\n    </tr>\n    <tr>\n      <th>2767091</th>\n      <td>74993.0</td>\n      <td>FRANK AND DOLL LIMITED</td>\n      <td>No</td>\n      <td>No</td>\n      <td>No</td>\n      <td>No</td>\n      <td>No</td>\n      <td>GL51 6RB</td>\n      <td>47910.0</td>\n      <td>2 Tylea Close, The Reddings, Cheltenham, Glouc...</td>\n      <td>www.frankanddoll.com</td>\n      <td>2 Tylea Close, The Reddings, Cheltenham, Glouc...</td>\n      <td>2 Tylea Close</td>\n      <td>The Reddings</td>\n      <td>NaN</td>\n      <td>GL51 6RB</td>\n      <td>Cheltenham</td>\n    </tr>\n    <tr>\n      <th>2767092</th>\n      <td>74994.0</td>\n      <td>BENCHA LIMITED</td>\n      <td>No</td>\n      <td>No</td>\n      <td>No</td>\n      <td>No</td>\n      <td>No</td>\n      <td>CR2 0NP</td>\n      <td>69109.0</td>\n      <td>6 Purley Oaks Road, Sanderstead, South Croydon...</td>\n      <td>bencha-limited.6-purley-oaks-road.sanderstead....</td>\n      <td>6 Purley Oaks Road, Sanderstead, South Croydon...</td>\n      <td>6 Purley Oaks Road</td>\n      <td>Sanderstead</td>\n      <td>NaN</td>\n      <td>CR2 0NP</td>\n      <td>South Croydon</td>\n    </tr>\n    <tr>\n      <th>2767096</th>\n      <td>74998.0</td>\n      <td>I J GRIFFITHS LIMITED</td>\n      <td>No</td>\n      <td>No</td>\n      <td>No</td>\n      <td>No</td>\n      <td>No</td>\n      <td>SA34 0AA</td>\n      <td>41202.0</td>\n      <td>Wernddu, 1 King Edward Street, Whitland, Dyfed...</td>\n      <td>www.ijgriffiths-builders.co.uk</td>\n      <td>Wernddu, 1 King Edward Street, Whitland, Dyfed...</td>\n      <td>Wernddu</td>\n      <td>1 King Edward Street</td>\n      <td>NaN</td>\n      <td>SA34 0AA</td>\n      <td>Whitland</td>\n    </tr>\n  </tbody>\n</table>\n<p>1236446 rows × 17 columns</p>\n</div>",
      "text/plain": "         Unnamed: 0                         Company name Inactive Quoted  \\\n3               4.0                         S.T.C.S. LTD       No     No   \n6               7.0                    PANELTEXT LIMITED       No     No   \n7               8.0  M CHAPMAN & SONS (TEXTILES) LIMITED       No     No   \n9              10.0         C.H. JEFFERSON & CO. LIMITED       No     No   \n10             11.0  FOXWOOD BORING AND GRINDING LIMITED       No     No   \n...             ...                                  ...      ...    ...   \n2767086     74988.0              J S PHOTOGRAPHY LIMITED       No     No   \n2767087     74989.0               VOIRREY CRAFTS LIMITED       No     No   \n2767091     74993.0               FRANK AND DOLL LIMITED       No     No   \n2767092     74994.0                       BENCHA LIMITED       No     No   \n2767096     74998.0                I J GRIFFITHS LIMITED       No     No   \n\n        Branch OwnData Woco R/O Full Postcode  Primary UK SIC (2007) code  \\\n3           No      No   No           NE8 3AH                     62012.0   \n6           No      No   No          NR31 9SE                     71121.0   \n7           No      No   No          OL14 6DF                     46410.0   \n9           No      No   No          DN15 6JH                     69201.0   \n10          No      No   No           S41 9EY                     25990.0   \n...        ...     ...  ...               ...                         ...   \n2767086     No      No   No          SO16 3QJ                     74201.0   \n2767087     No      No   No          CH47 9RE                     47510.0   \n2767091     No      No   No          GL51 6RB                     47910.0   \n2767092     No      No   No           CR2 0NP                     69109.0   \n2767096     No      No   No          SA34 0AA                     41202.0   \n\n                                   Primary trading address  \\\n3        Gear House, Saltmeadows Road, Gateshead, Tyne ...   \n6        28A Sea View Rise, Hopton, Great Yarmouth, Nor...   \n7        Bridgeroyd Works Halifax Road, Eastwood, Todmo...   \n9        Suite 1 the Limewood Suite, 4-5 Park Square, S...   \n10       Unit 17, Whitting Valley Road, Old Whittington...   \n...                                                    ...   \n2767086  6 Northwood Close, Bassett, Southampton, Hamps...   \n2767087  Carr Farm Garden Centre Ltd, Birkenhead Road, ...   \n2767091  2 Tylea Close, The Reddings, Cheltenham, Glouc...   \n2767092  6 Purley Oaks Road, Sanderstead, South Croydon...   \n2767096  Wernddu, 1 King Edward Street, Whitland, Dyfed...   \n\n                                                   Website  \\\n3                                           www.stcs.co.uk   \n6                                       www.paneltex.co.uk   \n7                                   www.brisbanemoss.co.uk   \n9                                      www.chjefferson.com   \n10                                   www.foxwooddiesel.com   \n...                                                    ...   \n2767086                               www.julianporter.com   \n2767087                              www.voirreycrafts.com   \n2767091                               www.frankanddoll.com   \n2767092  bencha-limited.6-purley-oaks-road.sanderstead....   \n2767096                     www.ijgriffiths-builders.co.uk   \n\n                                               R/O Address  \\\n3        Gear House, Saltmeadows Road, Gateshead, Tyne ...   \n6        28A Sea View Rise, Hopton, Great Yarmouth, Nor...   \n7        Bridgeroyd Works Halifax Road, Eastwood, Todmo...   \n9        Suite 1 the Limewood Suite, 4-5 Park Square, S...   \n10       Unit 17, Whitting Valley Road, Old Whittington...   \n...                                                    ...   \n2767086  6 Northwood Close, Bassett, Southampton, Hamps...   \n2767087  Carr Farm Garden Centre Ltd, Birkenhead Road, ...   \n2767091  2 Tylea Close, The Reddings, Cheltenham, Glouc...   \n2767092  6 Purley Oaks Road, Sanderstead, South Croydon...   \n2767096  Wernddu, 1 King Edward Street, Whitland, Dyfed...   \n\n                   R/O Address, line 1   R/O Address, line 2  \\\n3                           Gear House      Saltmeadows Road   \n6                    28A Sea View Rise                Hopton   \n7        Bridgeroyd Works Halifax Road              Eastwood   \n9           Suite 1 the Limewood Suite       4-5 Park Square   \n10                             Unit 17  Whitting Valley Road   \n...                                ...                   ...   \n2767086              6 Northwood Close               Bassett   \n2767087    Carr Farm Garden Centre Ltd       Birkenhead Road   \n2767091                  2 Tylea Close          The Reddings   \n2767092             6 Purley Oaks Road           Sanderstead   \n2767096                        Wernddu  1 King Edward Street   \n\n        R/O Address, line 3 R/O Full Postcode.1 Primary trading address City  \n3                       NaN             NE8 3AH                    Gateshead  \n6                       NaN            NR31 9SE               Great Yarmouth  \n7                 Todmorden            OL14 6DF                    Todmorden  \n9                       NaN            DN15 6JH                   Scunthorpe  \n10          Old Whittington             S41 9EY                 Chesterfield  \n...                     ...                 ...                          ...  \n2767086                 NaN            SO16 3QJ                  Southampton  \n2767087               Meols            CH47 9RE                       Wirral  \n2767091                 NaN            GL51 6RB                   Cheltenham  \n2767092                 NaN             CR2 0NP                South Croydon  \n2767096                 NaN            SA34 0AA                     Whitland  \n\n[1236446 rows x 17 columns]"
     },
     "execution_count": 18,
     "metadata": {},
     "output_type": "execute_result"
    }
   ],
   "source": [
    "df"
   ]
  }
 ],
 "metadata": {
  "kernelspec": {
   "display_name": "Python 3.8.5 64-bit ('paper_2': conda)",
   "name": "python385jvsc74a57bd0729747d0122db2a952d19eb48a1d90c923cd363d098eb45399cbf83686d65c20"
  },
  "language_info": {
   "codemirror_mode": {
    "name": "ipython",
    "version": 3
   },
   "file_extension": ".py",
   "mimetype": "text/x-python",
   "name": "python",
   "nbconvert_exporter": "python",
   "pygments_lexer": "ipython3",
   "version": "3.8.5"
  },
  "orig_nbformat": 2
 },
 "nbformat": 4,
 "nbformat_minor": 2
}