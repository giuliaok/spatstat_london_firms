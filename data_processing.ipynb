{
 "cells": [
  {
   "cell_type": "code",
   "execution_count": 104,
   "metadata": {},
   "outputs": [],
   "source": [
    "import pandas as pd\n",
    "import glob\n",
    "import os\n",
    "import geopandas \n",
    "import geopy \n",
    "from geopy.geocoders import Nominatim\n"
   ]
  },
  {
   "cell_type": "code",
   "execution_count": 6,
   "metadata": {},
   "outputs": [],
   "source": [
    "data = pd.concat([pd.read_excel(f, 'Results') for f in glob.glob('/Users/gocchini/Desktop/lit_paper_3/data/*.xlsx')], ignore_index = True)"
   ]
  },
  {
   "cell_type": "code",
   "execution_count": 8,
   "metadata": {},
   "outputs": [],
   "source": [
    "data.to_pickle('/Users/gocchini/Desktop/lit_paper_3/data/data_almost_complete.pkl')"
   ]
  },
  {
   "cell_type": "code",
   "execution_count": 46,
   "metadata": {},
   "outputs": [],
   "source": [
    "london_postcodes = pd.read_csv('/Users/gocchini/Desktop/lit_paper_3/london_postcodes-ons-postcodes-directory-feb22.csv')"
   ]
  },
  {
   "cell_type": "code",
   "execution_count": 97,
   "metadata": {},
   "outputs": [],
   "source": [
    "def data_processing(data, london_data): \n",
    "    data = data.loc[(data['Inactive'] == 'No')]\n",
    "    data = data[data['Primary UK SIC (2007) code'].notna()]\n",
    "    data = data[data['Primary trading address'].notna()]\n",
    "    data = data.drop_duplicates(keep=False)\n",
    "    data['postcode'] = data['Primary trading address'].apply(lambda x: x.split(',')[-1])\n",
    "    data['postcode'] = data['postcode'].apply(lambda x: x[1:])\n",
    "    london_postcodes = london_data['pcd'].tolist()\n",
    "    london_df = data[data['postcode'].isin(london_postcodes)]\n",
    "    return london_df "
   ]
  },
  {
   "cell_type": "code",
   "execution_count": 100,
   "metadata": {},
   "outputs": [],
   "source": [
    "london_df = data_processing(data , london_postcodes)"
   ]
  },
  {
   "cell_type": "code",
   "execution_count": 135,
   "metadata": {},
   "outputs": [],
   "source": [
    "def coordinates_finder(address):\n",
    "    locator = Nominatim(user_agent='myGeocoder')\n",
    "    location = locator.geocode(address)\n",
    "    try:\n",
    "        coordinates = '{}, {}'.format(location.latitude, location.longitude)\n",
    "        print(coordinates)\n",
    "    except AttributeError:\n",
    "        coordinates = 'not found'\n",
    "    return coordinates"
   ]
  },
  {
   "cell_type": "code",
   "execution_count": null,
   "metadata": {},
   "outputs": [],
   "source": [
    "london_df['coordinates'] = london_df['Primary trading address'].apply(lambda x: coordinates_finder(x))"
   ]
  },
  {
   "cell_type": "markdown",
   "metadata": {},
   "source": [
    "https://data.london.gov.uk/dataset/postcode-directory-for-london"
   ]
  },
  {
   "cell_type": "code",
   "execution_count": null,
   "metadata": {},
   "outputs": [],
   "source": []
  }
 ],
 "metadata": {
  "kernelspec": {
   "display_name": "Python 3.8.5 64-bit ('paper_2': conda)",
   "name": "python385jvsc74a57bd0729747d0122db2a952d19eb48a1d90c923cd363d098eb45399cbf83686d65c20"
  },
  "language_info": {
   "name": "python",
   "version": ""
  },
  "orig_nbformat": 2
 },
 "nbformat": 4,
 "nbformat_minor": 2
}