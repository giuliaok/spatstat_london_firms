{
 "cells": [
  {
   "cell_type": "code",
   "execution_count": 2,
   "metadata": {},
   "outputs": [],
   "source": [
    "import pandas as pd\n",
    "import glob\n",
    "import os"
   ]
  },
  {
   "cell_type": "code",
   "execution_count": 6,
   "metadata": {},
   "outputs": [],
   "source": [
    "data = pd.concat([pd.read_excel(f, 'Results') for f in glob.glob('/Users/gocchini/Desktop/lit_paper_3/data/*.xlsx')], ignore_index = True)"
   ]
  },
  {
   "cell_type": "code",
   "execution_count": 8,
   "metadata": {},
   "outputs": [],
   "source": [
    "data.to_pickle('/Users/gocchini/Desktop/lit_paper_3/data/data_almost_complete.pkl')"
   ]
  },
  {
   "cell_type": "code",
   "execution_count": 46,
   "metadata": {},
   "outputs": [],
   "source": [
    "london_postcodes = pd.read_csv('/Users/gocchini/Desktop/lit_paper_3/london_postcodes-ons-postcodes-directory-feb22.csv')"
   ]
  },
  {
   "cell_type": "code",
   "execution_count": 97,
   "metadata": {},
   "outputs": [],
   "source": [
    "def data_processing(data, london_data): \n",
    "    data = data.loc[(data['Inactive'] == 'No')]\n",
    "    data = data[data['Primary UK SIC (2007) code'].notna()]\n",
    "    data = data[data['Primary trading address'].notna()]\n",
    "    data = data.drop_duplicates(keep=False)\n",
    "    data['postcode'] = data['Primary trading address'].apply(lambda x: x.split(',')[-1])\n",
    "    data['postcode'] = data['postcode'].apply(lambda x: x[1:])\n",
    "    london_postcodes = london_data['pcd'].tolist()\n",
    "    london_df = data[data['postcode'].isin(london_postcodes)]\n",
    "    return london_df \n",
    "\n"
   ]
  },
  {
   "cell_type": "code",
   "execution_count": 100,
   "metadata": {},
   "outputs": [],
   "source": [
    "london_df = data_processing(data , london_postcodes)"
   ]
  },
  {
   "cell_type": "code",
   "execution_count": 101,
   "metadata": {},
   "outputs": [
    {
     "data": {
      "text/html": "<div>\n<style scoped>\n    .dataframe tbody tr th:only-of-type {\n        vertical-align: middle;\n    }\n\n    .dataframe tbody tr th {\n        vertical-align: top;\n    }\n\n    .dataframe thead th {\n        text-align: right;\n    }\n</style>\n<table border=\"1\" class=\"dataframe\">\n  <thead>\n    <tr style=\"text-align: right;\">\n      <th></th>\n      <th>Unnamed: 0</th>\n      <th>Company name</th>\n      <th>Inactive</th>\n      <th>Quoted</th>\n      <th>Branch</th>\n      <th>OwnData</th>\n      <th>Woco</th>\n      <th>R/O Full Postcode</th>\n      <th>Primary UK SIC (2007) code</th>\n      <th>Primary trading address</th>\n      <th>Website</th>\n      <th>R/O Address</th>\n      <th>R/O Address, line 1</th>\n      <th>R/O Address, line 2</th>\n      <th>R/O Address, line 3</th>\n      <th>R/O Full Postcode.1</th>\n      <th>Primary trading address City</th>\n      <th>postcode</th>\n    </tr>\n  </thead>\n  <tbody>\n    <tr>\n      <th>43</th>\n      <td>44.0</td>\n      <td>KOKNI ORGANISATION LONDON LIMITED</td>\n      <td>No</td>\n      <td>No</td>\n      <td>No</td>\n      <td>No</td>\n      <td>No</td>\n      <td>NW9 0BA</td>\n      <td>88990.0</td>\n      <td>75 Coniston Gardens, London, London, NW9 0BA</td>\n      <td>www.kcl.org.uk</td>\n      <td>75 Coniston Gardens, London, NW9 0BA</td>\n      <td>75 Coniston Gardens</td>\n      <td>NaN</td>\n      <td>NaN</td>\n      <td>NW9 0BA</td>\n      <td>London</td>\n      <td>NW9 0BA</td>\n    </tr>\n    <tr>\n      <th>55</th>\n      <td>56.0</td>\n      <td>FOOD FOR ALL (LONDON) LIMITED</td>\n      <td>No</td>\n      <td>No</td>\n      <td>No</td>\n      <td>No</td>\n      <td>No</td>\n      <td>N16 6PA</td>\n      <td>47290.0</td>\n      <td>3 Cazenove Road, Stoke Newington, London, Lond...</td>\n      <td>www.foodforall.co.uk</td>\n      <td>3 Cazenove Road, Stoke Newington, London, N16 6PA</td>\n      <td>3 Cazenove Road</td>\n      <td>Stoke Newington</td>\n      <td>NaN</td>\n      <td>N16 6PA</td>\n      <td>London</td>\n      <td>N16 6PA</td>\n    </tr>\n    <tr>\n      <th>83</th>\n      <td>84.0</td>\n      <td>MOORE STEPHENS INTERNATIONAL LIMITED</td>\n      <td>No</td>\n      <td>No</td>\n      <td>No</td>\n      <td>No</td>\n      <td>No</td>\n      <td>SE1 3TQ</td>\n      <td>96090.0</td>\n      <td>5 Market Yard Mews, 194-204 Bermondsey Street,...</td>\n      <td>www.sequel.com</td>\n      <td>5 Market Yard Mews, 194-204 Bermondsey Street,...</td>\n      <td>5 Market Yard Mews</td>\n      <td>194-204 Bermondsey Street</td>\n      <td>NaN</td>\n      <td>SE1 3TQ</td>\n      <td>London</td>\n      <td>SE1 3TQ</td>\n    </tr>\n    <tr>\n      <th>86</th>\n      <td>87.0</td>\n      <td>VEROPAK LIMITED</td>\n      <td>No</td>\n      <td>No</td>\n      <td>No</td>\n      <td>No</td>\n      <td>No</td>\n      <td>DA1 4HY</td>\n      <td>28220.0</td>\n      <td>73 Swaisland Drive, Crayford, Dartford, Kent, ...</td>\n      <td>www.veropak.co.uk</td>\n      <td>73 Swaisland Drive, Crayford, Dartford, Kent, ...</td>\n      <td>73 Swaisland Drive</td>\n      <td>Crayford</td>\n      <td>NaN</td>\n      <td>DA1 4HY</td>\n      <td>Dartford</td>\n      <td>DA1 4HY</td>\n    </tr>\n    <tr>\n      <th>108</th>\n      <td>109.0</td>\n      <td>CHELLBROOK PROPERTIES LIMITED</td>\n      <td>No</td>\n      <td>No</td>\n      <td>No</td>\n      <td>No</td>\n      <td>No</td>\n      <td>KT6 4DX</td>\n      <td>68209.0</td>\n      <td>16 St. Philips Road, Surbiton, Surrey, KT6 4DX</td>\n      <td>www.chellbrook.co.uk</td>\n      <td>16 St. Philips Road, Surbiton, Surrey, KT6 4DX</td>\n      <td>16 St. Philips Road</td>\n      <td>NaN</td>\n      <td>NaN</td>\n      <td>KT6 4DX</td>\n      <td>Surbiton</td>\n      <td>KT6 4DX</td>\n    </tr>\n    <tr>\n      <th>...</th>\n      <td>...</td>\n      <td>...</td>\n      <td>...</td>\n      <td>...</td>\n      <td>...</td>\n      <td>...</td>\n      <td>...</td>\n      <td>...</td>\n      <td>...</td>\n      <td>...</td>\n      <td>...</td>\n      <td>...</td>\n      <td>...</td>\n      <td>...</td>\n      <td>...</td>\n      <td>...</td>\n      <td>...</td>\n      <td>...</td>\n    </tr>\n    <tr>\n      <th>2766971</th>\n      <td>74873.0</td>\n      <td>TOTALPLUS SERVICES LTD.</td>\n      <td>No</td>\n      <td>No</td>\n      <td>No</td>\n      <td>No</td>\n      <td>No</td>\n      <td>W1B 5TE</td>\n      <td>78109.0</td>\n      <td>c/o Gpc Financial Management, 423 Linen Hall, ...</td>\n      <td>www.totalpluscleaners.com</td>\n      <td>c/o Gpc Financial Management, 423 Linen Hall, ...</td>\n      <td>c/o Gpc Financial Management</td>\n      <td>423 Linen Hall</td>\n      <td>NaN</td>\n      <td>W1B 5TE</td>\n      <td>London</td>\n      <td>W1B 5TE</td>\n    </tr>\n    <tr>\n      <th>2767009</th>\n      <td>74911.0</td>\n      <td>M. K. WALSH LIMITED</td>\n      <td>No</td>\n      <td>No</td>\n      <td>No</td>\n      <td>No</td>\n      <td>No</td>\n      <td>EN4 8EB</td>\n      <td>43999.0</td>\n      <td>76 Alverstone Avenue, East Barnet, Barnet, Her...</td>\n      <td>www.billwalshstreator.com</td>\n      <td>76 Alverstone Avenue, East Barnet, Barnet, Her...</td>\n      <td>76 Alverstone Avenue</td>\n      <td>East Barnet</td>\n      <td>NaN</td>\n      <td>EN4 8EB</td>\n      <td>Barnet</td>\n      <td>EN4 8EB</td>\n    </tr>\n    <tr>\n      <th>2767041</th>\n      <td>74943.0</td>\n      <td>VITAS CONSTRUCTION LTD</td>\n      <td>No</td>\n      <td>No</td>\n      <td>No</td>\n      <td>No</td>\n      <td>No</td>\n      <td>HA3 7JP</td>\n      <td>41202.0</td>\n      <td>8 Fisher Road, Harrow, Middlesex, HA3 7JP</td>\n      <td>www.vita-construction.com</td>\n      <td>8 Fisher Road, Harrow, Middlesex, HA3 7JP</td>\n      <td>8 Fisher Road</td>\n      <td>NaN</td>\n      <td>NaN</td>\n      <td>HA3 7JP</td>\n      <td>Harrow</td>\n      <td>HA3 7JP</td>\n    </tr>\n    <tr>\n      <th>2767055</th>\n      <td>74957.0</td>\n      <td>GOLDSTAR DRY CLEANERS (UK) LIMITED</td>\n      <td>No</td>\n      <td>No</td>\n      <td>No</td>\n      <td>No</td>\n      <td>No</td>\n      <td>E14 7DL</td>\n      <td>96010.0</td>\n      <td>330 Burdett Road, London, London, E14 7DL</td>\n      <td>www.goldstardrycleaning.co.uk</td>\n      <td>330 Burdett Road, London, E14 7DL</td>\n      <td>330 Burdett Road</td>\n      <td>NaN</td>\n      <td>NaN</td>\n      <td>E14 7DL</td>\n      <td>London</td>\n      <td>E14 7DL</td>\n    </tr>\n    <tr>\n      <th>2767092</th>\n      <td>74994.0</td>\n      <td>BENCHA LIMITED</td>\n      <td>No</td>\n      <td>No</td>\n      <td>No</td>\n      <td>No</td>\n      <td>No</td>\n      <td>CR2 0NP</td>\n      <td>69109.0</td>\n      <td>6 Purley Oaks Road, Sanderstead, South Croydon...</td>\n      <td>bencha-limited.6-purley-oaks-road.sanderstead....</td>\n      <td>6 Purley Oaks Road, Sanderstead, South Croydon...</td>\n      <td>6 Purley Oaks Road</td>\n      <td>Sanderstead</td>\n      <td>NaN</td>\n      <td>CR2 0NP</td>\n      <td>South Croydon</td>\n      <td>CR2 0NP</td>\n    </tr>\n  </tbody>\n</table>\n<p>125592 rows × 18 columns</p>\n</div>",
      "text/plain": "         Unnamed: 0                          Company name Inactive Quoted  \\\n43             44.0     KOKNI ORGANISATION LONDON LIMITED       No     No   \n55             56.0         FOOD FOR ALL (LONDON) LIMITED       No     No   \n83             84.0  MOORE STEPHENS INTERNATIONAL LIMITED       No     No   \n86             87.0                       VEROPAK LIMITED       No     No   \n108           109.0         CHELLBROOK PROPERTIES LIMITED       No     No   \n...             ...                                   ...      ...    ...   \n2766971     74873.0               TOTALPLUS SERVICES LTD.       No     No   \n2767009     74911.0                   M. K. WALSH LIMITED       No     No   \n2767041     74943.0                VITAS CONSTRUCTION LTD       No     No   \n2767055     74957.0    GOLDSTAR DRY CLEANERS (UK) LIMITED       No     No   \n2767092     74994.0                        BENCHA LIMITED       No     No   \n\n        Branch OwnData Woco R/O Full Postcode  Primary UK SIC (2007) code  \\\n43          No      No   No           NW9 0BA                     88990.0   \n55          No      No   No           N16 6PA                     47290.0   \n83          No      No   No           SE1 3TQ                     96090.0   \n86          No      No   No           DA1 4HY                     28220.0   \n108         No      No   No           KT6 4DX                     68209.0   \n...        ...     ...  ...               ...                         ...   \n2766971     No      No   No           W1B 5TE                     78109.0   \n2767009     No      No   No           EN4 8EB                     43999.0   \n2767041     No      No   No           HA3 7JP                     41202.0   \n2767055     No      No   No           E14 7DL                     96010.0   \n2767092     No      No   No           CR2 0NP                     69109.0   \n\n                                   Primary trading address  \\\n43            75 Coniston Gardens, London, London, NW9 0BA   \n55       3 Cazenove Road, Stoke Newington, London, Lond...   \n83       5 Market Yard Mews, 194-204 Bermondsey Street,...   \n86       73 Swaisland Drive, Crayford, Dartford, Kent, ...   \n108         16 St. Philips Road, Surbiton, Surrey, KT6 4DX   \n...                                                    ...   \n2766971  c/o Gpc Financial Management, 423 Linen Hall, ...   \n2767009  76 Alverstone Avenue, East Barnet, Barnet, Her...   \n2767041          8 Fisher Road, Harrow, Middlesex, HA3 7JP   \n2767055          330 Burdett Road, London, London, E14 7DL   \n2767092  6 Purley Oaks Road, Sanderstead, South Croydon...   \n\n                                                   Website  \\\n43                                          www.kcl.org.uk   \n55                                    www.foodforall.co.uk   \n83                                          www.sequel.com   \n86                                       www.veropak.co.uk   \n108                                   www.chellbrook.co.uk   \n...                                                    ...   \n2766971                          www.totalpluscleaners.com   \n2767009                          www.billwalshstreator.com   \n2767041                          www.vita-construction.com   \n2767055                      www.goldstardrycleaning.co.uk   \n2767092  bencha-limited.6-purley-oaks-road.sanderstead....   \n\n                                               R/O Address  \\\n43                    75 Coniston Gardens, London, NW9 0BA   \n55       3 Cazenove Road, Stoke Newington, London, N16 6PA   \n83       5 Market Yard Mews, 194-204 Bermondsey Street,...   \n86       73 Swaisland Drive, Crayford, Dartford, Kent, ...   \n108         16 St. Philips Road, Surbiton, Surrey, KT6 4DX   \n...                                                    ...   \n2766971  c/o Gpc Financial Management, 423 Linen Hall, ...   \n2767009  76 Alverstone Avenue, East Barnet, Barnet, Her...   \n2767041          8 Fisher Road, Harrow, Middlesex, HA3 7JP   \n2767055                  330 Burdett Road, London, E14 7DL   \n2767092  6 Purley Oaks Road, Sanderstead, South Croydon...   \n\n                  R/O Address, line 1        R/O Address, line 2  \\\n43                75 Coniston Gardens                        NaN   \n55                    3 Cazenove Road            Stoke Newington   \n83                 5 Market Yard Mews  194-204 Bermondsey Street   \n86                 73 Swaisland Drive                   Crayford   \n108               16 St. Philips Road                        NaN   \n...                               ...                        ...   \n2766971  c/o Gpc Financial Management             423 Linen Hall   \n2767009          76 Alverstone Avenue                East Barnet   \n2767041                 8 Fisher Road                        NaN   \n2767055              330 Burdett Road                        NaN   \n2767092            6 Purley Oaks Road                Sanderstead   \n\n        R/O Address, line 3 R/O Full Postcode.1 Primary trading address City  \\\n43                      NaN             NW9 0BA                       London   \n55                      NaN             N16 6PA                       London   \n83                      NaN             SE1 3TQ                       London   \n86                      NaN             DA1 4HY                     Dartford   \n108                     NaN             KT6 4DX                     Surbiton   \n...                     ...                 ...                          ...   \n2766971                 NaN             W1B 5TE                       London   \n2767009                 NaN             EN4 8EB                       Barnet   \n2767041                 NaN             HA3 7JP                       Harrow   \n2767055                 NaN             E14 7DL                       London   \n2767092                 NaN             CR2 0NP                South Croydon   \n\n        postcode  \n43       NW9 0BA  \n55       N16 6PA  \n83       SE1 3TQ  \n86       DA1 4HY  \n108      KT6 4DX  \n...          ...  \n2766971  W1B 5TE  \n2767009  EN4 8EB  \n2767041  HA3 7JP  \n2767055  E14 7DL  \n2767092  CR2 0NP  \n\n[125592 rows x 18 columns]"
     },
     "execution_count": 101,
     "metadata": {},
     "output_type": "execute_result"
    }
   ],
   "source": [
    "london_df"
   ]
  },
  {
   "cell_type": "code",
   "execution_count": 30,
   "metadata": {},
   "outputs": [],
   "source": [
    "import geopandas \n",
    "import geopy\n"
   ]
  },
  {
   "cell_type": "code",
   "execution_count": 32,
   "metadata": {},
   "outputs": [],
   "source": [
    "locator = geopy.geocoders.Nominatim(user_agent='myGeocoder')"
   ]
  },
  {
   "cell_type": "code",
   "execution_count": 33,
   "metadata": {},
   "outputs": [
    {
     "data": {
      "text/plain": "<geopy.geocoders.nominatim.Nominatim at 0x7fa971cad970>"
     },
     "execution_count": 33,
     "metadata": {},
     "output_type": "execute_result"
    }
   ],
   "source": [
    "locator"
   ]
  },
  {
   "cell_type": "code",
   "execution_count": 35,
   "metadata": {},
   "outputs": [],
   "source": [
    "location = locator.geocode('Champ de Mars, Paris, France')"
   ]
  },
  {
   "cell_type": "code",
   "execution_count": 36,
   "metadata": {},
   "outputs": [
    {
     "data": {
      "text/plain": "Location(Champ de Mars, Rue de la Fédération, Quartier de Grenelle, Paris 15e Arrondissement, Paris, Île-de-France, France métropolitaine, 75015, France, (48.85614465, 2.297820393322227, 0.0))"
     },
     "execution_count": 36,
     "metadata": {},
     "output_type": "execute_result"
    }
   ],
   "source": [
    "location"
   ]
  },
  {
   "cell_type": "code",
   "execution_count": 38,
   "metadata": {},
   "outputs": [
    {
     "name": "stdout",
     "output_type": "stream",
     "text": [
      "Latitude = 48.85614465, Longitude = 2.297820393322227\n"
     ]
    }
   ],
   "source": [
    "print('Latitude = {}, Longitude = {}'.format(location.latitude, location.longitude))"
   ]
  },
  {
   "cell_type": "markdown",
   "metadata": {},
   "source": [
    "https://data.london.gov.uk/dataset/postcode-directory-for-london"
   ]
  },
  {
   "cell_type": "code",
   "execution_count": null,
   "metadata": {},
   "outputs": [],
   "source": []
  }
 ],
 "metadata": {
  "kernelspec": {
   "display_name": "Python 3.8.5 64-bit ('paper_2': conda)",
   "name": "python385jvsc74a57bd0729747d0122db2a952d19eb48a1d90c923cd363d098eb45399cbf83686d65c20"
  },
  "language_info": {
   "codemirror_mode": {
    "name": "ipython",
    "version": 3
   },
   "file_extension": ".py",
   "mimetype": "text/x-python",
   "name": "python",
   "nbconvert_exporter": "python",
   "pygments_lexer": "ipython3",
   "version": "3.8.5"
  },
  "orig_nbformat": 2
 },
 "nbformat": 4,
 "nbformat_minor": 2
}